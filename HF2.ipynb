{
  "nbformat": 4,
  "nbformat_minor": 0,
  "metadata": {
    "colab": {
      "name": "HF2.ipynb",
      "provenance": [],
      "collapsed_sections": [],
      "authorship_tag": "ABX9TyNowqht7T1T09gb1tIYIDGK",
      "include_colab_link": true
    },
    "kernelspec": {
      "name": "python3",
      "display_name": "Python 3"
    }
  },
  "cells": [
    {
      "cell_type": "markdown",
      "metadata": {
        "id": "view-in-github",
        "colab_type": "text"
      },
      "source": [
        "<a href=\"https://colab.research.google.com/gist/szemenyeim/4ec77ba09142a66670907508aa411af8/hf2.ipynb\" target=\"_parent\"><img src=\"https://colab.research.google.com/assets/colab-badge.svg\" alt=\"Open In Colab\"/></a>"
      ]
    },
    {
      "cell_type": "markdown",
      "metadata": {
        "id": "bgexO14zLS-J",
        "colab_type": "text"
      },
      "source": [
        "#Deep Learning Alkalmazása a Vizuális Informatikában\n",
        "##2. Házi Feladat\n",
        "\n",
        "###1. Rész\n",
        "\n",
        "Valósíts meg egy paraméterezhető konvolúciós neurális hálózatot, amely osztályozásra képes. A hálózat paraméterei a következők:\n",
        "\n",
        "\n",
        "*   nC: Az osztályok száma\n",
        "*   nFeat: Az első réteg kimeneti csatornaszáma. Az ezt követő rétegek be- és kimeneti csatornaszáma egyezzen ezzel meg, majd minden leskálázó (strided konvolúciós) réteg duplázza ezt meg.\n",
        "*   nLevels: A háló szintjeinek száma. Egy szintnek az azonos térbeli kiterjedésű tenzorokon operáló rétegeket nevezzük (2 leskálázás közt). (Tipp: használj adaptív poolingot az osztályozó réteg előtt, hogy a változó szint szám ne okozzon problémát.)\n",
        "*   layersPerLevel: Az egy szinten található konvolúciós rétegek száma.\n",
        "*   kernelSize: A konvolúciós rétegek mérete.\n",
        "*   nLinType: Kategorikus változó, amellyel a nemlinearitás típusát állíthatja (hogy hány és milyen függvények közül lehet választani önre van bízva)\n",
        "*   bNorm: Bináris változó, amellyel állítható, hogy a konvolúciós rétegekbe teszünk-e BatchNormot.\n",
        "*   dropOut: Az osztályozó réteget közvetlenül megelőző dropout réteg bemeneti valószínűsége\n",
        "*   residual: Bináris változó, True érték esetén minden szinten valósíts meg egy reziduális kapcsolatot a szint bemenete és a szint végén megjelenő leskálázó réteg bemenete közt.\n",
        "\n",
        "Tipp: Érdemes ehhez írni először két külön modult, ami egy réteget (batchnormmal, dropouttal és nemlinearitással) valósít meg és egyet, ami meg ezekből egy szintet legózik össze. Ezekből aránylag könnyen összelegózható a háló.\n",
        "\n",
        "Tipp 2: A PyTorchnak van nn.ModuleList osztálya. Ez egy lista, amiben rétegek vannak, de ha sima lista változóba tesztek egyszerre több nn.Module-t, annak az optimizer nem fogja megkapni. Ez azért van, mert amikor egy nn.Module-tól leszármazó osztálytól elkéritek a .parameters()-t, akkor az végignézi az objektum összes tagváltozót, hogy van-e neki .parameters() függvénye (és ezt szépen rekurzívan végigcsinálja). A Listának pedig nincs, hiába vannak benne olyan elemek, amiknek van. +1: van nn.Sequential is, ami ugyanaz, csak a forward függvénye is felül van csapva, és szépen sorban meghívja a belül lévő rétegeket.\n",
        "\n"
      ]
    },
    {
      "cell_type": "code",
      "metadata": {
        "id": "M-0HhmjRLRGv",
        "colab_type": "code",
        "colab": {}
      },
      "source": [
        ""
      ],
      "execution_count": 0,
      "outputs": []
    },
    {
      "cell_type": "markdown",
      "metadata": {
        "id": "fFVaU6FBTQ5W",
        "colab_type": "text"
      },
      "source": [
        "###2. Rész\n",
        "\n",
        "Valósíts meg egy paraméterezhető neurális háló tanító függvényt. \n",
        "\n",
        "A függvény bemenetként megkapja a fenti neurális háló megkostruálásához szükséges paramétereket, az összes random seedet 42 értékre állítja, majd végrehajtja a neurális háló tanítását a CIFAR10 adatbázison.\n",
        "\n",
        "Használj Adam optimizert és Cosine Annealing tanulási ráta ütemezőt.\n",
        "\n",
        "A tanítás során minden epoch után validálj, és jegyezd fel a legjobb validációs pontosságot, és a tanítás végén ezt add vissza.\n",
        "\n",
        "A függvénynek további bemeneti paraméterei:\n",
        "\n",
        "*   bSize: A bacth méret\n",
        "*   lr: a tanulási ráta\n",
        "*   lr_ratio: a tanulási ráta ütemező eta_min paramétere és a kezdeti tanulási ráta hányadosa\n",
        "*   numEpoch: az epochok száma\n",
        "*   decay: a weight_decay paraméter értéke\n",
        "\n"
      ]
    },
    {
      "cell_type": "code",
      "metadata": {
        "id": "wsZhpkP1UaV8",
        "colab_type": "code",
        "colab": {}
      },
      "source": [
        ""
      ],
      "execution_count": 0,
      "outputs": []
    },
    {
      "cell_type": "markdown",
      "metadata": {
        "id": "m5qRygZGUata",
        "colab_type": "text"
      },
      "source": [
        "###3. Rész\n",
        "\n",
        "Valósíts meg hiperparaméter optimalizálást a Bayesian Optimization python könyvtár felhasználásával. A könyvtár itt érhető el: https://github.com/fmfn/BayesianOptimization\n",
        "\n",
        "A megoldás során a következőkre ügyelj:\n",
        "\n",
        "\n",
        "1.   A kezdeti random lépések száma legyen kb egyenlő a szabad paraméterek számának felével (5-6)\n",
        "2.   Az teljes lépésszám legyen ennek tízszerese (50-60)\n",
        "3.   Mivel a Bayesian Optimization függvény a bináris/diszkrét/integer paramétereket nem támogatja, ezért a folytonos értékek megfelelő konverziója az előző feladatrészben megvalósított függvény feladata.\n",
        "4.   Vannak persze olyan paraméterek, amiket nem kell optimalizálni (pl.: BatchNorm ami True, vagy az nClass ami 10 CIFAR10 esetében)\n",
        "5.   Az egyes paraméterek tartományát nektek kell ésszerűen meghatározni.\n",
        "6.   Az epochok közben menő progress barokat meg kiíratásokat érdemes eltüntetni, a Bayesian opt majd fog írogatni\n",
        "7.   Mivel ez sokáig tart érdemes ellenőrizni kevés adaton (van külön erre Sampler, amit a DataLoader-nek lehet átadni), hogy sikerül-e az overfitting.\n",
        "8.   Referenciaként, a CIFAR10-en olyan 91-2% pontosság az elfogadható, 95% számít jónak és 97%+ a state-of-the-art. Ezt persze a kis adatokon nem fogjátok elérni, mert az overfittinges.\n",
        "\n"
      ]
    },
    {
      "cell_type": "code",
      "metadata": {
        "id": "hlgA34c2VQ0F",
        "colab_type": "code",
        "colab": {}
      },
      "source": [
        ""
      ],
      "execution_count": 0,
      "outputs": []
    }
  ]
}