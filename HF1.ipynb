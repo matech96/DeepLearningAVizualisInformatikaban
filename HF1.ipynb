{
  "nbformat": 4,
  "nbformat_minor": 0,
  "metadata": {
    "colab": {
      "name": "HF1.ipynb",
      "provenance": [],
      "collapsed_sections": [],
      "include_colab_link": true
    },
    "kernelspec": {
      "name": "python3",
      "display_name": "Python 3"
    }
  },
  "cells": [
    {
      "cell_type": "markdown",
      "metadata": {
        "id": "view-in-github",
        "colab_type": "text"
      },
      "source": [
        "<a href=\"https://colab.research.google.com/github/matech96/DeepLearningAVizualisInformatikaban/blob/master/HF1.ipynb\" target=\"_parent\"><img src=\"https://colab.research.google.com/assets/colab-badge.svg\" alt=\"Open In Colab\"/></a>"
      ]
    },
    {
      "cell_type": "markdown",
      "metadata": {
        "id": "Gjmy-bF_A3zL",
        "colab_type": "text"
      },
      "source": [
        "#Deep Learning Alkalmazása a Vizuális Informatikában \n",
        "##1. Házi feladat\n",
        "\n",
        "**Fontos tudnivalók**\n",
        "\n",
        "*   A házi feladatot önállóan kell elvégezni. Teljes megoldások máshonnan történő másolása nem elfogadható.\n",
        "*   Ez a notebook egyben megoldás és dokumentáció. Az eredményeket értékeljétek ki, printelgessetek, ahhoz fűzzetek szépen megszerkesztett kommentárokat, stb.\n",
        "*   Egy rész feladatot nem kell egyetlen kód blokkban megoldani. Sokkal szebb és struktúráltab lesz a munka, ha logikailag összetartozó egységekre bontjátok és azokat szépen egyesével magyarázzátok.\n",
        "*   A házi feladat elkészítésére 3 hét áll rendelkezésetekre. Beadni az Edu portálon lehet. A határidő Március 12. 12:00.\n",
        "\n",
        "### 1. Rész\n",
        "\n",
        "Implementálj PyTorch-ban 2D konvolúciós réteget az NN, valamint a Functional modulok használata nélkül. A réteg konstruktorának a következő bemeneti paraméterei legyenek:\n",
        "\n",
        "\n",
        "*   Kernel méret (n)\n",
        "*   Bemeneti csatornaszám (inCH)\n",
        "*   Kimeneti csatornaszám (oCH)\n",
        "\n",
        "A rétegnek legyen forward függvénye, amelyben megkap egy [inCH x H x W] méretű tenzort, ahol H és W nem ismertek előre. A kimenete pedig legyen [oCH x H x W] (használj a kernel mérethez megfelelő paddinget).\n",
        "\n"
      ]
    },
    {
      "cell_type": "code",
      "metadata": {
        "id": "15wCG5KWA2gr",
        "colab_type": "code",
        "colab": {}
      },
      "source": [
        "import torch\n",
        "from torch import nn\n",
        "import numpy as np\n",
        "import matplotlib.pyplot as plt\n",
        "\n",
        "\n",
        "class Conv():\n",
        "  def __init__(self, n, inCH, oCH):\n",
        "    self.n = n\n",
        "    self.inCH = inCH\n",
        "    self.oCH = oCH\n",
        "    self.W = torch.Tensor(np.random.randn(oCH,inCH,n,n)).requires_grad_(True)\n",
        "\n",
        "  def forward(self, x):\n",
        "    pad = self.n // 2\n",
        "    x_ = torch.zeros(1,self.inCH,x.shape[2]+2*pad,x.shape[3]+2*pad).requires_grad_(False)\n",
        "    x_[0, :, pad:-pad, pad:-pad] = x\n",
        "    res = torch.zeros(1,self.oCH,x.shape[2],x.shape[3]).requires_grad_(False)\n",
        "    for i in range(x_.shape[2] - self.n + 1):\n",
        "      for j in range(x_.shape[3] - self.n + 1):\n",
        "        res[0, :, i, j] = torch.addmv(torch.zeros(self.oCH), torch.reshape(self.W, (self.oCH, -1)), torch.reshape(x_[0, :, i:i+self.n, j:j+self.n], ((-1, ))))\n",
        "    return res"
      ],
      "execution_count": 0,
      "outputs": []
    },
    {
      "cell_type": "code",
      "metadata": {
        "id": "adhFWxjLOmEB",
        "colab_type": "code",
        "colab": {
          "base_uri": "https://localhost:8080/",
          "height": 282
        },
        "outputId": "af3fe50d-8fbe-4561-a09d-a8629162c5b9"
      },
      "source": [
        "myconv = Conv(n = 5, inCH = 3, oCH = 1)\n",
        "\n",
        "plt.imshow(myconv.forward(torch.Tensor(np.random.randn(1,3,8,8)).requires_grad_(False)).detach().numpy()[0,0,:,:])"
      ],
      "execution_count": 4,
      "outputs": [
        {
          "output_type": "execute_result",
          "data": {
            "text/plain": [
              "<matplotlib.image.AxesImage at 0x7fc95fa3a5c0>"
            ]
          },
          "metadata": {
            "tags": []
          },
          "execution_count": 4
        },
        {
          "output_type": "display_data",
          "data": {
            "image/png": "[encoded data removed]",
            "text/plain": [
              "<Figure size 432x288 with 1 Axes>"
            ]
          },
          "metadata": {
            "tags": []
          }
        }
      ]
    },
    {
      "cell_type": "markdown",
      "metadata": {
        "id": "cICNrzbNJkkz",
        "colab_type": "text"
      },
      "source": [
        "###2. Rész\n",
        "\n",
        "Amennyiben az implementáció elkészült, ellenőrizd az implementáció helyességét a PyTorch Conv2d modulja segítségével! (Tipp: Használj többfajta konfigurációt!)\n",
        "https://pytorch.org/docs/stable/nn.html#conv2d"
      ]
    },
    {
      "cell_type": "code",
      "metadata": {
        "id": "MakKK_lrJztm",
        "colab_type": "code",
        "colab": {}
      },
      "source": [
        ""
      ],
      "execution_count": 0,
      "outputs": []
    },
    {
      "cell_type": "markdown",
      "metadata": {
        "id": "I5HXFkqaKYAp",
        "colab_type": "text"
      },
      "source": [
        "###3. Rész\n",
        "\n",
        "Hozz létre egy egy bemeneti csatornás konvolúciós réteget, amelynek az egyes kimeneti csatornákhoz tartozó szűrőinek súlyait inicializáld véletlenszerűen. (A kimeneti csatornák száma legyen mondjuk 3.)\n",
        "\n",
        "Ezt követően olvass be egy képet, szürkeárnyalatosítsd, és futtass le OpenCV segítségével 3 általad választott konvolúciós szűrőt!\n",
        "\n",
        "Végezetül tanítsd be arra a létrehozott konvolúciós réteget, hogy az OpenCV-s szűréseket minél pontosabban reprodukálni tudja. Vizsgáld meg az eredményként kapott szűrőket! (Tipp: Az OpenCV-vel szűrt képeket használd referenciaként, mondjuk a négyzetes hiba költséggel. Több képet egy tömbbe összepakolni np.stack segítségével lehet.)"
      ]
    },
    {
      "cell_type": "code",
      "metadata": {
        "id": "5PO015ozLIgT",
        "colab_type": "code",
        "colab": {}
      },
      "source": [
        ""
      ],
      "execution_count": 0,
      "outputs": []
    }
  ]
}