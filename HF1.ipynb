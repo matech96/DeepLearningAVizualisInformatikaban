{
 "cells": [
  {
   "cell_type": "markdown",
   "metadata": {
    "colab_type": "text",
    "id": "view-in-github"
   },
   "source": [
    "<a href=\"https://colab.research.google.com/github/matech96/DeepLearningAVizualisInformatikaban/blob/master/HF1.ipynb\" target=\"_parent\"><img src=\"https://colab.research.google.com/assets/colab-badge.svg\" alt=\"Open In Colab\"/></a>"
   ]
  },
  {
   "cell_type": "code",
   "execution_count": 1,
   "metadata": {
    "colab": {
     "base_uri": "https://localhost:8080/",
     "height": 973
    },
    "colab_type": "code",
    "id": "GyV6HUixpnJ7",
    "outputId": "65a35e33-43f8-4074-bfd2-5cbf3a3e2d63"
   },
   "outputs": [
    {
     "name": "stdout",
     "output_type": "stream",
     "text": [
      "Collecting pytorch-lightning\n",
      "  Downloading https://files.pythonhosted.org/packages/61/9e/db4e1e3036e045a25d5c37617ded31a673a61f4befc62c5231818810b3a7/pytorch-lightning-0.7.1.tar.gz (6.0MB)\n",
      "Requirement already satisfied: tqdm>=4.35.0 in c:\\programdata\\anaconda3\\lib\\site-packages (from pytorch-lightning) (4.40.2)\n",
      "Requirement already satisfied: numpy>=1.16.4 in c:\\programdata\\anaconda3\\lib\\site-packages (from pytorch-lightning) (1.18.1)\n",
      "Requirement already satisfied: torch>=1.1 in c:\\programdata\\anaconda3\\lib\\site-packages (from pytorch-lightning) (1.4.0)\n",
      "Requirement already satisfied: tensorboard>=1.14 in c:\\programdata\\anaconda3\\lib\\site-packages (from pytorch-lightning) (1.15.0)\n",
      "Requirement already satisfied: future>=0.17.1 in c:\\programdata\\anaconda3\\lib\\site-packages (from pytorch-lightning) (0.18.2)\n",
      "Requirement already satisfied: six>=1.10.0 in c:\\programdata\\anaconda3\\lib\\site-packages (from tensorboard>=1.14->pytorch-lightning) (1.13.0)\n",
      "Requirement already satisfied: absl-py>=0.4 in c:\\programdata\\anaconda3\\lib\\site-packages (from tensorboard>=1.14->pytorch-lightning) (0.8.0)\n",
      "Requirement already satisfied: markdown>=2.6.8 in c:\\programdata\\anaconda3\\lib\\site-packages (from tensorboard>=1.14->pytorch-lightning) (3.1.1)\n",
      "Requirement already satisfied: wheel>=0.26; python_version >= \"3\" in c:\\programdata\\anaconda3\\lib\\site-packages (from tensorboard>=1.14->pytorch-lightning) (0.33.6)\n",
      "Requirement already satisfied: werkzeug>=0.11.15 in c:\\programdata\\anaconda3\\lib\\site-packages (from tensorboard>=1.14->pytorch-lightning) (0.16.0)\n",
      "Requirement already satisfied: protobuf>=3.6.0 in c:\\programdata\\anaconda3\\lib\\site-packages (from tensorboard>=1.14->pytorch-lightning) (3.9.1)\n",
      "Requirement already satisfied: grpcio>=1.6.3 in c:\\programdata\\anaconda3\\lib\\site-packages (from tensorboard>=1.14->pytorch-lightning) (1.27.2)\n",
      "Requirement already satisfied: setuptools>=41.0.0 in c:\\programdata\\anaconda3\\lib\\site-packages (from tensorboard>=1.14->pytorch-lightning) (42.0.2.post20191203)\n",
      "Building wheels for collected packages: pytorch-lightning\n",
      "  Building wheel for pytorch-lightning (setup.py): started\n",
      "  Building wheel for pytorch-lightning (setup.py): finished with status 'done'\n",
      "  Created wheel for pytorch-lightning: filename=pytorch_lightning-0.7.1-cp37-none-any.whl size=145312 sha256=d35c50a87a19a1ed178959a12a41aa1b242605caad7a61e127f402534b8637ae\n",
      "  Stored in directory: C:\\Users\\gango\\AppData\\Local\\pip\\Cache\\wheels\\dc\\93\\61\\14094d2116ff739513dda993007501ae5701b78386b39d5912\n",
      "Successfully built pytorch-lightning\n",
      "Installing collected packages: pytorch-lightning\n",
      "Successfully installed pytorch-lightning-0.7.1\n"
     ]
    }
   ],
   "source": [
    "!pip install pytorch-lightning"
   ]
  },
  {
   "cell_type": "markdown",
   "metadata": {
    "colab_type": "text",
    "id": "Gjmy-bF_A3zL"
   },
   "source": [
    "# Deep Learning Alkalmazása a Vizuális Informatikában \n",
    "## 1. Házi feladat\n",
    "\n",
    "**Fontos tudnivalók**\n",
    "\n",
    "*   A házi feladatot önállóan kell elvégezni. Teljes megoldások máshonnan történő másolása nem elfogadható.\n",
    "*   Ez a notebook egyben megoldás és dokumentáció. Az eredményeket értékeljétek ki, printelgessetek, ahhoz fűzzetek szépen megszerkesztett kommentárokat, stb.\n",
    "*   Egy rész feladatot nem kell egyetlen kód blokkban megoldani. Sokkal szebb és struktúráltab lesz a munka, ha logikailag összetartozó egységekre bontjátok és azokat szépen egyesével magyarázzátok.\n",
    "*   A házi feladat elkészítésére 3 hét áll rendelkezésetekre. Beadni az Edu portálon lehet. A határidő Március 12. 12:00.\n",
    "\n",
    "### 1. Rész\n",
    "\n",
    "Implementálj PyTorch-ban 2D konvolúciós réteget az NN, valamint a Functional modulok használata nélkül. A réteg konstruktorának a következő bemeneti paraméterei legyenek:\n",
    "\n",
    "\n",
    "*   Kernel méret (n)\n",
    "*   Bemeneti csatornaszám (inCH)\n",
    "*   Kimeneti csatornaszám (oCH)\n",
    "\n",
    "A rétegnek legyen forward függvénye, amelyben megkap egy [inCH x H x W] méretű tenzort, ahol H és W nem ismertek előre. A kimenete pedig legyen [oCH x H x W] (használj a kernel mérethez megfelelő paddinget).\n",
    "\n"
   ]
  },
  {
   "cell_type": "code",
   "execution_count": 40,
   "metadata": {
    "colab": {},
    "colab_type": "code",
    "id": "15wCG5KWA2gr"
   },
   "outputs": [],
   "source": [
    "import torch\n",
    "from torch import nn\n",
    "import numpy as np\n",
    "import matplotlib.pyplot as plt\n",
    "\n",
    "\n",
    "class Conv():\n",
    "  def __init__(self, n, inCH, oCH):\n",
    "    self.n = n\n",
    "    self.inCH = inCH\n",
    "    self.oCH = oCH\n",
    "    self.W = torch.Tensor(np.random.randn(oCH,inCH,n,n)).requires_grad_(True)\n",
    "\n",
    "  def __call__(self, x):\n",
    "    return self.forward(x)\n",
    "\n",
    "  def parameters(self):\n",
    "    yield self.W\n",
    "\n",
    "  def forward(self, x):\n",
    "    pad = self.n // 2\n",
    "    x_ = torch.zeros(1,self.inCH,x.shape[2]+2*pad,x.shape[3]+2*pad).requires_grad_(False)\n",
    "    if pad != 0:\n",
    "      x_[:, :, pad:-pad, pad:-pad] = x\n",
    "    else:\n",
    "      x_ = x\n",
    "    res = torch.zeros(1,self.oCH,x.shape[2],x.shape[3]).requires_grad_(False)\n",
    "    for i in range(x_.shape[2] - self.n + 1):\n",
    "      for j in range(x_.shape[3] - self.n + 1):\n",
    "        res[0, :, i, j] = torch.addmv(torch.zeros(self.oCH), torch.reshape(self.W, (self.oCH, -1)), torch.reshape(x_[0, :, i:i+self.n, j:j+self.n], ((-1, ))))\n",
    "    return res\n",
    "\n",
    "  "
   ]
  },
  {
   "cell_type": "markdown",
   "metadata": {
    "colab_type": "text",
    "id": "zso5Ze7NgJYy"
   },
   "source": [
    "Megnézem, hogy mindenova kerül-e érték."
   ]
  },
  {
   "cell_type": "code",
   "execution_count": 3,
   "metadata": {
    "colab": {},
    "colab_type": "code",
    "id": "adhFWxjLOmEB"
   },
   "outputs": [
    {
     "data": {
      "text/plain": [
       "<matplotlib.image.AxesImage at 0x20c520ff588>"
      ]
     },
     "execution_count": 3,
     "metadata": {},
     "output_type": "execute_result"
    },
    {
     "data": {
      "image/png": "[encoded data removed]",
      "text/plain": [
       "<Figure size 432x288 with 1 Axes>"
      ]
     },
     "metadata": {
      "needs_background": "light"
     },
     "output_type": "display_data"
    }
   ],
   "source": [
    "myconv = Conv(n = 5, inCH = 3, oCH = 1)\n",
    "\n",
    "x = torch.Tensor(np.random.randn(1,3,8,8)).requires_grad_(False)\n",
    "plt.imshow(myconv.forward(x).detach().numpy()[0,0,:,:])"
   ]
  },
  {
   "cell_type": "markdown",
   "metadata": {
    "colab_type": "text",
    "id": "cICNrzbNJkkz"
   },
   "source": [
    "### 2. Rész\n",
    "\n",
    "Amennyiben az implementáció elkészült, ellenőrizd az implementáció helyességét a PyTorch Conv2d modulja segítségével! (Tipp: Használj többfajta konfigurációt!)\n",
    "https://pytorch.org/docs/stable/nn.html#conv2d"
   ]
  },
  {
   "cell_type": "markdown",
   "metadata": {
    "colab_type": "text",
    "id": "HHvtgfNEgSNI"
   },
   "source": [
    "Egyenlővé teszem a kerneleket és vizuálisan összehasonlítom az eredményt."
   ]
  },
  {
   "cell_type": "code",
   "execution_count": 4,
   "metadata": {
    "colab": {},
    "colab_type": "code",
    "id": "MakKK_lrJztm"
   },
   "outputs": [
    {
     "data": {
      "image/png": "[encoded data removed]",
      "text/plain": [
       "<Figure size 432x288 with 2 Axes>"
      ]
     },
     "metadata": {
      "needs_background": "light"
     },
     "output_type": "display_data"
    }
   ],
   "source": [
    "n = 5\n",
    "inCH = 3\n",
    "oCH = 1\n",
    "W = torch.Tensor(np.random.randn(oCH,inCH,n,n))\n",
    "x = torch.Tensor(np.random.randn(1,3,8,8)).requires_grad_(False)\n",
    "\n",
    "myconv = Conv(n = 5, inCH = 3, oCH = 1)\n",
    "with torch.no_grad():\n",
    "  myconv.W = nn.Parameter(W)\n",
    "plt.subplot(1,2,1)\n",
    "plt.imshow(myconv.forward(x).detach().numpy()[0,0,:,:])\n",
    "\n",
    "refconv = nn.Conv2d(3, 1, (5, 5), padding=(2, 2), bias=False)\n",
    "with torch.no_grad():\n",
    "  refconv.weight = nn.Parameter(W)\n",
    "plt.subplot(1,2,2)\n",
    "plt.imshow(refconv(x).detach().numpy()[0,0,:,:])\n",
    "plt.show()"
   ]
  },
  {
   "cell_type": "markdown",
   "metadata": {
    "colab_type": "text",
    "id": "s3r_3zQYgaFO"
   },
   "source": [
    "Numerikus összehasonlítást végzek néhány jellemző konfigurációra."
   ]
  },
  {
   "cell_type": "code",
   "execution_count": 5,
   "metadata": {
    "colab": {},
    "colab_type": "code",
    "id": "JB1X5FLKX__D"
   },
   "outputs": [],
   "source": [
    "for n in [1,3,5,7]:\n",
    "  for inCH in [1,3,8,16]:\n",
    "    for oCH in [1,3,8,16]:\n",
    "      W = torch.Tensor(np.random.randn(oCH,inCH,n,n))\n",
    "      x = torch.Tensor(np.random.randn(1,inCH,8,8)).requires_grad_(False)\n",
    "\n",
    "      myconv = Conv(n, inCH, oCH)\n",
    "      with torch.no_grad():\n",
    "        myconv.W = nn.Parameter(W)\n",
    "      myres = myconv.forward(x).detach().numpy()\n",
    "\n",
    "      refconv = nn.Conv2d(inCH, oCH, (n, n), padding=(n//2, n//2), bias=False)\n",
    "      with torch.no_grad():\n",
    "        refconv.weight = nn.Parameter(W)\n",
    "      refres = refconv(x).detach().numpy()\n",
    "\n",
    "      assert(np.all((myres - refres) < 1e-4))"
   ]
  },
  {
   "cell_type": "markdown",
   "metadata": {
    "colab_type": "text",
    "id": "I5HXFkqaKYAp"
   },
   "source": [
    "### 3. Rész\n",
    "\n",
    "Hozz létre egy egy bemeneti csatornás konvolúciós réteget, amelynek az egyes kimeneti csatornákhoz tartozó szűrőinek súlyait inicializáld véletlenszerűen. (A kimeneti csatornák száma legyen mondjuk 3.)\n",
    "\n",
    "Ezt követően olvass be egy képet, szürkeárnyalatosítsd, és futtass le OpenCV segítségével 3 általad választott konvolúciós szűrőt!\n",
    "\n",
    "Végezetül tanítsd be arra a létrehozott konvolúciós réteget, hogy az OpenCV-s szűréseket minél pontosabban reprodukálni tudja. Vizsgáld meg az eredményként kapott szűrőket! (Tipp: Az OpenCV-vel szűrt képeket használd referenciaként, mondjuk a négyzetes hiba költséggel. Több képet egy tömbbe összepakolni np.stack segítségével lehet.)"
   ]
  },
  {
   "cell_type": "code",
   "execution_count": 6,
   "metadata": {
    "colab": {},
    "colab_type": "code",
    "id": "5PO015ozLIgT"
   },
   "outputs": [],
   "source": [
    "from torch.utils.data import DataLoader, random_split\n",
    "from torch.utils.data import Dataset\n",
    "from torchvision.datasets import CIFAR10\n",
    "from torchvision import transforms\n",
    "import os\n",
    "from PIL import ImageFilter"
   ]
  },
  {
   "cell_type": "code",
   "execution_count": 49,
   "metadata": {
    "colab": {},
    "colab_type": "code",
    "id": "2aeftz0YnKJy"
   },
   "outputs": [],
   "source": [
    "from scipy.signal import convolve2d\n",
    "class GaussCifar(Dataset):\n",
    "  def __init__(self, offset=0):\n",
    "    self.cifar = CIFAR10(os.getcwd() + '/cifar',download=True)\n",
    "    self.offset = offset\n",
    "\n",
    "  def __getitem__(self, i):\n",
    "    index = i + self.offset\n",
    "    to_gray = lambda x: np.array(x.convert('L'), dtype=np.float32) / 255.\n",
    "    add_ch = lambda x: np.expand_dims(x, 0).astype(np.float32)\n",
    "    prc_input = lambda x: add_ch(to_gray(x))\n",
    "    return prc_input(self.cifar[index][0]), add_ch(convolve2d(to_gray(self.cifar[index][0]),\n",
    "                                                               np.array([[-1, 0, 1], \n",
    "                                                                         [-1, 0, 1], \n",
    "                                                                         [-1, 0, 1]]),\n",
    "                                                                mode='same'))\n",
    "    \n",
    "  def __len__(self):\n",
    "    return len(self.cifar)"
   ]
  },
  {
   "cell_type": "code",
   "execution_count": 44,
   "metadata": {
    "colab": {},
    "colab_type": "code",
    "id": "LofhrWRZpfDX"
   },
   "outputs": [
    {
     "name": "stdout",
     "output_type": "stream",
     "text": [
      "Files already downloaded and verified\n"
     ]
    }
   ],
   "source": [
    "dl = DataLoader(GaussCifar(), batch_size=64)"
   ]
  },
  {
   "cell_type": "code",
   "execution_count": 45,
   "metadata": {
    "colab": {},
    "colab_type": "code",
    "id": "Y8kEejwTq65r"
   },
   "outputs": [
    {
     "data": {
      "image/png": "[encoded data removed]",
      "text/plain": [
       "<Figure size 432x288 with 1 Axes>"
      ]
     },
     "metadata": {
      "needs_background": "light"
     },
     "output_type": "display_data"
    },
    {
     "data": {
      "image/png": "[encoded data removed]",
      "text/plain": [
       "<Figure size 432x288 with 1 Axes>"
      ]
     },
     "metadata": {
      "needs_background": "light"
     },
     "output_type": "display_data"
    }
   ],
   "source": [
    "t = next(iter(dl))\n",
    "plt.imshow(t[0][0, 0,].detach().numpy())\n",
    "plt.show()\n",
    "plt.imshow(t[1][0, 0,].detach().numpy())\n",
    "plt.show()"
   ]
  },
  {
   "cell_type": "code",
   "execution_count": 50,
   "metadata": {
    "colab": {},
    "colab_type": "code",
    "id": "CgK3xwWliTDV"
   },
   "outputs": [],
   "source": [
    "import pytorch_lightning as pl\n",
    "from torch.optim import Adam\n",
    "class CoolCIFAR(pl.LightningModule):  \n",
    "  def __init__(self, model):\n",
    "    super(CoolCIFAR, self).__init__()\n",
    "    self.model = model\n",
    "    self.mse = nn.MSELoss()\n",
    "\n",
    "  def parameters(self):\n",
    "    return self.model.parameters()\n",
    "\n",
    "  def forward(self, x):\n",
    "    return self.model(x)\n",
    "\n",
    "  def train_dataloader(self):\n",
    "    return DataLoader(GaussCifar(), batch_size=64)\n",
    "\n",
    "  # def val_dataloader(self):\n",
    "  #   return DataLoader(GaussCifar(64), batch_size=64)\n",
    "\n",
    "  def configure_optimizers(self):\n",
    "    return Adam(self.parameters())\n",
    "\n",
    "  def training_step(self, batch, batch_idx):\n",
    "    x, y = batch\n",
    "    res = self.forward(x)\n",
    "    loss = self.mse(res, y)\n",
    "    logs = {'train_loss': loss}\n",
    "    return {'loss': loss, 'log': logs}\n",
    "\n",
    "  # def validation_step(self, batch, batch_idx):\n",
    "  #   x, y = batch\n",
    "  #   res = self.forward(x)\n",
    "  #   loss = self.mse(res, y)\n",
    "  #   return {'val_loss': loss}\n",
    "\n",
    "  # def validation_end(self, outputs):\n",
    "  #   avg_loss = torch.stack([x['val_loss'] for x in outputs]).mean()\n",
    "  #   tensorboard_logs = {'val_loss': avg_loss}\n",
    "  #   return {'avg_val_loss': avg_loss, 'log': tensorboard_logs}"
   ]
  },
  {
   "cell_type": "code",
   "execution_count": 51,
   "metadata": {
    "colab": {},
    "colab_type": "code",
    "id": "Q1RsCByLjLi5"
   },
   "outputs": [
    {
     "data": {
      "application/vnd.jupyter.widget-view+json": {
       "model_id": "b553fe7b65a540608a2f748e1e893f71",
       "version_major": 2,
       "version_minor": 0
      },
      "text/plain": [
       "HBox(children=(FloatProgress(value=1.0, bar_style='info', layout=Layout(flex='2'), max=1.0), HTML(value='')), …"
      ]
     },
     "metadata": {},
     "output_type": "display_data"
    },
    {
     "name": "stdout",
     "output_type": "stream",
     "text": [
      "Files already downloaded and verified\n",
      "\n"
     ]
    },
    {
     "data": {
      "text/plain": [
       "1"
      ]
     },
     "execution_count": 51,
     "metadata": {},
     "output_type": "execute_result"
    }
   ],
   "source": [
    "from pytorch_lightning import Trainer\n",
    "\n",
    "model = CoolCIFAR(nn.Conv2d(1, 1, (3, 3), padding=(3//2, 3//2), bias=False))\n",
    "trainer = Trainer(max_epoch=1)\n",
    "trainer.fit(model)"
   ]
  },
  {
   "cell_type": "code",
   "execution_count": 53,
   "metadata": {},
   "outputs": [
    {
     "data": {
      "text/plain": [
       "Parameter containing:\n",
       "tensor([[[[ 1.1031, -0.0930, -0.9476],\n",
       "          [ 0.8977, -0.0058, -1.0041],\n",
       "          [ 0.9912, -0.2574, -0.6672]]]], requires_grad=True)"
      ]
     },
     "execution_count": 53,
     "metadata": {},
     "output_type": "execute_result"
    }
   ],
   "source": [
    "trainer.model.model.weight"
   ]
  },
  {
   "cell_type": "code",
   "execution_count": 41,
   "metadata": {
    "colab": {},
    "colab_type": "code",
    "id": "el0BmROvtMpj"
   },
   "outputs": [
    {
     "ename": "AttributeError",
     "evalue": "'Conv' object has no attribute 'prepare_data'",
     "output_type": "error",
     "traceback": [
      "\u001b[1;31m---------------------------------------------------------------------------\u001b[0m",
      "\u001b[1;31mAttributeError\u001b[0m                            Traceback (most recent call last)",
      "\u001b[1;32m<ipython-input-41-ddab6667b88d>\u001b[0m in \u001b[0;36m<module>\u001b[1;34m\u001b[0m\n\u001b[0;32m      3\u001b[0m \u001b[0mmodel\u001b[0m \u001b[1;33m=\u001b[0m \u001b[0mConv\u001b[0m\u001b[1;33m(\u001b[0m\u001b[0mn\u001b[0m \u001b[1;33m=\u001b[0m \u001b[1;36m3\u001b[0m\u001b[1;33m,\u001b[0m \u001b[0minCH\u001b[0m \u001b[1;33m=\u001b[0m \u001b[1;36m1\u001b[0m\u001b[1;33m,\u001b[0m \u001b[0moCH\u001b[0m \u001b[1;33m=\u001b[0m \u001b[1;36m1\u001b[0m\u001b[1;33m)\u001b[0m\u001b[1;33m\u001b[0m\u001b[1;33m\u001b[0m\u001b[0m\n\u001b[0;32m      4\u001b[0m \u001b[0mtrainer\u001b[0m \u001b[1;33m=\u001b[0m \u001b[0mTrainer\u001b[0m\u001b[1;33m(\u001b[0m\u001b[0mmax_epoch\u001b[0m\u001b[1;33m=\u001b[0m\u001b[1;36m10\u001b[0m\u001b[1;33m)\u001b[0m\u001b[1;33m\u001b[0m\u001b[1;33m\u001b[0m\u001b[0m\n\u001b[1;32m----> 5\u001b[1;33m \u001b[0mtrainer\u001b[0m\u001b[1;33m.\u001b[0m\u001b[0mfit\u001b[0m\u001b[1;33m(\u001b[0m\u001b[0mmodel\u001b[0m\u001b[1;33m)\u001b[0m\u001b[1;33m\u001b[0m\u001b[1;33m\u001b[0m\u001b[0m\n\u001b[0m",
      "\u001b[1;32mC:\\ProgramData\\Anaconda3\\lib\\site-packages\\pytorch_lightning\\trainer\\trainer.py\u001b[0m in \u001b[0;36mfit\u001b[1;34m(self, model, train_dataloader, val_dataloaders, test_dataloaders)\u001b[0m\n\u001b[0;32m    569\u001b[0m         \u001b[1;31m# do before any spawn calls so that the model can assign properties\u001b[0m\u001b[1;33m\u001b[0m\u001b[1;33m\u001b[0m\u001b[1;33m\u001b[0m\u001b[0m\n\u001b[0;32m    570\u001b[0m         \u001b[1;31m# only on proc 0 because no spawn has happened yet\u001b[0m\u001b[1;33m\u001b[0m\u001b[1;33m\u001b[0m\u001b[1;33m\u001b[0m\u001b[0m\n\u001b[1;32m--> 571\u001b[1;33m         \u001b[0mmodel\u001b[0m\u001b[1;33m.\u001b[0m\u001b[0mprepare_data\u001b[0m\u001b[1;33m(\u001b[0m\u001b[1;33m)\u001b[0m\u001b[1;33m\u001b[0m\u001b[1;33m\u001b[0m\u001b[0m\n\u001b[0m\u001b[0;32m    572\u001b[0m \u001b[1;33m\u001b[0m\u001b[0m\n\u001b[0;32m    573\u001b[0m         \u001b[1;31m# route to appropriate start method\u001b[0m\u001b[1;33m\u001b[0m\u001b[1;33m\u001b[0m\u001b[1;33m\u001b[0m\u001b[0m\n",
      "\u001b[1;31mAttributeError\u001b[0m: 'Conv' object has no attribute 'prepare_data'"
     ]
    }
   ],
   "source": [
    "from pytorch_lightning import Trainer\n",
    "\n",
    "model = Conv(n = 3, inCH = 1, oCH = 1)\n",
    "trainer = Trainer(max_epoch=10)\n",
    "trainer.fit(model)"
   ]
  },
  {
   "cell_type": "code",
   "execution_count": null,
   "metadata": {},
   "outputs": [],
   "source": []
  }
 ],
 "metadata": {
  "accelerator": "GPU",
  "colab": {
   "collapsed_sections": [],
   "include_colab_link": true,
   "name": "HF1.ipynb",
   "provenance": []
  },
  "kernelspec": {
   "display_name": "Python 3",
   "language": "python",
   "name": "python3"
  },
  "language_info": {
   "codemirror_mode": {
    "name": "ipython",
    "version": 3
   },
   "file_extension": ".py",
   "mimetype": "text/x-python",
   "name": "python",
   "nbconvert_exporter": "python",
   "pygments_lexer": "ipython3",
   "version": "3.7.3"
  }
 },
 "nbformat": 4,
 "nbformat_minor": 1
}
