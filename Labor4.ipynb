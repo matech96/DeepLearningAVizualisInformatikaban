{
 "cells": [
  {
   "cell_type": "markdown",
   "metadata": {
    "colab_type": "text",
    "id": "Upb3LZfmI-38"
   },
   "source": [
    "# Bevezetés\n",
    "\n",
    "A mai labor témája a szemantikus szegmentáció implementációja lesz.\n",
    "\n",
    "## Installálás"
   ]
  },
  {
   "cell_type": "code",
   "execution_count": 1,
   "metadata": {
    "colab": {
     "base_uri": "https://localhost:8080/",
     "height": 102
    },
    "colab_type": "code",
    "executionInfo": {
     "elapsed": 4325,
     "status": "ok",
     "timestamp": 1580804743377,
     "user": {
      "displayName": "Márton Szemenyei",
      "photoUrl": "https://lh3.googleusercontent.com/a-/AAuE7mAc8dCePU7Sl-30CxlO-gznhT5oQGC-p4sH7g2b8_c=s64",
      "userId": "10031764366786993279"
     },
     "user_tz": -60
    },
    "id": "-h4Wm8eHI9Ir",
    "outputId": "c857f6af-bc12-42ae-c461-f0b5bb243ed1"
   },
   "outputs": [
    {
     "name": "stdout",
     "output_type": "stream",
     "text": [
      "Requirement already satisfied: torch in c:\\programdata\\anaconda3\\lib\\site-packages (1.4.0)\n",
      "Requirement already satisfied: torchvision in c:\\programdata\\anaconda3\\lib\\site-packages (0.5.0)\n",
      "Requirement already satisfied: numpy in c:\\programdata\\anaconda3\\lib\\site-packages (from torchvision) (1.18.1)\n",
      "Requirement already satisfied: six in c:\\programdata\\anaconda3\\lib\\site-packages (from torchvision) (1.13.0)\n",
      "Requirement already satisfied: pillow>=4.1.1 in c:\\programdata\\anaconda3\\lib\\site-packages (from torchvision) (6.2.2)\n"
     ]
    }
   ],
   "source": [
    "!pip3 install torch torchvision"
   ]
  },
  {
   "cell_type": "markdown",
   "metadata": {
    "colab_type": "text",
    "id": "Vc31c33sKdCM"
   },
   "source": [
    "## Installáció ellenőrzése"
   ]
  },
  {
   "cell_type": "code",
   "execution_count": 2,
   "metadata": {
    "colab": {
     "base_uri": "https://localhost:8080/",
     "height": 102
    },
    "colab_type": "code",
    "executionInfo": {
     "elapsed": 9220,
     "status": "ok",
     "timestamp": 1580804748282,
     "user": {
      "displayName": "Márton Szemenyei",
      "photoUrl": "https://lh3.googleusercontent.com/a-/AAuE7mAc8dCePU7Sl-30CxlO-gznhT5oQGC-p4sH7g2b8_c=s64",
      "userId": "10031764366786993279"
     },
     "user_tz": -60
    },
    "id": "WGAof0czKhKd",
    "outputId": "85d42483-b64e-4122-be39-a099c3ae7b5f"
   },
   "outputs": [
    {
     "name": "stderr",
     "output_type": "stream",
     "text": [
      "'nvcc' is not recognized as an internal or external command,\n",
      "operable program or batch file.\n"
     ]
    },
    {
     "name": "stdout",
     "output_type": "stream",
     "text": [
      "False\n"
     ]
    }
   ],
   "source": [
    "!nvcc --version\n",
    "import torch\n",
    "print(torch.cuda.is_available())"
   ]
  },
  {
   "cell_type": "markdown",
   "metadata": {
    "colab_type": "text",
    "id": "b0GSE2wHJyaR"
   },
   "source": [
    "## Adatbázis letöltése"
   ]
  },
  {
   "cell_type": "code",
   "execution_count": 3,
   "metadata": {
    "colab": {
     "base_uri": "https://localhost:8080/",
     "height": 204
    },
    "colab_type": "code",
    "executionInfo": {
     "elapsed": 27139,
     "status": "ok",
     "timestamp": 1580804766206,
     "user": {
      "displayName": "Márton Szemenyei",
      "photoUrl": "https://lh3.googleusercontent.com/a-/AAuE7mAc8dCePU7Sl-30CxlO-gznhT5oQGC-p4sH7g2b8_c=s64",
      "userId": "10031764366786993279"
     },
     "user_tz": -60
    },
    "id": "Ay2mwR25J7tR",
    "outputId": "3ed64cac-a770-4dc2-9e7c-323a5429fa16"
   },
   "outputs": [
    {
     "name": "stderr",
     "output_type": "stream",
     "text": [
      "'wget' is not recognized as an internal or external command,\n",
      "operable program or batch file.\n",
      "'unzip' is not recognized as an internal or external command,\n",
      "operable program or batch file.\n",
      "'rm' is not recognized as an internal or external command,\n",
      "operable program or batch file.\n"
     ]
    }
   ],
   "source": [
    "!wget http://3dmr.iit.bme.hu/edu/DL/RoboCupSeg.zip\n",
    "!unzip -qq RoboCupSeg.zip\n",
    "!rm RoboCupSeg.zip"
   ]
  },
  {
   "cell_type": "markdown",
   "metadata": {
    "colab_type": "text",
    "id": "q6sDI0WQKJPD"
   },
   "source": [
    "# Megoldás\n",
    "\n",
    "## DataLoader írása\n",
    "\n",
    "### Segédfüggvények"
   ]
  },
  {
   "cell_type": "code",
   "execution_count": 4,
   "metadata": {
    "colab": {},
    "colab_type": "code",
    "id": "5PGMHoVjKoM2"
   },
   "outputs": [],
   "source": [
    "import torch\n",
    "import re\n",
    "\n",
    "def tryint(s):\n",
    "  try:\n",
    "    return int(s)\n",
    "  except:\n",
    "    return s\n",
    "\n",
    "def alphanum_key(s):\n",
    "  \"\"\" Turn a string into a list of string and number chunks.\n",
    "      \"z23a\" -> [\"z\", 23, \"a\"]\n",
    "  \"\"\"\n",
    "  return [ tryint(c) for c in re.split('([0-9]+)', s) ]\n",
    "\n",
    "class ToLabel(object):\n",
    "  def __call__(self, tensor):\n",
    "      return torch.squeeze(tensor.long())"
   ]
  },
  {
   "cell_type": "markdown",
   "metadata": {
    "colab_type": "text",
    "id": "Hdi8qXmdMNV3"
   },
   "source": [
    "### Random horizontal flip"
   ]
  },
  {
   "cell_type": "code",
   "execution_count": 5,
   "metadata": {
    "colab": {},
    "colab_type": "code",
    "id": "ee8r9JDZMPWl"
   },
   "outputs": [],
   "source": [
    "from PIL import Image\n",
    "import random\n",
    "\n",
    "class HorizontalFlip(object):\n",
    "  def __call__(self, img):\n",
    "    if random.random() < 0.5:\n",
    "        return img.transpose(Image.FLIP_LEFT_RIGHT)\n",
    "    return img"
   ]
  },
  {
   "cell_type": "markdown",
   "metadata": {
    "colab_type": "text",
    "id": "EwLLS87cLfB8"
   },
   "source": [
    "### Loader"
   ]
  },
  {
   "cell_type": "code",
   "execution_count": 6,
   "metadata": {
    "colab": {},
    "colab_type": "code",
    "id": "pnDi7yGsLgmH"
   },
   "outputs": [],
   "source": [
    "import torch\n",
    "import os.path as osp\n",
    "from torch.utils import data\n",
    "import glob\n",
    "import numpy as np\n",
    "\n",
    "class SSDataSet(data.Dataset):\n",
    "  def __init__(self, root, split=\"train\", img_transform=None, label_transform=None):\n",
    "    self.root = root\n",
    "    self.split = split\n",
    "    self.images = []\n",
    "    self.labels = []\n",
    "    self.labels = []\n",
    "    self.img_transform = img_transform\n",
    "    self.label_transform = label_transform\n",
    "\n",
    "    data_dir = osp.join(root, split)\n",
    "    self.img_dir = osp.join(data_dir,\"images\")\n",
    "    self.lab_dir = osp.join(data_dir,\"labels\")\n",
    "\n",
    "    imgFiles = sorted(glob.glob1(self.img_dir, \"*.jpg\"),key=alphanum_key)\n",
    "    labFiles = sorted(glob.glob1(self.lab_dir, \"*.png\"),key=alphanum_key)\n",
    "    \n",
    "    for img,lab in zip(imgFiles,labFiles):\n",
    "      self.images.append(img)\n",
    "      self.labels.append(lab)\n",
    "\n",
    "\n",
    "  def __len__(self):\n",
    "    return len(self.images)\n",
    "\n",
    "  def __getitem__(self, index):\n",
    "    img_file = osp.join( self.img_dir, self.images[index])\n",
    "    lab_file = osp.join( self.lab_dir, self.labels[index])\n",
    "\n",
    "    img = Image.open(img_file).convert('RGB')\n",
    "    label = Image.open(lab_file).convert(\"I\")\n",
    "\n",
    "    seed = np.random.randint(2147483647)  # make a seed with numpy generator\n",
    "    random.seed(seed)  # apply this seed to img tranfsorms\n",
    "    if self.img_transform is not None:\n",
    "      imgs = self.img_transform(img)\n",
    "    else:\n",
    "      imgs = img\n",
    "\n",
    "    random.seed(seed)  # apply this seed to target tranfsorms\n",
    "    if self.label_transform is not None:\n",
    "      labels = self.label_transform(label)\n",
    "    else:\n",
    "      labels = label\n",
    "\n",
    "    return imgs, labels"
   ]
  },
  {
   "cell_type": "markdown",
   "metadata": {
    "colab_type": "text",
    "id": "HMVziLB7Koc5"
   },
   "source": [
    "## Modell definiálása\n",
    "\n",
    "### Conv réteg"
   ]
  },
  {
   "cell_type": "code",
   "execution_count": 7,
   "metadata": {
    "colab": {},
    "colab_type": "code",
    "id": "5JoqOao4Kta1"
   },
   "outputs": [],
   "source": [
    "import torch\n",
    "import torch.nn as nn\n",
    "\n",
    "class Conv(nn.Module):\n",
    "  def __init__(self, inplanes, planes, size=3, stride=1):\n",
    "    super(Conv, self).__init__()\n",
    "    self.conv = nn.Conv2d(inplanes, planes, kernel_size=size, padding=size // 2, stride=stride)\n",
    "    self.bn = nn.BatchNorm2d(planes)\n",
    "\n",
    "  def forward(self, x):\n",
    "    return self.bn(torch.relu(self.conv(x)))"
   ]
  },
  {
   "cell_type": "markdown",
   "metadata": {
    "colab_type": "text",
    "id": "ur5HQM8_M6Gl"
   },
   "source": [
    "### Transpose Conv"
   ]
  },
  {
   "cell_type": "code",
   "execution_count": 8,
   "metadata": {
    "colab": {},
    "colab_type": "code",
    "id": "dIVdfPTaM74j"
   },
   "outputs": [],
   "source": [
    "class trConv(nn.Module):\n",
    "  def __init__(self, inplanes, planes, size=3, stride=2):\n",
    "    super(trConv, self).__init__()\n",
    "    self.relu = nn.ReLU()\n",
    "    self.conv = nn.ConvTranspose2d(inplanes, planes, kernel_size=size,\n",
    "                          padding=size // 2, stride=stride, output_padding=1, bias=True)\n",
    "    self.bn = nn.BatchNorm2d(planes)\n",
    "\n",
    "  def forward(self, x):\n",
    "    return self.bn(torch.relu(self.conv(x)))"
   ]
  },
  {
   "cell_type": "markdown",
   "metadata": {
    "colab_type": "text",
    "id": "xv5KHQ9zMzJk"
   },
   "source": [
    "### Modell"
   ]
  },
  {
   "cell_type": "code",
   "execution_count": 9,
   "metadata": {
    "colab": {},
    "colab_type": "code",
    "id": "Xeyg2VwCM0y_"
   },
   "outputs": [],
   "source": [
    "class FCN(nn.Module):\n",
    "  def __init__(self, planes, numClass=5):\n",
    "    super(FCN, self).__init__()\n",
    "    self.c1 = Conv(3,planes)\n",
    "    self.d1 = Conv(planes,planes*2,stride=2)\n",
    "    self.c2 = Conv(planes*2,planes*2)\n",
    "    self.d2 = Conv(planes*2,planes*4,stride=2)\n",
    "    self.c3 = Conv(planes*4,planes*4)\n",
    "    self.d3 = Conv(planes*4,planes*8,stride=2)\n",
    "    self.c4 = Conv(planes*8,planes*8)\n",
    "    self.d4 = Conv(planes*8,planes*16,stride=2)\n",
    "    self.c5 = Conv(planes*16,planes*16)\n",
    "    \n",
    "    self.u1 = trConv(planes*16,planes*8)\n",
    "    self.u2 = trConv(planes*8,planes*4)\n",
    "    self.u3 = trConv(planes*4,planes*2)\n",
    "    self.u4 = trConv(planes*2,planes)\n",
    "    \n",
    "    self.classifier = nn.Conv2d(planes,numClass,5,padding=2)\n",
    "  \n",
    "  def forward(self,x):\n",
    "    l1 = self.c1(x)\n",
    "    l2 = self.c2(self.d1(l1))\n",
    "    l3 = self.c3(self.d2(l2))\n",
    "    l4 = self.c4(self.d3(l3))\n",
    "    l5 = self.c5(self.d4(l4))\n",
    "    u4 = self.u1(l5) + l4\n",
    "    u3 = self.u2(u4) + l3\n",
    "    u2 = self.u3(u3) + l2\n",
    "    u1 = self.u4(u2) + l1\n",
    "    \n",
    "    return self.classifier(u1)"
   ]
  },
  {
   "cell_type": "code",
   "execution_count": 12,
   "metadata": {},
   "outputs": [
    {
     "name": "stdout",
     "output_type": "stream",
     "text": [
      "Collecting torchsummary\n",
      "  Downloading torchsummary-1.5.1-py3-none-any.whl (2.8 kB)\n",
      "Installing collected packages: torchsummary\n",
      "Successfully installed torchsummary-1.5.1\n"
     ]
    }
   ],
   "source": [
    "!pip install torchsummary"
   ]
  },
  {
   "cell_type": "code",
   "execution_count": 15,
   "metadata": {},
   "outputs": [
    {
     "name": "stdout",
     "output_type": "stream",
     "text": [
      "----------------------------------------------------------------\n",
      "        Layer (type)               Output Shape         Param #\n",
      "================================================================\n",
      "            Conv2d-1           [-1, 16, 32, 32]             448\n",
      "       BatchNorm2d-2           [-1, 16, 32, 32]              32\n",
      "              Conv-3           [-1, 16, 32, 32]               0\n",
      "            Conv2d-4           [-1, 32, 16, 16]           4,640\n",
      "       BatchNorm2d-5           [-1, 32, 16, 16]              64\n",
      "              Conv-6           [-1, 32, 16, 16]               0\n",
      "            Conv2d-7           [-1, 32, 16, 16]           9,248\n",
      "       BatchNorm2d-8           [-1, 32, 16, 16]              64\n",
      "              Conv-9           [-1, 32, 16, 16]               0\n",
      "           Conv2d-10             [-1, 64, 8, 8]          18,496\n",
      "      BatchNorm2d-11             [-1, 64, 8, 8]             128\n",
      "             Conv-12             [-1, 64, 8, 8]               0\n",
      "           Conv2d-13             [-1, 64, 8, 8]          36,928\n",
      "      BatchNorm2d-14             [-1, 64, 8, 8]             128\n",
      "             Conv-15             [-1, 64, 8, 8]               0\n",
      "           Conv2d-16            [-1, 128, 4, 4]          73,856\n",
      "      BatchNorm2d-17            [-1, 128, 4, 4]             256\n",
      "             Conv-18            [-1, 128, 4, 4]               0\n",
      "           Conv2d-19            [-1, 128, 4, 4]         147,584\n",
      "      BatchNorm2d-20            [-1, 128, 4, 4]             256\n",
      "             Conv-21            [-1, 128, 4, 4]               0\n",
      "           Conv2d-22            [-1, 256, 2, 2]         295,168\n",
      "      BatchNorm2d-23            [-1, 256, 2, 2]             512\n",
      "             Conv-24            [-1, 256, 2, 2]               0\n",
      "           Conv2d-25            [-1, 256, 2, 2]         590,080\n",
      "      BatchNorm2d-26            [-1, 256, 2, 2]             512\n",
      "             Conv-27            [-1, 256, 2, 2]               0\n",
      "  ConvTranspose2d-28            [-1, 128, 4, 4]         295,040\n",
      "      BatchNorm2d-29            [-1, 128, 4, 4]             256\n",
      "           trConv-30            [-1, 128, 4, 4]               0\n",
      "  ConvTranspose2d-31             [-1, 64, 8, 8]          73,792\n",
      "      BatchNorm2d-32             [-1, 64, 8, 8]             128\n",
      "           trConv-33             [-1, 64, 8, 8]               0\n",
      "  ConvTranspose2d-34           [-1, 32, 16, 16]          18,464\n",
      "      BatchNorm2d-35           [-1, 32, 16, 16]              64\n",
      "           trConv-36           [-1, 32, 16, 16]               0\n",
      "  ConvTranspose2d-37           [-1, 16, 32, 32]           4,624\n",
      "      BatchNorm2d-38           [-1, 16, 32, 32]              32\n",
      "           trConv-39           [-1, 16, 32, 32]               0\n",
      "           Conv2d-40           [-1, 10, 32, 32]           4,010\n",
      "================================================================\n",
      "Total params: 1,574,810\n",
      "Trainable params: 1,574,810\n",
      "Non-trainable params: 0\n",
      "----------------------------------------------------------------\n",
      "Input size (MB): 0.01\n",
      "Forward/backward pass size (MB): 1.86\n",
      "Params size (MB): 6.01\n",
      "Estimated Total Size (MB): 7.88\n",
      "----------------------------------------------------------------\n"
     ]
    }
   ],
   "source": [
    "from torchsummary import summary\n",
    "summary(FCN(16, 10), (3, 32, 32))"
   ]
  },
  {
   "cell_type": "markdown",
   "metadata": {
    "colab_type": "text",
    "id": "cNL5j6bXKtvD"
   },
   "source": [
    "## Train függvény"
   ]
  },
  {
   "cell_type": "code",
   "execution_count": 0,
   "metadata": {
    "colab": {},
    "colab_type": "code",
    "id": "a8VP7vkEKyQL"
   },
   "outputs": [],
   "source": [
    "from IPython.display import HTML, display\n",
    "\n",
    "def progress(value, max=100):\n",
    "    return HTML(\"\"\"\n",
    "        <progress\n",
    "            value='{value}'\n",
    "            max='{max}',\n",
    "            style='width: 100%'\n",
    "        >\n",
    "            {value}\n",
    "        </progress>\n",
    "    \"\"\".format(value=value, max=max))\n",
    "\n",
    "def train(epoch):\n",
    "\n",
    "  # variables for loss\n",
    "  running_loss = 0.0\n",
    "  correct = 0.0\n",
    "  total = 0\n",
    "\n",
    "  # set the network to train (for batchnorm and dropout)\n",
    "  net.train()\n",
    "\n",
    "  # Create progress bar\n",
    "  bar = display(progress(0, len(trainLoader)), display_id=True)\n",
    "\n",
    "  # Epoch loop\n",
    "  for i, data in enumerate(trainLoader, 0):\n",
    "    # get the inputs\n",
    "    inputs, labels = data\n",
    "\n",
    "    # Convert to cuda conditionally\n",
    "    inputs, labels = inputs.cuda(), labels.cuda()\n",
    "\n",
    "\n",
    "    # zero the parameter gradients\n",
    "    optimizer.zero_grad()\n",
    "\n",
    "    # forward + backward + optimize\n",
    "    outputs = net(inputs)\n",
    "    loss = criterion(outputs, labels)\n",
    "    loss.backward()\n",
    "    optimizer.step()\n",
    "\n",
    "    # compute statistics\n",
    "    running_loss += loss.item()\n",
    "    _, predicted = torch.max(outputs, 1)\n",
    "    total += labels.size(0)\n",
    "    correct += torch.sum( predicted.data == labels.data ).item()/(160*128)*100\n",
    "\n",
    "    # Update progress bar\n",
    "    bar.update(progress(i+1, len(trainLoader)))\n",
    "\n",
    "  # print and plot statistics\n",
    "  tr_loss = running_loss / len(trainLoader)\n",
    "  tr_corr = correct / total\n",
    "  print(\"Epoch [%d] Training Loss: %.4f Training Pixel Acc: %.2f\" % (epoch+1, tr_loss, tr_corr))\n",
    "\n",
    "  return tr_loss,tr_corr"
   ]
  },
  {
   "cell_type": "markdown",
   "metadata": {
    "colab_type": "text",
    "id": "l4dPuIjYKyez"
   },
   "source": [
    "## Val függvény"
   ]
  },
  {
   "cell_type": "code",
   "execution_count": 0,
   "metadata": {
    "colab": {},
    "colab_type": "code",
    "id": "i1oUL9CvKz5E"
   },
   "outputs": [],
   "source": [
    "def val(epoch):\n",
    "\n",
    "  # variables for loss\n",
    "  running_loss = 0.0\n",
    "  correct = 0.0\n",
    "  total = 0\n",
    "  \n",
    "  # IoU computation\n",
    "  conf = torch.zeros(numClass,numClass)\n",
    "  IoU = torch.zeros(numClass)\n",
    "  labCnts = torch.zeros(numClass)\n",
    "\n",
    "  # set the network to eval (for batchnorm and dropout)\n",
    "  net.eval()\n",
    "\n",
    "  # Create progress bar\n",
    "  bar = display(progress(0, len(testLoader)), display_id=True)\n",
    "\n",
    "  # Epoch loop\n",
    "  for i, data in enumerate(testLoader, 0):\n",
    "    # get the inputs\n",
    "    inputs, labels = data\n",
    "\n",
    "    # Convert to cuda conditionally\n",
    "    inputs, labels = inputs.cuda(), labels.cuda()\n",
    "\n",
    "    # forward\n",
    "    outputs = net(inputs)\n",
    "    loss = criterion(outputs, labels)\n",
    "\n",
    "    # compute statistics\n",
    "    running_loss += loss.item()\n",
    "    _, predicted = torch.max(outputs, 1)\n",
    "    total += labels.size(0)\n",
    "    correct += torch.sum( predicted.data == labels.data ).item()/(160*128)*100\n",
    "    \n",
    "    bSize = labels.size(0)\n",
    "    labSize = labels.size()[1:3]\n",
    "    \n",
    "    # Compute IoU\n",
    "    maskPred = torch.zeros(numClass,bSize,int(labSize[0]), int(labSize[1])).long()\n",
    "    maskTarget = torch.zeros(numClass,bSize,int(labSize[0]), int(labSize[1])).long()\n",
    "    for currClass in range(numClass):\n",
    "      maskPred[currClass] = predicted == currClass\n",
    "      maskTarget[currClass] = labels == currClass\n",
    "\n",
    "    for imgInd in range(bSize):\n",
    "      for labIdx in range(numClass):\n",
    "        labCnts[labIdx] += torch.sum(maskTarget[labIdx,imgInd]).item()\n",
    "        for predIdx in range(numClass):\n",
    "          inter = torch.sum(maskPred[predIdx,imgInd] & maskTarget[labIdx,imgInd]).item()\n",
    "          conf[(predIdx, labIdx)] += inter\n",
    "          if labIdx == predIdx:\n",
    "            union = torch.sum(maskPred[predIdx,imgInd] | maskTarget[labIdx,imgInd]).item()\n",
    "            if union == 0:\n",
    "              IoU[labIdx] += 1\n",
    "            else:\n",
    "              IoU[labIdx] += inter/union\n",
    "\n",
    "    # Update progress bar\n",
    "    bar.update(progress(i+1, len(testLoader)))\n",
    "\n",
    "  # print and plot statistics\n",
    "  for labIdx in range(numClass):\n",
    "    for predIdx in range(numClass):\n",
    "      conf[(predIdx, labIdx)] /= (labCnts[labIdx] / 100.0)\n",
    "  meanClassAcc = 0.0\n",
    "  meanIoU = torch.sum(IoU/total).item() / numClass * 100\n",
    "  currLoss = running_loss/(i+1)\n",
    "  for j in range(numClass):\n",
    "    meanClassAcc += conf[(j,j)]/numClass\n",
    "  print(\"Epoch [%d] Validation Loss: %.4f Validation Pixel Acc: %.2f Mean Class Acc: %.2f IoU: %.2f\" %\n",
    "        (epoch+1, running_loss/(i+1), correct/(total), meanClassAcc, meanIoU))\n",
    "\n",
    "  return currLoss, correct/(total)"
   ]
  },
  {
   "cell_type": "markdown",
   "metadata": {
    "colab_type": "text",
    "id": "0ldLWMt3K0Bf"
   },
   "source": [
    "## Tanítás\n",
    "\n",
    "### Dataloaderek"
   ]
  },
  {
   "cell_type": "code",
   "execution_count": 0,
   "metadata": {
    "colab": {},
    "colab_type": "code",
    "id": "S6BTCrpKK9qP"
   },
   "outputs": [],
   "source": [
    "import torchvision\n",
    "import torchvision.transforms as transforms\n",
    "from PIL import Image\n",
    "\n",
    "numClass = 5\n",
    "\n",
    "input_transform = transforms.Compose([\n",
    "    transforms.Resize((128,160), Image.BILINEAR),\n",
    "    transforms.ToTensor(),\n",
    "    transforms.Normalize((0.49139968, 0.48215827, 0.44653124),\n",
    "                         (0.24703233, 0.24348505, 0.26158768))\n",
    "\n",
    "])\n",
    "target_transform = transforms.Compose([\n",
    "    transforms.Resize((128,160), Image.NEAREST),\n",
    "    transforms.ToTensor(),\n",
    "    ToLabel(),\n",
    "])\n",
    "\n",
    "input_transform_tr = transforms.Compose([\n",
    "    transforms.Resize((128,160),Image.BILINEAR),\n",
    "    HorizontalFlip(),\n",
    "    transforms.ColorJitter(brightness=0.5,contrast=0.5,saturation=0.4,hue=0.3),\n",
    "    transforms.ToTensor(),\n",
    "    transforms.Normalize((0.49139968, 0.48215827, 0.44653124),\n",
    "                         (0.24703233, 0.24348505, 0.26158768))\n",
    "\n",
    "])\n",
    "target_transform_tr = transforms.Compose([\n",
    "    transforms.Resize((128,160), Image.NEAREST),\n",
    "    HorizontalFlip(),\n",
    "    transforms.ToTensor(),\n",
    "    ToLabel(),\n",
    "])\n",
    "\n",
    "trainLoader = data.DataLoader(SSDataSet(\"RoboCupSeg\", split=\"train\", img_transform=input_transform_tr,\n",
    "                                             label_transform=target_transform_tr),\n",
    "                                  batch_size=8, shuffle=True)\n",
    "\n",
    "testLoader = data.DataLoader(SSDataSet(\"RoboCupSeg\", split=\"val\", img_transform=input_transform,\n",
    "                                             label_transform=target_transform),\n",
    "                                  batch_size=8, shuffle=True)"
   ]
  },
  {
   "cell_type": "markdown",
   "metadata": {
    "colab_type": "text",
    "id": "KUkbNzyVTV-F"
   },
   "source": [
    "### Háló, Loss, Optimizer és Scheduler"
   ]
  },
  {
   "cell_type": "code",
   "execution_count": 18,
   "metadata": {
    "colab": {
     "base_uri": "https://localhost:8080/",
     "height": 1000
    },
    "colab_type": "code",
    "executionInfo": {
     "elapsed": 323374,
     "status": "ok",
     "timestamp": 1580805313053,
     "user": {
      "displayName": "Márton Szemenyei",
      "photoUrl": "https://lh3.googleusercontent.com/a-/AAuE7mAc8dCePU7Sl-30CxlO-gznhT5oQGC-p4sH7g2b8_c=s64",
      "userId": "10031764366786993279"
     },
     "user_tz": -60
    },
    "id": "yfVBPgtQTdDa",
    "outputId": "f4faec8d-9e6c-4e71-ed57-e60148885126"
   },
   "outputs": [
    {
     "data": {
      "text/html": [
       "\n",
       "        <progress\n",
       "            value='56'\n",
       "            max='56',\n",
       "            style='width: 100%'\n",
       "        >\n",
       "            56\n",
       "        </progress>\n",
       "    "
      ],
      "text/plain": [
       "<IPython.core.display.HTML object>"
      ]
     },
     "metadata": {
      "tags": []
     },
     "output_type": "display_data"
    },
    {
     "name": "stdout",
     "output_type": "stream",
     "text": [
      "Epoch [1] Training Loss: 1.1283 Training Pixel Acc: 74.09\n"
     ]
    },
    {
     "data": {
      "text/html": [
       "\n",
       "        <progress\n",
       "            value='16'\n",
       "            max='16',\n",
       "            style='width: 100%'\n",
       "        >\n",
       "            16\n",
       "        </progress>\n",
       "    "
      ],
      "text/plain": [
       "<IPython.core.display.HTML object>"
      ]
     },
     "metadata": {
      "tags": []
     },
     "output_type": "display_data"
    },
    {
     "name": "stdout",
     "output_type": "stream",
     "text": [
      "Epoch [1] Validation Loss: 1.5679 Validation Pixel Acc: 82.91 Mean Class Acc: 42.54 IoU: 25.13\n"
     ]
    },
    {
     "data": {
      "text/html": [
       "\n",
       "        <progress\n",
       "            value='56'\n",
       "            max='56',\n",
       "            style='width: 100%'\n",
       "        >\n",
       "            56\n",
       "        </progress>\n",
       "    "
      ],
      "text/plain": [
       "<IPython.core.display.HTML object>"
      ]
     },
     "metadata": {
      "tags": []
     },
     "output_type": "display_data"
    },
    {
     "name": "stdout",
     "output_type": "stream",
     "text": [
      "Epoch [2] Training Loss: 0.4164 Training Pixel Acc: 90.28\n"
     ]
    },
    {
     "data": {
      "text/html": [
       "\n",
       "        <progress\n",
       "            value='16'\n",
       "            max='16',\n",
       "            style='width: 100%'\n",
       "        >\n",
       "            16\n",
       "        </progress>\n",
       "    "
      ],
      "text/plain": [
       "<IPython.core.display.HTML object>"
      ]
     },
     "metadata": {
      "tags": []
     },
     "output_type": "display_data"
    },
    {
     "name": "stdout",
     "output_type": "stream",
     "text": [
      "Epoch [2] Validation Loss: 0.2573 Validation Pixel Acc: 92.69 Mean Class Acc: 44.02 IoU: 32.55\n"
     ]
    },
    {
     "data": {
      "text/html": [
       "\n",
       "        <progress\n",
       "            value='56'\n",
       "            max='56',\n",
       "            style='width: 100%'\n",
       "        >\n",
       "            56\n",
       "        </progress>\n",
       "    "
      ],
      "text/plain": [
       "<IPython.core.display.HTML object>"
      ]
     },
     "metadata": {
      "tags": []
     },
     "output_type": "display_data"
    },
    {
     "name": "stdout",
     "output_type": "stream",
     "text": [
      "Epoch [3] Training Loss: 0.2552 Training Pixel Acc: 92.37\n"
     ]
    },
    {
     "data": {
      "text/html": [
       "\n",
       "        <progress\n",
       "            value='16'\n",
       "            max='16',\n",
       "            style='width: 100%'\n",
       "        >\n",
       "            16\n",
       "        </progress>\n",
       "    "
      ],
      "text/plain": [
       "<IPython.core.display.HTML object>"
      ]
     },
     "metadata": {
      "tags": []
     },
     "output_type": "display_data"
    },
    {
     "name": "stdout",
     "output_type": "stream",
     "text": [
      "Epoch [3] Validation Loss: 0.1861 Validation Pixel Acc: 94.18 Mean Class Acc: 49.01 IoU: 37.06\n"
     ]
    },
    {
     "data": {
      "text/html": [
       "\n",
       "        <progress\n",
       "            value='56'\n",
       "            max='56',\n",
       "            style='width: 100%'\n",
       "        >\n",
       "            56\n",
       "        </progress>\n",
       "    "
      ],
      "text/plain": [
       "<IPython.core.display.HTML object>"
      ]
     },
     "metadata": {
      "tags": []
     },
     "output_type": "display_data"
    },
    {
     "name": "stdout",
     "output_type": "stream",
     "text": [
      "Epoch [4] Training Loss: 0.2336 Training Pixel Acc: 92.86\n"
     ]
    },
    {
     "data": {
      "text/html": [
       "\n",
       "        <progress\n",
       "            value='16'\n",
       "            max='16',\n",
       "            style='width: 100%'\n",
       "        >\n",
       "            16\n",
       "        </progress>\n",
       "    "
      ],
      "text/plain": [
       "<IPython.core.display.HTML object>"
      ]
     },
     "metadata": {
      "tags": []
     },
     "output_type": "display_data"
    },
    {
     "name": "stdout",
     "output_type": "stream",
     "text": [
      "Epoch [4] Validation Loss: 0.1710 Validation Pixel Acc: 94.31 Mean Class Acc: 49.68 IoU: 38.35\n"
     ]
    },
    {
     "data": {
      "text/html": [
       "\n",
       "        <progress\n",
       "            value='56'\n",
       "            max='56',\n",
       "            style='width: 100%'\n",
       "        >\n",
       "            56\n",
       "        </progress>\n",
       "    "
      ],
      "text/plain": [
       "<IPython.core.display.HTML object>"
      ]
     },
     "metadata": {
      "tags": []
     },
     "output_type": "display_data"
    },
    {
     "name": "stdout",
     "output_type": "stream",
     "text": [
      "Epoch [5] Training Loss: 0.2134 Training Pixel Acc: 93.54\n"
     ]
    },
    {
     "data": {
      "text/html": [
       "\n",
       "        <progress\n",
       "            value='16'\n",
       "            max='16',\n",
       "            style='width: 100%'\n",
       "        >\n",
       "            16\n",
       "        </progress>\n",
       "    "
      ],
      "text/plain": [
       "<IPython.core.display.HTML object>"
      ]
     },
     "metadata": {
      "tags": []
     },
     "output_type": "display_data"
    },
    {
     "name": "stdout",
     "output_type": "stream",
     "text": [
      "Epoch [5] Validation Loss: 0.1975 Validation Pixel Acc: 93.96 Mean Class Acc: 49.23 IoU: 38.61\n"
     ]
    },
    {
     "data": {
      "text/html": [
       "\n",
       "        <progress\n",
       "            value='56'\n",
       "            max='56',\n",
       "            style='width: 100%'\n",
       "        >\n",
       "            56\n",
       "        </progress>\n",
       "    "
      ],
      "text/plain": [
       "<IPython.core.display.HTML object>"
      ]
     },
     "metadata": {
      "tags": []
     },
     "output_type": "display_data"
    },
    {
     "name": "stdout",
     "output_type": "stream",
     "text": [
      "Epoch [6] Training Loss: 0.1787 Training Pixel Acc: 94.31\n"
     ]
    },
    {
     "data": {
      "text/html": [
       "\n",
       "        <progress\n",
       "            value='16'\n",
       "            max='16',\n",
       "            style='width: 100%'\n",
       "        >\n",
       "            16\n",
       "        </progress>\n",
       "    "
      ],
      "text/plain": [
       "<IPython.core.display.HTML object>"
      ]
     },
     "metadata": {
      "tags": []
     },
     "output_type": "display_data"
    },
    {
     "name": "stdout",
     "output_type": "stream",
     "text": [
      "Epoch [6] Validation Loss: 0.1336 Validation Pixel Acc: 95.50 Mean Class Acc: 64.22 IoU: 46.02\n"
     ]
    },
    {
     "data": {
      "text/html": [
       "\n",
       "        <progress\n",
       "            value='56'\n",
       "            max='56',\n",
       "            style='width: 100%'\n",
       "        >\n",
       "            56\n",
       "        </progress>\n",
       "    "
      ],
      "text/plain": [
       "<IPython.core.display.HTML object>"
      ]
     },
     "metadata": {
      "tags": []
     },
     "output_type": "display_data"
    },
    {
     "name": "stdout",
     "output_type": "stream",
     "text": [
      "Epoch [7] Training Loss: 0.1663 Training Pixel Acc: 94.78\n"
     ]
    },
    {
     "data": {
      "text/html": [
       "\n",
       "        <progress\n",
       "            value='16'\n",
       "            max='16',\n",
       "            style='width: 100%'\n",
       "        >\n",
       "            16\n",
       "        </progress>\n",
       "    "
      ],
      "text/plain": [
       "<IPython.core.display.HTML object>"
      ]
     },
     "metadata": {
      "tags": []
     },
     "output_type": "display_data"
    },
    {
     "name": "stdout",
     "output_type": "stream",
     "text": [
      "Epoch [7] Validation Loss: 0.1304 Validation Pixel Acc: 95.61 Mean Class Acc: 67.83 IoU: 50.24\n"
     ]
    },
    {
     "data": {
      "text/html": [
       "\n",
       "        <progress\n",
       "            value='56'\n",
       "            max='56',\n",
       "            style='width: 100%'\n",
       "        >\n",
       "            56\n",
       "        </progress>\n",
       "    "
      ],
      "text/plain": [
       "<IPython.core.display.HTML object>"
      ]
     },
     "metadata": {
      "tags": []
     },
     "output_type": "display_data"
    },
    {
     "name": "stdout",
     "output_type": "stream",
     "text": [
      "Epoch [8] Training Loss: 0.1486 Training Pixel Acc: 95.20\n"
     ]
    },
    {
     "data": {
      "text/html": [
       "\n",
       "        <progress\n",
       "            value='16'\n",
       "            max='16',\n",
       "            style='width: 100%'\n",
       "        >\n",
       "            16\n",
       "        </progress>\n",
       "    "
      ],
      "text/plain": [
       "<IPython.core.display.HTML object>"
      ]
     },
     "metadata": {
      "tags": []
     },
     "output_type": "display_data"
    },
    {
     "name": "stdout",
     "output_type": "stream",
     "text": [
      "Epoch [8] Validation Loss: 0.1455 Validation Pixel Acc: 95.04 Mean Class Acc: 62.14 IoU: 47.68\n"
     ]
    },
    {
     "data": {
      "text/html": [
       "\n",
       "        <progress\n",
       "            value='56'\n",
       "            max='56',\n",
       "            style='width: 100%'\n",
       "        >\n",
       "            56\n",
       "        </progress>\n",
       "    "
      ],
      "text/plain": [
       "<IPython.core.display.HTML object>"
      ]
     },
     "metadata": {
      "tags": []
     },
     "output_type": "display_data"
    },
    {
     "name": "stdout",
     "output_type": "stream",
     "text": [
      "Epoch [9] Training Loss: 0.1344 Training Pixel Acc: 95.60\n"
     ]
    },
    {
     "data": {
      "text/html": [
       "\n",
       "        <progress\n",
       "            value='16'\n",
       "            max='16',\n",
       "            style='width: 100%'\n",
       "        >\n",
       "            16\n",
       "        </progress>\n",
       "    "
      ],
      "text/plain": [
       "<IPython.core.display.HTML object>"
      ]
     },
     "metadata": {
      "tags": []
     },
     "output_type": "display_data"
    },
    {
     "name": "stdout",
     "output_type": "stream",
     "text": [
      "Epoch [9] Validation Loss: 0.1393 Validation Pixel Acc: 95.53 Mean Class Acc: 63.91 IoU: 51.65\n"
     ]
    },
    {
     "data": {
      "text/html": [
       "\n",
       "        <progress\n",
       "            value='56'\n",
       "            max='56',\n",
       "            style='width: 100%'\n",
       "        >\n",
       "            56\n",
       "        </progress>\n",
       "    "
      ],
      "text/plain": [
       "<IPython.core.display.HTML object>"
      ]
     },
     "metadata": {
      "tags": []
     },
     "output_type": "display_data"
    },
    {
     "name": "stdout",
     "output_type": "stream",
     "text": [
      "Epoch [10] Training Loss: 0.1122 Training Pixel Acc: 96.30\n"
     ]
    },
    {
     "data": {
      "text/html": [
       "\n",
       "        <progress\n",
       "            value='16'\n",
       "            max='16',\n",
       "            style='width: 100%'\n",
       "        >\n",
       "            16\n",
       "        </progress>\n",
       "    "
      ],
      "text/plain": [
       "<IPython.core.display.HTML object>"
      ]
     },
     "metadata": {
      "tags": []
     },
     "output_type": "display_data"
    },
    {
     "name": "stdout",
     "output_type": "stream",
     "text": [
      "Epoch [10] Validation Loss: 0.1042 Validation Pixel Acc: 96.52 Mean Class Acc: 81.07 IoU: 58.99\n"
     ]
    },
    {
     "data": {
      "text/html": [
       "\n",
       "        <progress\n",
       "            value='56'\n",
       "            max='56',\n",
       "            style='width: 100%'\n",
       "        >\n",
       "            56\n",
       "        </progress>\n",
       "    "
      ],
      "text/plain": [
       "<IPython.core.display.HTML object>"
      ]
     },
     "metadata": {
      "tags": []
     },
     "output_type": "display_data"
    },
    {
     "name": "stdout",
     "output_type": "stream",
     "text": [
      "Epoch [11] Training Loss: 0.1126 Training Pixel Acc: 96.18\n"
     ]
    },
    {
     "data": {
      "text/html": [
       "\n",
       "        <progress\n",
       "            value='16'\n",
       "            max='16',\n",
       "            style='width: 100%'\n",
       "        >\n",
       "            16\n",
       "        </progress>\n",
       "    "
      ],
      "text/plain": [
       "<IPython.core.display.HTML object>"
      ]
     },
     "metadata": {
      "tags": []
     },
     "output_type": "display_data"
    },
    {
     "name": "stdout",
     "output_type": "stream",
     "text": [
      "Epoch [11] Validation Loss: 0.0991 Validation Pixel Acc: 96.61 Mean Class Acc: 73.87 IoU: 59.28\n"
     ]
    },
    {
     "data": {
      "text/html": [
       "\n",
       "        <progress\n",
       "            value='56'\n",
       "            max='56',\n",
       "            style='width: 100%'\n",
       "        >\n",
       "            56\n",
       "        </progress>\n",
       "    "
      ],
      "text/plain": [
       "<IPython.core.display.HTML object>"
      ]
     },
     "metadata": {
      "tags": []
     },
     "output_type": "display_data"
    },
    {
     "name": "stdout",
     "output_type": "stream",
     "text": [
      "Epoch [12] Training Loss: 0.1072 Training Pixel Acc: 96.46\n"
     ]
    },
    {
     "data": {
      "text/html": [
       "\n",
       "        <progress\n",
       "            value='16'\n",
       "            max='16',\n",
       "            style='width: 100%'\n",
       "        >\n",
       "            16\n",
       "        </progress>\n",
       "    "
      ],
      "text/plain": [
       "<IPython.core.display.HTML object>"
      ]
     },
     "metadata": {
      "tags": []
     },
     "output_type": "display_data"
    },
    {
     "name": "stdout",
     "output_type": "stream",
     "text": [
      "Epoch [12] Validation Loss: 0.0858 Validation Pixel Acc: 97.21 Mean Class Acc: 79.15 IoU: 62.62\n"
     ]
    },
    {
     "data": {
      "text/html": [
       "\n",
       "        <progress\n",
       "            value='56'\n",
       "            max='56',\n",
       "            style='width: 100%'\n",
       "        >\n",
       "            56\n",
       "        </progress>\n",
       "    "
      ],
      "text/plain": [
       "<IPython.core.display.HTML object>"
      ]
     },
     "metadata": {
      "tags": []
     },
     "output_type": "display_data"
    },
    {
     "name": "stdout",
     "output_type": "stream",
     "text": [
      "Epoch [13] Training Loss: 0.0966 Training Pixel Acc: 96.72\n"
     ]
    },
    {
     "data": {
      "text/html": [
       "\n",
       "        <progress\n",
       "            value='16'\n",
       "            max='16',\n",
       "            style='width: 100%'\n",
       "        >\n",
       "            16\n",
       "        </progress>\n",
       "    "
      ],
      "text/plain": [
       "<IPython.core.display.HTML object>"
      ]
     },
     "metadata": {
      "tags": []
     },
     "output_type": "display_data"
    },
    {
     "name": "stdout",
     "output_type": "stream",
     "text": [
      "Epoch [13] Validation Loss: 0.0821 Validation Pixel Acc: 97.27 Mean Class Acc: 79.24 IoU: 63.81\n"
     ]
    },
    {
     "data": {
      "text/html": [
       "\n",
       "        <progress\n",
       "            value='56'\n",
       "            max='56',\n",
       "            style='width: 100%'\n",
       "        >\n",
       "            56\n",
       "        </progress>\n",
       "    "
      ],
      "text/plain": [
       "<IPython.core.display.HTML object>"
      ]
     },
     "metadata": {
      "tags": []
     },
     "output_type": "display_data"
    },
    {
     "name": "stdout",
     "output_type": "stream",
     "text": [
      "Epoch [14] Training Loss: 0.0966 Training Pixel Acc: 96.70\n"
     ]
    },
    {
     "data": {
      "text/html": [
       "\n",
       "        <progress\n",
       "            value='16'\n",
       "            max='16',\n",
       "            style='width: 100%'\n",
       "        >\n",
       "            16\n",
       "        </progress>\n",
       "    "
      ],
      "text/plain": [
       "<IPython.core.display.HTML object>"
      ]
     },
     "metadata": {
      "tags": []
     },
     "output_type": "display_data"
    },
    {
     "name": "stdout",
     "output_type": "stream",
     "text": [
      "Epoch [14] Validation Loss: 0.0801 Validation Pixel Acc: 97.23 Mean Class Acc: 81.72 IoU: 63.42\n"
     ]
    },
    {
     "data": {
      "text/html": [
       "\n",
       "        <progress\n",
       "            value='56'\n",
       "            max='56',\n",
       "            style='width: 100%'\n",
       "        >\n",
       "            56\n",
       "        </progress>\n",
       "    "
      ],
      "text/plain": [
       "<IPython.core.display.HTML object>"
      ]
     },
     "metadata": {
      "tags": []
     },
     "output_type": "display_data"
    },
    {
     "name": "stdout",
     "output_type": "stream",
     "text": [
      "Epoch [15] Training Loss: 0.0884 Training Pixel Acc: 96.94\n"
     ]
    },
    {
     "data": {
      "text/html": [
       "\n",
       "        <progress\n",
       "            value='16'\n",
       "            max='16',\n",
       "            style='width: 100%'\n",
       "        >\n",
       "            16\n",
       "        </progress>\n",
       "    "
      ],
      "text/plain": [
       "<IPython.core.display.HTML object>"
      ]
     },
     "metadata": {
      "tags": []
     },
     "output_type": "display_data"
    },
    {
     "name": "stdout",
     "output_type": "stream",
     "text": [
      "Epoch [15] Validation Loss: 0.1027 Validation Pixel Acc: 96.75 Mean Class Acc: 78.15 IoU: 63.08\n"
     ]
    },
    {
     "data": {
      "text/html": [
       "\n",
       "        <progress\n",
       "            value='56'\n",
       "            max='56',\n",
       "            style='width: 100%'\n",
       "        >\n",
       "            56\n",
       "        </progress>\n",
       "    "
      ],
      "text/plain": [
       "<IPython.core.display.HTML object>"
      ]
     },
     "metadata": {
      "tags": []
     },
     "output_type": "display_data"
    },
    {
     "name": "stdout",
     "output_type": "stream",
     "text": [
      "Epoch [16] Training Loss: 0.0915 Training Pixel Acc: 96.87\n"
     ]
    },
    {
     "data": {
      "text/html": [
       "\n",
       "        <progress\n",
       "            value='16'\n",
       "            max='16',\n",
       "            style='width: 100%'\n",
       "        >\n",
       "            16\n",
       "        </progress>\n",
       "    "
      ],
      "text/plain": [
       "<IPython.core.display.HTML object>"
      ]
     },
     "metadata": {
      "tags": []
     },
     "output_type": "display_data"
    },
    {
     "name": "stdout",
     "output_type": "stream",
     "text": [
      "Epoch [16] Validation Loss: 0.0877 Validation Pixel Acc: 96.91 Mean Class Acc: 86.51 IoU: 64.36\n"
     ]
    },
    {
     "data": {
      "text/html": [
       "\n",
       "        <progress\n",
       "            value='56'\n",
       "            max='56',\n",
       "            style='width: 100%'\n",
       "        >\n",
       "            56\n",
       "        </progress>\n",
       "    "
      ],
      "text/plain": [
       "<IPython.core.display.HTML object>"
      ]
     },
     "metadata": {
      "tags": []
     },
     "output_type": "display_data"
    },
    {
     "name": "stdout",
     "output_type": "stream",
     "text": [
      "Epoch [17] Training Loss: 0.0905 Training Pixel Acc: 96.89\n"
     ]
    },
    {
     "data": {
      "text/html": [
       "\n",
       "        <progress\n",
       "            value='16'\n",
       "            max='16',\n",
       "            style='width: 100%'\n",
       "        >\n",
       "            16\n",
       "        </progress>\n",
       "    "
      ],
      "text/plain": [
       "<IPython.core.display.HTML object>"
      ]
     },
     "metadata": {
      "tags": []
     },
     "output_type": "display_data"
    },
    {
     "name": "stdout",
     "output_type": "stream",
     "text": [
      "Epoch [17] Validation Loss: 0.0779 Validation Pixel Acc: 97.34 Mean Class Acc: 81.71 IoU: 66.60\n"
     ]
    },
    {
     "data": {
      "text/html": [
       "\n",
       "        <progress\n",
       "            value='56'\n",
       "            max='56',\n",
       "            style='width: 100%'\n",
       "        >\n",
       "            56\n",
       "        </progress>\n",
       "    "
      ],
      "text/plain": [
       "<IPython.core.display.HTML object>"
      ]
     },
     "metadata": {
      "tags": []
     },
     "output_type": "display_data"
    },
    {
     "name": "stdout",
     "output_type": "stream",
     "text": [
      "Epoch [18] Training Loss: 0.0856 Training Pixel Acc: 97.09\n"
     ]
    },
    {
     "data": {
      "text/html": [
       "\n",
       "        <progress\n",
       "            value='16'\n",
       "            max='16',\n",
       "            style='width: 100%'\n",
       "        >\n",
       "            16\n",
       "        </progress>\n",
       "    "
      ],
      "text/plain": [
       "<IPython.core.display.HTML object>"
      ]
     },
     "metadata": {
      "tags": []
     },
     "output_type": "display_data"
    },
    {
     "name": "stdout",
     "output_type": "stream",
     "text": [
      "Epoch [18] Validation Loss: 0.0778 Validation Pixel Acc: 97.24 Mean Class Acc: 85.34 IoU: 64.39\n"
     ]
    },
    {
     "data": {
      "text/html": [
       "\n",
       "        <progress\n",
       "            value='56'\n",
       "            max='56',\n",
       "            style='width: 100%'\n",
       "        >\n",
       "            56\n",
       "        </progress>\n",
       "    "
      ],
      "text/plain": [
       "<IPython.core.display.HTML object>"
      ]
     },
     "metadata": {
      "tags": []
     },
     "output_type": "display_data"
    },
    {
     "name": "stdout",
     "output_type": "stream",
     "text": [
      "Epoch [19] Training Loss: 0.0814 Training Pixel Acc: 97.15\n"
     ]
    },
    {
     "data": {
      "text/html": [
       "\n",
       "        <progress\n",
       "            value='16'\n",
       "            max='16',\n",
       "            style='width: 100%'\n",
       "        >\n",
       "            16\n",
       "        </progress>\n",
       "    "
      ],
      "text/plain": [
       "<IPython.core.display.HTML object>"
      ]
     },
     "metadata": {
      "tags": []
     },
     "output_type": "display_data"
    },
    {
     "name": "stdout",
     "output_type": "stream",
     "text": [
      "Epoch [19] Validation Loss: 0.0720 Validation Pixel Acc: 97.55 Mean Class Acc: 83.94 IoU: 69.58\n"
     ]
    },
    {
     "data": {
      "text/html": [
       "\n",
       "        <progress\n",
       "            value='56'\n",
       "            max='56',\n",
       "            style='width: 100%'\n",
       "        >\n",
       "            56\n",
       "        </progress>\n",
       "    "
      ],
      "text/plain": [
       "<IPython.core.display.HTML object>"
      ]
     },
     "metadata": {
      "tags": []
     },
     "output_type": "display_data"
    },
    {
     "name": "stdout",
     "output_type": "stream",
     "text": [
      "Epoch [20] Training Loss: 0.0891 Training Pixel Acc: 97.07\n"
     ]
    },
    {
     "data": {
      "text/html": [
       "\n",
       "        <progress\n",
       "            value='16'\n",
       "            max='16',\n",
       "            style='width: 100%'\n",
       "        >\n",
       "            16\n",
       "        </progress>\n",
       "    "
      ],
      "text/plain": [
       "<IPython.core.display.HTML object>"
      ]
     },
     "metadata": {
      "tags": []
     },
     "output_type": "display_data"
    },
    {
     "name": "stdout",
     "output_type": "stream",
     "text": [
      "Epoch [20] Validation Loss: 0.0653 Validation Pixel Acc: 97.62 Mean Class Acc: 86.52 IoU: 68.10\n"
     ]
    },
    {
     "data": {
      "text/html": [
       "\n",
       "        <progress\n",
       "            value='56'\n",
       "            max='56',\n",
       "            style='width: 100%'\n",
       "        >\n",
       "            56\n",
       "        </progress>\n",
       "    "
      ],
      "text/plain": [
       "<IPython.core.display.HTML object>"
      ]
     },
     "metadata": {
      "tags": []
     },
     "output_type": "display_data"
    },
    {
     "name": "stdout",
     "output_type": "stream",
     "text": [
      "Epoch [21] Training Loss: 0.0630 Training Pixel Acc: 97.74\n"
     ]
    },
    {
     "data": {
      "text/html": [
       "\n",
       "        <progress\n",
       "            value='16'\n",
       "            max='16',\n",
       "            style='width: 100%'\n",
       "        >\n",
       "            16\n",
       "        </progress>\n",
       "    "
      ],
      "text/plain": [
       "<IPython.core.display.HTML object>"
      ]
     },
     "metadata": {
      "tags": []
     },
     "output_type": "display_data"
    },
    {
     "name": "stdout",
     "output_type": "stream",
     "text": [
      "Epoch [21] Validation Loss: 0.0594 Validation Pixel Acc: 97.87 Mean Class Acc: 87.62 IoU: 70.99\n"
     ]
    },
    {
     "data": {
      "text/html": [
       "\n",
       "        <progress\n",
       "            value='56'\n",
       "            max='56',\n",
       "            style='width: 100%'\n",
       "        >\n",
       "            56\n",
       "        </progress>\n",
       "    "
      ],
      "text/plain": [
       "<IPython.core.display.HTML object>"
      ]
     },
     "metadata": {
      "tags": []
     },
     "output_type": "display_data"
    },
    {
     "name": "stdout",
     "output_type": "stream",
     "text": [
      "Epoch [22] Training Loss: 0.0605 Training Pixel Acc: 97.88\n"
     ]
    },
    {
     "data": {
      "text/html": [
       "\n",
       "        <progress\n",
       "            value='16'\n",
       "            max='16',\n",
       "            style='width: 100%'\n",
       "        >\n",
       "            16\n",
       "        </progress>\n",
       "    "
      ],
      "text/plain": [
       "<IPython.core.display.HTML object>"
      ]
     },
     "metadata": {
      "tags": []
     },
     "output_type": "display_data"
    },
    {
     "name": "stdout",
     "output_type": "stream",
     "text": [
      "Epoch [22] Validation Loss: 0.0547 Validation Pixel Acc: 97.97 Mean Class Acc: 88.14 IoU: 72.14\n"
     ]
    },
    {
     "data": {
      "text/html": [
       "\n",
       "        <progress\n",
       "            value='56'\n",
       "            max='56',\n",
       "            style='width: 100%'\n",
       "        >\n",
       "            56\n",
       "        </progress>\n",
       "    "
      ],
      "text/plain": [
       "<IPython.core.display.HTML object>"
      ]
     },
     "metadata": {
      "tags": []
     },
     "output_type": "display_data"
    },
    {
     "name": "stdout",
     "output_type": "stream",
     "text": [
      "Epoch [23] Training Loss: 0.0566 Training Pixel Acc: 97.96\n"
     ]
    },
    {
     "data": {
      "text/html": [
       "\n",
       "        <progress\n",
       "            value='16'\n",
       "            max='16',\n",
       "            style='width: 100%'\n",
       "        >\n",
       "            16\n",
       "        </progress>\n",
       "    "
      ],
      "text/plain": [
       "<IPython.core.display.HTML object>"
      ]
     },
     "metadata": {
      "tags": []
     },
     "output_type": "display_data"
    },
    {
     "name": "stdout",
     "output_type": "stream",
     "text": [
      "Epoch [23] Validation Loss: 0.0577 Validation Pixel Acc: 98.00 Mean Class Acc: 87.89 IoU: 71.87\n"
     ]
    },
    {
     "data": {
      "text/html": [
       "\n",
       "        <progress\n",
       "            value='56'\n",
       "            max='56',\n",
       "            style='width: 100%'\n",
       "        >\n",
       "            56\n",
       "        </progress>\n",
       "    "
      ],
      "text/plain": [
       "<IPython.core.display.HTML object>"
      ]
     },
     "metadata": {
      "tags": []
     },
     "output_type": "display_data"
    },
    {
     "name": "stdout",
     "output_type": "stream",
     "text": [
      "Epoch [24] Training Loss: 0.0554 Training Pixel Acc: 98.01\n"
     ]
    },
    {
     "data": {
      "text/html": [
       "\n",
       "        <progress\n",
       "            value='16'\n",
       "            max='16',\n",
       "            style='width: 100%'\n",
       "        >\n",
       "            16\n",
       "        </progress>\n",
       "    "
      ],
      "text/plain": [
       "<IPython.core.display.HTML object>"
      ]
     },
     "metadata": {
      "tags": []
     },
     "output_type": "display_data"
    },
    {
     "name": "stdout",
     "output_type": "stream",
     "text": [
      "Epoch [24] Validation Loss: 0.0535 Validation Pixel Acc: 98.03 Mean Class Acc: 88.64 IoU: 72.63\n"
     ]
    },
    {
     "data": {
      "text/html": [
       "\n",
       "        <progress\n",
       "            value='56'\n",
       "            max='56',\n",
       "            style='width: 100%'\n",
       "        >\n",
       "            56\n",
       "        </progress>\n",
       "    "
      ],
      "text/plain": [
       "<IPython.core.display.HTML object>"
      ]
     },
     "metadata": {
      "tags": []
     },
     "output_type": "display_data"
    },
    {
     "name": "stdout",
     "output_type": "stream",
     "text": [
      "Epoch [25] Training Loss: 0.0535 Training Pixel Acc: 98.08\n"
     ]
    },
    {
     "data": {
      "text/html": [
       "\n",
       "        <progress\n",
       "            value='16'\n",
       "            max='16',\n",
       "            style='width: 100%'\n",
       "        >\n",
       "            16\n",
       "        </progress>\n",
       "    "
      ],
      "text/plain": [
       "<IPython.core.display.HTML object>"
      ]
     },
     "metadata": {
      "tags": []
     },
     "output_type": "display_data"
    },
    {
     "name": "stdout",
     "output_type": "stream",
     "text": [
      "Epoch [25] Validation Loss: 0.0548 Validation Pixel Acc: 98.05 Mean Class Acc: 89.01 IoU: 73.39\n"
     ]
    },
    {
     "data": {
      "text/html": [
       "\n",
       "        <progress\n",
       "            value='56'\n",
       "            max='56',\n",
       "            style='width: 100%'\n",
       "        >\n",
       "            56\n",
       "        </progress>\n",
       "    "
      ],
      "text/plain": [
       "<IPython.core.display.HTML object>"
      ]
     },
     "metadata": {
      "tags": []
     },
     "output_type": "display_data"
    },
    {
     "name": "stdout",
     "output_type": "stream",
     "text": [
      "Epoch [26] Training Loss: 0.0525 Training Pixel Acc: 98.12\n"
     ]
    },
    {
     "data": {
      "text/html": [
       "\n",
       "        <progress\n",
       "            value='16'\n",
       "            max='16',\n",
       "            style='width: 100%'\n",
       "        >\n",
       "            16\n",
       "        </progress>\n",
       "    "
      ],
      "text/plain": [
       "<IPython.core.display.HTML object>"
      ]
     },
     "metadata": {
      "tags": []
     },
     "output_type": "display_data"
    },
    {
     "name": "stdout",
     "output_type": "stream",
     "text": [
      "Epoch [26] Validation Loss: 0.0529 Validation Pixel Acc: 98.08 Mean Class Acc: 89.31 IoU: 73.38\n"
     ]
    },
    {
     "data": {
      "text/html": [
       "\n",
       "        <progress\n",
       "            value='56'\n",
       "            max='56',\n",
       "            style='width: 100%'\n",
       "        >\n",
       "            56\n",
       "        </progress>\n",
       "    "
      ],
      "text/plain": [
       "<IPython.core.display.HTML object>"
      ]
     },
     "metadata": {
      "tags": []
     },
     "output_type": "display_data"
    },
    {
     "name": "stdout",
     "output_type": "stream",
     "text": [
      "Epoch [27] Training Loss: 0.0512 Training Pixel Acc: 98.16\n"
     ]
    },
    {
     "data": {
      "text/html": [
       "\n",
       "        <progress\n",
       "            value='16'\n",
       "            max='16',\n",
       "            style='width: 100%'\n",
       "        >\n",
       "            16\n",
       "        </progress>\n",
       "    "
      ],
      "text/plain": [
       "<IPython.core.display.HTML object>"
      ]
     },
     "metadata": {
      "tags": []
     },
     "output_type": "display_data"
    },
    {
     "name": "stdout",
     "output_type": "stream",
     "text": [
      "Epoch [27] Validation Loss: 0.0546 Validation Pixel Acc: 98.07 Mean Class Acc: 88.70 IoU: 73.37\n"
     ]
    },
    {
     "data": {
      "text/html": [
       "\n",
       "        <progress\n",
       "            value='56'\n",
       "            max='56',\n",
       "            style='width: 100%'\n",
       "        >\n",
       "            56\n",
       "        </progress>\n",
       "    "
      ],
      "text/plain": [
       "<IPython.core.display.HTML object>"
      ]
     },
     "metadata": {
      "tags": []
     },
     "output_type": "display_data"
    },
    {
     "name": "stdout",
     "output_type": "stream",
     "text": [
      "Epoch [28] Training Loss: 0.0505 Training Pixel Acc: 98.18\n"
     ]
    },
    {
     "data": {
      "text/html": [
       "\n",
       "        <progress\n",
       "            value='16'\n",
       "            max='16',\n",
       "            style='width: 100%'\n",
       "        >\n",
       "            16\n",
       "        </progress>\n",
       "    "
      ],
      "text/plain": [
       "<IPython.core.display.HTML object>"
      ]
     },
     "metadata": {
      "tags": []
     },
     "output_type": "display_data"
    },
    {
     "name": "stdout",
     "output_type": "stream",
     "text": [
      "Epoch [28] Validation Loss: 0.0537 Validation Pixel Acc: 98.10 Mean Class Acc: 89.14 IoU: 74.55\n"
     ]
    },
    {
     "data": {
      "text/html": [
       "\n",
       "        <progress\n",
       "            value='56'\n",
       "            max='56',\n",
       "            style='width: 100%'\n",
       "        >\n",
       "            56\n",
       "        </progress>\n",
       "    "
      ],
      "text/plain": [
       "<IPython.core.display.HTML object>"
      ]
     },
     "metadata": {
      "tags": []
     },
     "output_type": "display_data"
    },
    {
     "name": "stdout",
     "output_type": "stream",
     "text": [
      "Epoch [29] Training Loss: 0.0494 Training Pixel Acc: 98.20\n"
     ]
    },
    {
     "data": {
      "text/html": [
       "\n",
       "        <progress\n",
       "            value='16'\n",
       "            max='16',\n",
       "            style='width: 100%'\n",
       "        >\n",
       "            16\n",
       "        </progress>\n",
       "    "
      ],
      "text/plain": [
       "<IPython.core.display.HTML object>"
      ]
     },
     "metadata": {
      "tags": []
     },
     "output_type": "display_data"
    },
    {
     "name": "stdout",
     "output_type": "stream",
     "text": [
      "Epoch [29] Validation Loss: 0.0520 Validation Pixel Acc: 98.15 Mean Class Acc: 89.75 IoU: 74.29\n"
     ]
    },
    {
     "data": {
      "text/html": [
       "\n",
       "        <progress\n",
       "            value='56'\n",
       "            max='56',\n",
       "            style='width: 100%'\n",
       "        >\n",
       "            56\n",
       "        </progress>\n",
       "    "
      ],
      "text/plain": [
       "<IPython.core.display.HTML object>"
      ]
     },
     "metadata": {
      "tags": []
     },
     "output_type": "display_data"
    },
    {
     "name": "stdout",
     "output_type": "stream",
     "text": [
      "Epoch [30] Training Loss: 0.0503 Training Pixel Acc: 98.19\n"
     ]
    },
    {
     "data": {
      "text/html": [
       "\n",
       "        <progress\n",
       "            value='16'\n",
       "            max='16',\n",
       "            style='width: 100%'\n",
       "        >\n",
       "            16\n",
       "        </progress>\n",
       "    "
      ],
      "text/plain": [
       "<IPython.core.display.HTML object>"
      ]
     },
     "metadata": {
      "tags": []
     },
     "output_type": "display_data"
    },
    {
     "name": "stdout",
     "output_type": "stream",
     "text": [
      "Epoch [30] Validation Loss: 0.0524 Validation Pixel Acc: 98.10 Mean Class Acc: 89.93 IoU: 74.55\n",
      "Finished Training\n"
     ]
    },
    {
     "data": {
      "image/png": "[encoded data removed]",
      "text/plain": [
       "<Figure size 432x288 with 1 Axes>"
      ]
     },
     "metadata": {
      "tags": []
     },
     "output_type": "display_data"
    },
    {
     "data": {
      "image/png": "[encoded data removed]",
      "text/plain": [
       "<Figure size 432x288 with 1 Axes>"
      ]
     },
     "metadata": {
      "tags": []
     },
     "output_type": "display_data"
    }
   ],
   "source": [
    "import torch.optim as optim\n",
    "from torch.optim import lr_scheduler\n",
    "\n",
    "%matplotlib inline\n",
    "import matplotlib\n",
    "import matplotlib.pyplot as plt\n",
    "\n",
    "# Makes multiple runs comparable\n",
    "torch.manual_seed(42)\n",
    "torch.cuda.manual_seed(42)\n",
    "torch.backends.cudnn.deterministic = True\n",
    "torch.backends.cudnn.benchmark = False\n",
    "\n",
    "net = FCN(16,numClass).cuda()\n",
    "\n",
    "criterion = nn.CrossEntropyLoss().cuda()\n",
    "\n",
    "optimizer = optim.Adam(net.parameters(), lr=1e-3, weight_decay=1e-4)\n",
    "\n",
    "scheduler = lr_scheduler.StepLR(optimizer,20)\n",
    "\n",
    "# Epoch counter\n",
    "numEpoch = 30\n",
    "\n",
    "trLosses = []\n",
    "trAccs = []\n",
    "valLosses = []\n",
    "valAccs = []\n",
    "\n",
    "for epoch in range(numEpoch):\n",
    "\n",
    "  # Call train and val\n",
    "  tr_loss,tr_corr = train(epoch)\n",
    "  val_loss,val_corr = val(epoch)\n",
    "\n",
    "  # Step with the scheduler\n",
    "  scheduler.step()\n",
    "  \n",
    "  trLosses.append(tr_loss)\n",
    "  trAccs.append(tr_corr)\n",
    "  valLosses.append(val_loss)\n",
    "  valAccs.append(val_corr)\n",
    "\n",
    "# Finished\n",
    "print('Finished Training')\n",
    "plt.plot(trLosses)\n",
    "plt.plot(valLosses)\n",
    "plt.show()\n",
    "plt.plot(trAccs)\n",
    "plt.plot(valAccs)\n",
    "plt.show()\n"
   ]
  },
  {
   "cell_type": "markdown",
   "metadata": {
    "colab_type": "text",
    "id": "G91639y8K90a"
   },
   "source": [
    "## Vizualizáció\n",
    "\n",
    "### Színezés"
   ]
  },
  {
   "cell_type": "code",
   "execution_count": 0,
   "metadata": {
    "colab": {},
    "colab_type": "code",
    "id": "-_xKIVFJZK6j"
   },
   "outputs": [],
   "source": [
    "def Colorize(gray_image):\n",
    "  cmap = torch.ByteTensor([[0,0,0],[255,0,0],[0,255,0],[0,0,255],[255,255,255]])\n",
    "  size = gray_image.size()\n",
    "  color_image = torch.ByteTensor(3, size[0], size[1]).fill_(0)\n",
    "\n",
    "  for label in range(0, len(cmap)):\n",
    "      mask = (label == gray_image).cpu()\n",
    "      color_image[0][mask] = cmap[label][0]\n",
    "      color_image[1][mask] = cmap[label][1]\n",
    "      color_image[2][mask] = cmap[label][2]\n",
    "\n",
    "  return color_image"
   ]
  },
  {
   "cell_type": "markdown",
   "metadata": {
    "colab_type": "text",
    "id": "LmPygaElZDKt"
   },
   "source": [
    "### Egy minibatch"
   ]
  },
  {
   "cell_type": "code",
   "execution_count": 26,
   "metadata": {
    "colab": {
     "base_uri": "https://localhost:8080/",
     "height": 1000
    },
    "colab_type": "code",
    "executionInfo": {
     "elapsed": 1733,
     "status": "ok",
     "timestamp": 1580805436273,
     "user": {
      "displayName": "Márton Szemenyei",
      "photoUrl": "https://lh3.googleusercontent.com/a-/AAuE7mAc8dCePU7Sl-30CxlO-gznhT5oQGC-p4sH7g2b8_c=s64",
      "userId": "10031764366786993279"
     },
     "user_tz": -60
    },
    "id": "kn2Ynn_QXwhl",
    "outputId": "979141fa-1afd-4901-8a12-abad60474333"
   },
   "outputs": [
    {
     "data": {
      "image/png": "[encoded data removed]",
      "text/plain": [
       "<Figure size 432x288 with 2 Axes>"
      ]
     },
     "metadata": {
      "tags": []
     },
     "output_type": "display_data"
    },
    {
     "data": {
      "image/png": "[encoded data removed]",
      "text/plain": [
       "<Figure size 432x288 with 2 Axes>"
      ]
     },
     "metadata": {
      "tags": []
     },
     "output_type": "display_data"
    },
    {
     "data": {
      "image/png": "[encoded data removed]",
      "text/plain": [
       "<Figure size 432x288 with 2 Axes>"
      ]
     },
     "metadata": {
      "tags": []
     },
     "output_type": "display_data"
    },
    {
     "data": {
      "image/png": "[encoded data removed]",
      "text/plain": [
       "<Figure size 432x288 with 2 Axes>"
      ]
     },
     "metadata": {
      "tags": []
     },
     "output_type": "display_data"
    },
    {
     "data": {
      "image/png": "[encoded data removed]",
      "text/plain": [
       "<Figure size 432x288 with 2 Axes>"
      ]
     },
     "metadata": {
      "tags": []
     },
     "output_type": "display_data"
    },
    {
     "data": {
      "image/png": "[encoded data removed]",
      "text/plain": [
       "<Figure size 432x288 with 2 Axes>"
      ]
     },
     "metadata": {
      "tags": []
     },
     "output_type": "display_data"
    },
    {
     "data": {
      "image/png": "[encoded data removed]",
      "text/plain": [
       "<Figure size 432x288 with 2 Axes>"
      ]
     },
     "metadata": {
      "tags": []
     },
     "output_type": "display_data"
    },
    {
     "data": {
      "image/png": "[encoded data removed]",
      "text/plain": [
       "<Figure size 432x288 with 2 Axes>"
      ]
     },
     "metadata": {
      "tags": []
     },
     "output_type": "display_data"
    }
   ],
   "source": [
    "%matplotlib inline\n",
    "from matplotlib.pyplot import imshow\n",
    "import matplotlib.pyplot as plt\n",
    "import numpy as np\n",
    "from PIL import Image\n",
    "\n",
    "for i, (images, labels) in enumerate(testLoader):\n",
    "    images = images.cuda()\n",
    "    pred = net(images)\n",
    "    _, predClass = torch.max(pred, 1)\n",
    "    bSize = images.size(0)\n",
    "    for j in range(bSize):\n",
    "        label = Image.fromarray(Colorize(predClass[j]).permute(1, 2, 0).numpy().astype('uint8'))\n",
    "        img = Image.fromarray(((images[j].permute(1, 2, 0).cpu().numpy()/4 + 0.5)*240).astype('uint8'))\n",
    "        plt.figure()\n",
    "        plt.subplot(1, 2, 1)\n",
    "        plt.axis('off')\n",
    "        plt.grid(b=None)\n",
    "        imshow(img)\n",
    "        plt.subplot(1, 2, 2)\n",
    "        plt.axis('off')\n",
    "        plt.grid(b=None)\n",
    "        imshow(label)\n",
    "    plt.show()\n",
    "    break"
   ]
  }
 ],
 "metadata": {
  "accelerator": "GPU",
  "colab": {
   "collapsed_sections": [],
   "name": "Labor4.ipynb",
   "provenance": []
  },
  "kernelspec": {
   "display_name": "Python 3",
   "language": "python",
   "name": "python3"
  },
  "language_info": {
   "codemirror_mode": {
    "name": "ipython",
    "version": 3
   },
   "file_extension": ".py",
   "mimetype": "text/x-python",
   "name": "python",
   "nbconvert_exporter": "python",
   "pygments_lexer": "ipython3",
   "version": "3.7.3"
  }
 },
 "nbformat": 4,
 "nbformat_minor": 1
}
