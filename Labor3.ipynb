{
 "cells": [
  {
   "cell_type": "markdown",
   "metadata": {
    "colab_type": "text",
    "id": "C62RYJ8TH0R2"
   },
   "source": [
    "# Bevezetés\n",
    "\n",
    "A jelen labor célja, hogy egy egyszerű konvolúciós neurális hálót betanítsunk egy osztályozási feladatra.\n",
    "\n",
    "## Könyvtárak installálása és PIL bugfix"
   ]
  },
  {
   "cell_type": "code",
   "execution_count": 1,
   "metadata": {
    "colab": {
     "base_uri": "https://localhost:8080/",
     "height": 119
    },
    "colab_type": "code",
    "executionInfo": {
     "elapsed": 7712,
     "status": "ok",
     "timestamp": 1580803504801,
     "user": {
      "displayName": "Márton Szemenyei",
      "photoUrl": "https://lh3.googleusercontent.com/a-/AAuE7mAc8dCePU7Sl-30CxlO-gznhT5oQGC-p4sH7g2b8_c=s64",
      "userId": "10031764366786993279"
     },
     "user_tz": -60
    },
    "id": "6gZ2YbHzHx6q",
    "outputId": "eb6154a2-f074-4420-aee3-977ddbc82f84"
   },
   "outputs": [
    {
     "name": "stdout",
     "output_type": "stream",
     "text": [
      "Requirement already satisfied: torch in /usr/local/lib/python3.6/dist-packages (1.4.0)\n",
      "Requirement already satisfied: torchvision in /usr/local/lib/python3.6/dist-packages (0.5.0)\n",
      "Requirement already satisfied: pillow>=4.1.1 in /usr/local/lib/python3.6/dist-packages (from torchvision) (7.0.0)\n",
      "Requirement already satisfied: numpy in /usr/local/lib/python3.6/dist-packages (from torchvision) (1.17.5)\n",
      "Requirement already satisfied: six in /usr/local/lib/python3.6/dist-packages (from torchvision) (1.12.0)\n",
      "Requirement already up-to-date: Pillow in /usr/local/lib/python3.6/dist-packages (7.0.0)\n"
     ]
    }
   ],
   "source": [
    "!pip3 install torch torchvision Pillow"
   ]
  },
  {
   "cell_type": "markdown",
   "metadata": {
    "colab_type": "text",
    "id": "_YB-PIpQIeAP"
   },
   "source": [
    "## CUDA és PyTorch ellenőrzése"
   ]
  },
  {
   "cell_type": "code",
   "execution_count": 2,
   "metadata": {
    "colab": {
     "base_uri": "https://localhost:8080/",
     "height": 102
    },
    "colab_type": "code",
    "executionInfo": {
     "elapsed": 6904,
     "status": "ok",
     "timestamp": 1580803515103,
     "user": {
      "displayName": "Márton Szemenyei",
      "photoUrl": "https://lh3.googleusercontent.com/a-/AAuE7mAc8dCePU7Sl-30CxlO-gznhT5oQGC-p4sH7g2b8_c=s64",
      "userId": "10031764366786993279"
     },
     "user_tz": -60
    },
    "id": "Dpx7MfchIibV",
    "outputId": "2eb2ac08-7cdb-432e-9319-bf9741c71574"
   },
   "outputs": [
    {
     "name": "stdout",
     "output_type": "stream",
     "text": [
      "nvcc: NVIDIA (R) Cuda compiler driver\n",
      "Copyright (c) 2005-2018 NVIDIA Corporation\n",
      "Built on Sat_Aug_25_21:08:01_CDT_2018\n",
      "Cuda compilation tools, release 10.0, V10.0.130\n",
      "True\n"
     ]
    }
   ],
   "source": [
    "!nvcc --version\n",
    "import torch\n",
    "print(torch.cuda.is_available())"
   ]
  },
  {
   "cell_type": "markdown",
   "metadata": {
    "colab_type": "text",
    "id": "2iWK17Y7IshJ"
   },
   "source": [
    "## Adatbázis letöltése és kicsomagolása"
   ]
  },
  {
   "cell_type": "code",
   "execution_count": 3,
   "metadata": {
    "colab": {
     "base_uri": "https://localhost:8080/",
     "height": 204
    },
    "colab_type": "code",
    "executionInfo": {
     "elapsed": 9357,
     "status": "ok",
     "timestamp": 1580803525552,
     "user": {
      "displayName": "Márton Szemenyei",
      "photoUrl": "https://lh3.googleusercontent.com/a-/AAuE7mAc8dCePU7Sl-30CxlO-gznhT5oQGC-p4sH7g2b8_c=s64",
      "userId": "10031764366786993279"
     },
     "user_tz": -60
    },
    "id": "LDJC3VYtJSAF",
    "outputId": "fc33bd73-d344-4ef8-dc12-4bdc41090997"
   },
   "outputs": [
    {
     "name": "stdout",
     "output_type": "stream",
     "text": [
      "--2020-02-04 08:05:19--  http://3dmr.iit.bme.hu/edu/DL/RoboCupClass.zip\n",
      "Resolving 3dmr.iit.bme.hu (3dmr.iit.bme.hu)... 152.66.240.25\n",
      "Connecting to 3dmr.iit.bme.hu (3dmr.iit.bme.hu)|152.66.240.25|:80... connected.\n",
      "HTTP request sent, awaiting response... 200 OK\n",
      "Length: 31111398 (30M) [application/zip]\n",
      "Saving to: ‘RoboCupClass.zip’\n",
      "\n",
      "RoboCupClass.zip    100%[===================>]  29.67M  28.2MB/s    in 1.1s    \n",
      "\n",
      "2020-02-04 08:05:22 (28.2 MB/s) - ‘RoboCupClass.zip’ saved [31111398/31111398]\n",
      "\n"
     ]
    }
   ],
   "source": [
    "!wget http://3dmr.iit.bme.hu/edu/DL/RoboCupClass.zip\n",
    "!unzip -qq RoboCupClass.zip\n",
    "!rm RoboCupClass.zip"
   ]
  },
  {
   "cell_type": "markdown",
   "metadata": {
    "colab_type": "text",
    "id": "McgAkA29Jogy"
   },
   "source": [
    "# Megoldás\n",
    "\n",
    "## Progress bar"
   ]
  },
  {
   "cell_type": "code",
   "execution_count": 0,
   "metadata": {
    "colab": {},
    "colab_type": "code",
    "id": "-jzKRziloKN8"
   },
   "outputs": [],
   "source": [
    "from IPython.display import HTML, display\n",
    "\n",
    "def progress(value, max=100):\n",
    "    return HTML(\"\"\"\n",
    "        <progress\n",
    "            value='{value}'\n",
    "            max='{max}',\n",
    "            style='width: 100%'\n",
    "        >\n",
    "            {value}\n",
    "        </progress>\n",
    "    \"\"\".format(value=value, max=max))"
   ]
  },
  {
   "cell_type": "markdown",
   "metadata": {
    "colab_type": "text",
    "id": "8CNu_Lu8oFiC"
   },
   "source": [
    "## Háló modell készítése"
   ]
  },
  {
   "cell_type": "code",
   "execution_count": 0,
   "metadata": {
    "colab": {},
    "colab_type": "code",
    "id": "uCl20BPWjoUA"
   },
   "outputs": [],
   "source": [
    "import torch\n",
    "import torch.nn as nn\n",
    "\n",
    "class Conv(nn.Module):\n",
    "  def __init__(self, inplanes, planes, size, stride=1):\n",
    "    super(Conv, self).__init__()\n",
    "    self.conv = nn.Conv2d(inplanes,planes,size,padding=size//2,stride=stride)\n",
    "    self.bn = nn.BatchNorm2d(planes)\n",
    "\n",
    "  def forward(self, x):\n",
    "    return self.bn(torch.relu(self.conv(x)))\n",
    "\n",
    "class ConvNet(nn.Module):\n",
    "  def __init__(self, planes, size = 3):\n",
    "    super(ConvNet,self).__init__()\n",
    "    self.c1 = Conv(3,planes,size)\n",
    "    self.p1 = Conv(planes,planes*2,size,2)\n",
    "    self.c2 = Conv(planes*2,planes*2,size)\n",
    "    self.p2 = Conv(planes*2,planes*4,size+2,4)\n",
    "    self.c3 = Conv(planes*4,planes*4,size)\n",
    "    self.p3 = Conv(planes*4,planes*8,size+2,4)\n",
    "\n",
    "    self.classifier = nn.Conv2d(planes*8,5,1)\n",
    "\n",
    "  def forward(self, x):\n",
    "    x = self.p1(self.c1(x))\n",
    "    x = self.p2(self.c2(x))\n",
    "    x = self.p3(self.c3(x))\n",
    "    return torch.squeeze(self.classifier(x))"
   ]
  },
  {
   "cell_type": "markdown",
   "metadata": {
    "colab_type": "text",
    "id": "AH1imzgjJw14"
   },
   "source": [
    "## Adatbázisok\n",
    "\n",
    "### Adat augmentációs transzformációk"
   ]
  },
  {
   "cell_type": "code",
   "execution_count": 0,
   "metadata": {
    "colab": {},
    "colab_type": "code",
    "id": "1DwTepivkCSM"
   },
   "outputs": [],
   "source": [
    "import torchvision\n",
    "import torchvision.transforms as transforms\n",
    "\n",
    "haveCuda = torch.cuda.is_available()\n",
    "  \n",
    "transform = transforms.Compose([\n",
    "    transforms.RandomCrop(32, padding=4),\n",
    "    transforms.RandomHorizontalFlip(),\n",
    "    transforms.ColorJitter(brightness=0.25, contrast=0.25, saturation=0.25, hue=0.2),\n",
    "    transforms.ToTensor(),\n",
    "    transforms.Normalize((0.49139968, 0.48215827, 0.44653124),\n",
    "                         (0.24703233, 0.24348505, 0.26158768))\n",
    "])\n",
    "transform_val = transforms.Compose([\n",
    "    transforms.ToTensor(),\n",
    "    transforms.Normalize((0.49139968, 0.48215827, 0.44653124),\n",
    "                         (0.24703233, 0.24348505, 0.26158768))\n",
    "])"
   ]
  },
  {
   "cell_type": "markdown",
   "metadata": {
    "colab_type": "text",
    "id": "65CsUMi3J6vs"
   },
   "source": [
    "### Database"
   ]
  },
  {
   "cell_type": "code",
   "execution_count": 0,
   "metadata": {
    "colab": {},
    "colab_type": "code",
    "id": "Ai369Z2lkou3"
   },
   "outputs": [],
   "source": [
    "trainSet = torchvision.datasets.ImageFolder(root=\"Classification/train/\", transform=transform)\n",
    "testSet = torchvision.datasets.ImageFolder(root=\"Classification/val/\", transform=transform_val)"
   ]
  },
  {
   "cell_type": "markdown",
   "metadata": {
    "colab_type": "text",
    "id": "QqPTvXChJ9Bx"
   },
   "source": [
    "### Dataloader"
   ]
  },
  {
   "cell_type": "code",
   "execution_count": 0,
   "metadata": {
    "colab": {},
    "colab_type": "code",
    "id": "pkTHYhn-lBHH"
   },
   "outputs": [],
   "source": [
    "trainLoader = torch.utils.data.DataLoader(trainSet, batch_size=128, shuffle=True)\n",
    "testLoader = torch.utils.data.DataLoader(testSet, batch_size=128, shuffle=True)"
   ]
  },
  {
   "cell_type": "markdown",
   "metadata": {
    "colab_type": "text",
    "id": "chrOWP5xKHuj"
   },
   "source": [
    "## Epoch függvények\n",
    "\n",
    "### Train"
   ]
  },
  {
   "cell_type": "code",
   "execution_count": 0,
   "metadata": {
    "colab": {},
    "colab_type": "code",
    "id": "IOa6MhmelJ1A"
   },
   "outputs": [],
   "source": [
    "def train(epoch):\n",
    "\n",
    "  # variables for loss\n",
    "  running_loss = 0.0\n",
    "  correct = 0.0\n",
    "  total = 0\n",
    "\n",
    "  # set the network to train (for batchnorm and dropout)\n",
    "  net.train()\n",
    "\n",
    "  # Create progress bar\n",
    "  bar = display(progress(0, len(trainLoader)), display_id=True)\n",
    "\n",
    "  # Epoch loop\n",
    "  for i, data in enumerate(trainLoader, 0):\n",
    "    # get the inputs\n",
    "    inputs, labels = data\n",
    "\n",
    "    # Convert to cuda conditionally\n",
    "    if haveCuda:\n",
    "        inputs, labels = inputs.cuda(), labels.cuda()\n",
    "\n",
    "\n",
    "    # zero the parameter gradients\n",
    "    optimizer.zero_grad()\n",
    "\n",
    "    # forward + backward + optimize\n",
    "    outputs = net(inputs)\n",
    "    loss = criterion(outputs, labels)\n",
    "    loss.backward()\n",
    "    optimizer.step()\n",
    "\n",
    "    # compute statistics\n",
    "    running_loss += loss.item()\n",
    "    _, predicted = torch.max(outputs, 1)\n",
    "    total += labels.size(0)\n",
    "    correct += predicted.eq(labels).sum().item()\n",
    "\n",
    "    # Update progress bar\n",
    "    bar.update(progress(i+1, len(trainLoader)))\n",
    "\n",
    "  # print and plot statistics\n",
    "  tr_loss = running_loss / len(trainLoader)\n",
    "  tr_corr = correct / total * 100\n",
    "  print(\"Train epoch %d loss: %.3f correct: %.2f\" % (epoch + 1, tr_loss, tr_corr))\n",
    "\n",
    "  return tr_loss,tr_corr"
   ]
  },
  {
   "cell_type": "markdown",
   "metadata": {
    "colab_type": "text",
    "id": "ZlEKXQZBKKr0"
   },
   "source": [
    "### Validate"
   ]
  },
  {
   "cell_type": "code",
   "execution_count": 0,
   "metadata": {
    "colab": {},
    "colab_type": "code",
    "id": "w13nbWC6ligA"
   },
   "outputs": [],
   "source": [
    "def val(epoch):\n",
    "\n",
    "  # variables for loss\n",
    "  running_loss = 0.0\n",
    "  correct = 0.0\n",
    "  total = 0\n",
    "\n",
    "  # set the network to eval (for batchnorm and dropout)\n",
    "  net.eval()\n",
    "\n",
    "  # Create progress bar\n",
    "  bar = display(progress(0, len(testLoader)), display_id=True)\n",
    "\n",
    "  # Epoch loop\n",
    "  for i, data in enumerate(testLoader, 0):\n",
    "    # get the inputs\n",
    "    inputs, labels = data\n",
    "\n",
    "    # Convert to cuda conditionally\n",
    "    if haveCuda:\n",
    "        inputs, labels = inputs.cuda(), labels.cuda()\n",
    "\n",
    "    # forward\n",
    "    outputs = net(inputs)\n",
    "    loss = criterion(outputs, labels)\n",
    "\n",
    "    # compute statistics\n",
    "    running_loss += loss.item()\n",
    "    _, predicted = torch.max(outputs, 1)\n",
    "    total += labels.size(0)\n",
    "    correct += predicted.eq(labels).sum().item()\n",
    "\n",
    "    # Update progress bar\n",
    "    bar.update(progress(i+1, len(testLoader)))\n",
    "\n",
    "  # print and plot statistics\n",
    "  val_loss = running_loss / len(testLoader)\n",
    "  val_corr = correct / total * 100\n",
    "  print(\"Test epoch %d loss: %.3f correct: %.2f\" % (epoch + 1, val_loss, val_corr))\n",
    "\n",
    "  return val_loss, val_corr"
   ]
  },
  {
   "cell_type": "markdown",
   "metadata": {
    "colab_type": "text",
    "id": "r3ghg4UEKQ-S"
   },
   "source": [
    "## Fő ciklus\n",
    "\n",
    "### Inicializálás, példányosítás és epoch loop"
   ]
  },
  {
   "cell_type": "code",
   "execution_count": 12,
   "metadata": {
    "colab": {
     "base_uri": "https://localhost:8080/",
     "height": 1000
    },
    "colab_type": "code",
    "executionInfo": {
     "elapsed": 233058,
     "status": "ok",
     "timestamp": 1580803852394,
     "user": {
      "displayName": "Márton Szemenyei",
      "photoUrl": "https://lh3.googleusercontent.com/a-/AAuE7mAc8dCePU7Sl-30CxlO-gznhT5oQGC-p4sH7g2b8_c=s64",
      "userId": "10031764366786993279"
     },
     "user_tz": -60
    },
    "id": "TUOGKeODlpW0",
    "outputId": "72456e7c-d859-4b33-ed7a-8cc6ac3e7d25"
   },
   "outputs": [
    {
     "data": {
      "text/html": [
       "\n",
       "        <progress\n",
       "            value='96'\n",
       "            max='96',\n",
       "            style='width: 100%'\n",
       "        >\n",
       "            96\n",
       "        </progress>\n",
       "    "
      ],
      "text/plain": [
       "<IPython.core.display.HTML object>"
      ]
     },
     "metadata": {
      "tags": []
     },
     "output_type": "display_data"
    },
    {
     "name": "stdout",
     "output_type": "stream",
     "text": [
      "Train epoch 1 loss: 0.579 correct: 76.76\n"
     ]
    },
    {
     "data": {
      "text/html": [
       "\n",
       "        <progress\n",
       "            value='26'\n",
       "            max='26',\n",
       "            style='width: 100%'\n",
       "        >\n",
       "            26\n",
       "        </progress>\n",
       "    "
      ],
      "text/plain": [
       "<IPython.core.display.HTML object>"
      ]
     },
     "metadata": {
      "tags": []
     },
     "output_type": "display_data"
    },
    {
     "name": "stdout",
     "output_type": "stream",
     "text": [
      "Test epoch 1 loss: 0.401 correct: 86.08\n"
     ]
    },
    {
     "data": {
      "text/html": [
       "\n",
       "        <progress\n",
       "            value='96'\n",
       "            max='96',\n",
       "            style='width: 100%'\n",
       "        >\n",
       "            96\n",
       "        </progress>\n",
       "    "
      ],
      "text/plain": [
       "<IPython.core.display.HTML object>"
      ]
     },
     "metadata": {
      "tags": []
     },
     "output_type": "display_data"
    },
    {
     "name": "stdout",
     "output_type": "stream",
     "text": [
      "Train epoch 2 loss: 0.303 correct: 88.14\n"
     ]
    },
    {
     "data": {
      "text/html": [
       "\n",
       "        <progress\n",
       "            value='26'\n",
       "            max='26',\n",
       "            style='width: 100%'\n",
       "        >\n",
       "            26\n",
       "        </progress>\n",
       "    "
      ],
      "text/plain": [
       "<IPython.core.display.HTML object>"
      ]
     },
     "metadata": {
      "tags": []
     },
     "output_type": "display_data"
    },
    {
     "name": "stdout",
     "output_type": "stream",
     "text": [
      "Test epoch 2 loss: 0.171 correct: 93.68\n"
     ]
    },
    {
     "data": {
      "text/html": [
       "\n",
       "        <progress\n",
       "            value='96'\n",
       "            max='96',\n",
       "            style='width: 100%'\n",
       "        >\n",
       "            96\n",
       "        </progress>\n",
       "    "
      ],
      "text/plain": [
       "<IPython.core.display.HTML object>"
      ]
     },
     "metadata": {
      "tags": []
     },
     "output_type": "display_data"
    },
    {
     "name": "stdout",
     "output_type": "stream",
     "text": [
      "Train epoch 3 loss: 0.284 correct: 89.25\n"
     ]
    },
    {
     "data": {
      "text/html": [
       "\n",
       "        <progress\n",
       "            value='26'\n",
       "            max='26',\n",
       "            style='width: 100%'\n",
       "        >\n",
       "            26\n",
       "        </progress>\n",
       "    "
      ],
      "text/plain": [
       "<IPython.core.display.HTML object>"
      ]
     },
     "metadata": {
      "tags": []
     },
     "output_type": "display_data"
    },
    {
     "name": "stdout",
     "output_type": "stream",
     "text": [
      "Test epoch 3 loss: 0.259 correct: 80.76\n"
     ]
    },
    {
     "data": {
      "text/html": [
       "\n",
       "        <progress\n",
       "            value='96'\n",
       "            max='96',\n",
       "            style='width: 100%'\n",
       "        >\n",
       "            96\n",
       "        </progress>\n",
       "    "
      ],
      "text/plain": [
       "<IPython.core.display.HTML object>"
      ]
     },
     "metadata": {
      "tags": []
     },
     "output_type": "display_data"
    },
    {
     "name": "stdout",
     "output_type": "stream",
     "text": [
      "Train epoch 4 loss: 0.238 correct: 91.25\n"
     ]
    },
    {
     "data": {
      "text/html": [
       "\n",
       "        <progress\n",
       "            value='26'\n",
       "            max='26',\n",
       "            style='width: 100%'\n",
       "        >\n",
       "            26\n",
       "        </progress>\n",
       "    "
      ],
      "text/plain": [
       "<IPython.core.display.HTML object>"
      ]
     },
     "metadata": {
      "tags": []
     },
     "output_type": "display_data"
    },
    {
     "name": "stdout",
     "output_type": "stream",
     "text": [
      "Test epoch 4 loss: 0.157 correct: 95.65\n"
     ]
    },
    {
     "data": {
      "text/html": [
       "\n",
       "        <progress\n",
       "            value='96'\n",
       "            max='96',\n",
       "            style='width: 100%'\n",
       "        >\n",
       "            96\n",
       "        </progress>\n",
       "    "
      ],
      "text/plain": [
       "<IPython.core.display.HTML object>"
      ]
     },
     "metadata": {
      "tags": []
     },
     "output_type": "display_data"
    },
    {
     "name": "stdout",
     "output_type": "stream",
     "text": [
      "Train epoch 5 loss: 0.204 correct: 92.93\n"
     ]
    },
    {
     "data": {
      "text/html": [
       "\n",
       "        <progress\n",
       "            value='26'\n",
       "            max='26',\n",
       "            style='width: 100%'\n",
       "        >\n",
       "            26\n",
       "        </progress>\n",
       "    "
      ],
      "text/plain": [
       "<IPython.core.display.HTML object>"
      ]
     },
     "metadata": {
      "tags": []
     },
     "output_type": "display_data"
    },
    {
     "name": "stdout",
     "output_type": "stream",
     "text": [
      "Test epoch 5 loss: 0.148 correct: 95.47\n"
     ]
    },
    {
     "data": {
      "text/html": [
       "\n",
       "        <progress\n",
       "            value='96'\n",
       "            max='96',\n",
       "            style='width: 100%'\n",
       "        >\n",
       "            96\n",
       "        </progress>\n",
       "    "
      ],
      "text/plain": [
       "<IPython.core.display.HTML object>"
      ]
     },
     "metadata": {
      "tags": []
     },
     "output_type": "display_data"
    },
    {
     "name": "stdout",
     "output_type": "stream",
     "text": [
      "Train epoch 6 loss: 0.171 correct: 94.12\n"
     ]
    },
    {
     "data": {
      "text/html": [
       "\n",
       "        <progress\n",
       "            value='26'\n",
       "            max='26',\n",
       "            style='width: 100%'\n",
       "        >\n",
       "            26\n",
       "        </progress>\n",
       "    "
      ],
      "text/plain": [
       "<IPython.core.display.HTML object>"
      ]
     },
     "metadata": {
      "tags": []
     },
     "output_type": "display_data"
    },
    {
     "name": "stdout",
     "output_type": "stream",
     "text": [
      "Test epoch 6 loss: 0.143 correct: 95.99\n"
     ]
    },
    {
     "data": {
      "text/html": [
       "\n",
       "        <progress\n",
       "            value='96'\n",
       "            max='96',\n",
       "            style='width: 100%'\n",
       "        >\n",
       "            96\n",
       "        </progress>\n",
       "    "
      ],
      "text/plain": [
       "<IPython.core.display.HTML object>"
      ]
     },
     "metadata": {
      "tags": []
     },
     "output_type": "display_data"
    },
    {
     "name": "stdout",
     "output_type": "stream",
     "text": [
      "Train epoch 7 loss: 0.163 correct: 94.48\n"
     ]
    },
    {
     "data": {
      "text/html": [
       "\n",
       "        <progress\n",
       "            value='26'\n",
       "            max='26',\n",
       "            style='width: 100%'\n",
       "        >\n",
       "            26\n",
       "        </progress>\n",
       "    "
      ],
      "text/plain": [
       "<IPython.core.display.HTML object>"
      ]
     },
     "metadata": {
      "tags": []
     },
     "output_type": "display_data"
    },
    {
     "name": "stdout",
     "output_type": "stream",
     "text": [
      "Test epoch 7 loss: 0.131 correct: 95.84\n"
     ]
    },
    {
     "data": {
      "text/html": [
       "\n",
       "        <progress\n",
       "            value='96'\n",
       "            max='96',\n",
       "            style='width: 100%'\n",
       "        >\n",
       "            96\n",
       "        </progress>\n",
       "    "
      ],
      "text/plain": [
       "<IPython.core.display.HTML object>"
      ]
     },
     "metadata": {
      "tags": []
     },
     "output_type": "display_data"
    },
    {
     "name": "stdout",
     "output_type": "stream",
     "text": [
      "Train epoch 8 loss: 0.148 correct: 95.00\n"
     ]
    },
    {
     "data": {
      "text/html": [
       "\n",
       "        <progress\n",
       "            value='26'\n",
       "            max='26',\n",
       "            style='width: 100%'\n",
       "        >\n",
       "            26\n",
       "        </progress>\n",
       "    "
      ],
      "text/plain": [
       "<IPython.core.display.HTML object>"
      ]
     },
     "metadata": {
      "tags": []
     },
     "output_type": "display_data"
    },
    {
     "name": "stdout",
     "output_type": "stream",
     "text": [
      "Test epoch 8 loss: 0.104 correct: 96.78\n"
     ]
    },
    {
     "data": {
      "text/html": [
       "\n",
       "        <progress\n",
       "            value='96'\n",
       "            max='96',\n",
       "            style='width: 100%'\n",
       "        >\n",
       "            96\n",
       "        </progress>\n",
       "    "
      ],
      "text/plain": [
       "<IPython.core.display.HTML object>"
      ]
     },
     "metadata": {
      "tags": []
     },
     "output_type": "display_data"
    },
    {
     "name": "stdout",
     "output_type": "stream",
     "text": [
      "Train epoch 9 loss: 0.147 correct: 95.07\n"
     ]
    },
    {
     "data": {
      "text/html": [
       "\n",
       "        <progress\n",
       "            value='26'\n",
       "            max='26',\n",
       "            style='width: 100%'\n",
       "        >\n",
       "            26\n",
       "        </progress>\n",
       "    "
      ],
      "text/plain": [
       "<IPython.core.display.HTML object>"
      ]
     },
     "metadata": {
      "tags": []
     },
     "output_type": "display_data"
    },
    {
     "name": "stdout",
     "output_type": "stream",
     "text": [
      "Test epoch 9 loss: 0.113 correct: 96.29\n"
     ]
    },
    {
     "data": {
      "text/html": [
       "\n",
       "        <progress\n",
       "            value='96'\n",
       "            max='96',\n",
       "            style='width: 100%'\n",
       "        >\n",
       "            96\n",
       "        </progress>\n",
       "    "
      ],
      "text/plain": [
       "<IPython.core.display.HTML object>"
      ]
     },
     "metadata": {
      "tags": []
     },
     "output_type": "display_data"
    },
    {
     "name": "stdout",
     "output_type": "stream",
     "text": [
      "Train epoch 10 loss: 0.143 correct: 95.37\n"
     ]
    },
    {
     "data": {
      "text/html": [
       "\n",
       "        <progress\n",
       "            value='26'\n",
       "            max='26',\n",
       "            style='width: 100%'\n",
       "        >\n",
       "            26\n",
       "        </progress>\n",
       "    "
      ],
      "text/plain": [
       "<IPython.core.display.HTML object>"
      ]
     },
     "metadata": {
      "tags": []
     },
     "output_type": "display_data"
    },
    {
     "name": "stdout",
     "output_type": "stream",
     "text": [
      "Test epoch 10 loss: 0.110 correct: 96.26\n"
     ]
    },
    {
     "data": {
      "text/html": [
       "\n",
       "        <progress\n",
       "            value='96'\n",
       "            max='96',\n",
       "            style='width: 100%'\n",
       "        >\n",
       "            96\n",
       "        </progress>\n",
       "    "
      ],
      "text/plain": [
       "<IPython.core.display.HTML object>"
      ]
     },
     "metadata": {
      "tags": []
     },
     "output_type": "display_data"
    },
    {
     "name": "stdout",
     "output_type": "stream",
     "text": [
      "Train epoch 11 loss: 0.116 correct: 96.16\n"
     ]
    },
    {
     "data": {
      "text/html": [
       "\n",
       "        <progress\n",
       "            value='26'\n",
       "            max='26',\n",
       "            style='width: 100%'\n",
       "        >\n",
       "            26\n",
       "        </progress>\n",
       "    "
      ],
      "text/plain": [
       "<IPython.core.display.HTML object>"
      ]
     },
     "metadata": {
      "tags": []
     },
     "output_type": "display_data"
    },
    {
     "name": "stdout",
     "output_type": "stream",
     "text": [
      "Test epoch 11 loss: 0.088 correct: 97.26\n"
     ]
    },
    {
     "data": {
      "text/html": [
       "\n",
       "        <progress\n",
       "            value='96'\n",
       "            max='96',\n",
       "            style='width: 100%'\n",
       "        >\n",
       "            96\n",
       "        </progress>\n",
       "    "
      ],
      "text/plain": [
       "<IPython.core.display.HTML object>"
      ]
     },
     "metadata": {
      "tags": []
     },
     "output_type": "display_data"
    },
    {
     "name": "stdout",
     "output_type": "stream",
     "text": [
      "Train epoch 12 loss: 0.108 correct: 96.46\n"
     ]
    },
    {
     "data": {
      "text/html": [
       "\n",
       "        <progress\n",
       "            value='26'\n",
       "            max='26',\n",
       "            style='width: 100%'\n",
       "        >\n",
       "            26\n",
       "        </progress>\n",
       "    "
      ],
      "text/plain": [
       "<IPython.core.display.HTML object>"
      ]
     },
     "metadata": {
      "tags": []
     },
     "output_type": "display_data"
    },
    {
     "name": "stdout",
     "output_type": "stream",
     "text": [
      "Test epoch 12 loss: 0.090 correct: 97.14\n"
     ]
    },
    {
     "data": {
      "text/html": [
       "\n",
       "        <progress\n",
       "            value='96'\n",
       "            max='96',\n",
       "            style='width: 100%'\n",
       "        >\n",
       "            96\n",
       "        </progress>\n",
       "    "
      ],
      "text/plain": [
       "<IPython.core.display.HTML object>"
      ]
     },
     "metadata": {
      "tags": []
     },
     "output_type": "display_data"
    },
    {
     "name": "stdout",
     "output_type": "stream",
     "text": [
      "Train epoch 13 loss: 0.111 correct: 96.29\n"
     ]
    },
    {
     "data": {
      "text/html": [
       "\n",
       "        <progress\n",
       "            value='26'\n",
       "            max='26',\n",
       "            style='width: 100%'\n",
       "        >\n",
       "            26\n",
       "        </progress>\n",
       "    "
      ],
      "text/plain": [
       "<IPython.core.display.HTML object>"
      ]
     },
     "metadata": {
      "tags": []
     },
     "output_type": "display_data"
    },
    {
     "name": "stdout",
     "output_type": "stream",
     "text": [
      "Test epoch 13 loss: 0.087 correct: 97.14\n"
     ]
    },
    {
     "data": {
      "text/html": [
       "\n",
       "        <progress\n",
       "            value='96'\n",
       "            max='96',\n",
       "            style='width: 100%'\n",
       "        >\n",
       "            96\n",
       "        </progress>\n",
       "    "
      ],
      "text/plain": [
       "<IPython.core.display.HTML object>"
      ]
     },
     "metadata": {
      "tags": []
     },
     "output_type": "display_data"
    },
    {
     "name": "stdout",
     "output_type": "stream",
     "text": [
      "Train epoch 14 loss: 0.109 correct: 96.44\n"
     ]
    },
    {
     "data": {
      "text/html": [
       "\n",
       "        <progress\n",
       "            value='26'\n",
       "            max='26',\n",
       "            style='width: 100%'\n",
       "        >\n",
       "            26\n",
       "        </progress>\n",
       "    "
      ],
      "text/plain": [
       "<IPython.core.display.HTML object>"
      ]
     },
     "metadata": {
      "tags": []
     },
     "output_type": "display_data"
    },
    {
     "name": "stdout",
     "output_type": "stream",
     "text": [
      "Test epoch 14 loss: 0.088 correct: 97.14\n"
     ]
    },
    {
     "data": {
      "text/html": [
       "\n",
       "        <progress\n",
       "            value='96'\n",
       "            max='96',\n",
       "            style='width: 100%'\n",
       "        >\n",
       "            96\n",
       "        </progress>\n",
       "    "
      ],
      "text/plain": [
       "<IPython.core.display.HTML object>"
      ]
     },
     "metadata": {
      "tags": []
     },
     "output_type": "display_data"
    },
    {
     "name": "stdout",
     "output_type": "stream",
     "text": [
      "Train epoch 15 loss: 0.111 correct: 96.33\n"
     ]
    },
    {
     "data": {
      "text/html": [
       "\n",
       "        <progress\n",
       "            value='26'\n",
       "            max='26',\n",
       "            style='width: 100%'\n",
       "        >\n",
       "            26\n",
       "        </progress>\n",
       "    "
      ],
      "text/plain": [
       "<IPython.core.display.HTML object>"
      ]
     },
     "metadata": {
      "tags": []
     },
     "output_type": "display_data"
    },
    {
     "name": "stdout",
     "output_type": "stream",
     "text": [
      "Test epoch 15 loss: 0.088 correct: 97.17\n"
     ]
    },
    {
     "data": {
      "text/html": [
       "\n",
       "        <progress\n",
       "            value='96'\n",
       "            max='96',\n",
       "            style='width: 100%'\n",
       "        >\n",
       "            96\n",
       "        </progress>\n",
       "    "
      ],
      "text/plain": [
       "<IPython.core.display.HTML object>"
      ]
     },
     "metadata": {
      "tags": []
     },
     "output_type": "display_data"
    },
    {
     "name": "stdout",
     "output_type": "stream",
     "text": [
      "Train epoch 16 loss: 0.107 correct: 96.49\n"
     ]
    },
    {
     "data": {
      "text/html": [
       "\n",
       "        <progress\n",
       "            value='26'\n",
       "            max='26',\n",
       "            style='width: 100%'\n",
       "        >\n",
       "            26\n",
       "        </progress>\n",
       "    "
      ],
      "text/plain": [
       "<IPython.core.display.HTML object>"
      ]
     },
     "metadata": {
      "tags": []
     },
     "output_type": "display_data"
    },
    {
     "name": "stdout",
     "output_type": "stream",
     "text": [
      "Test epoch 16 loss: 0.086 correct: 97.17\n"
     ]
    },
    {
     "data": {
      "text/html": [
       "\n",
       "        <progress\n",
       "            value='96'\n",
       "            max='96',\n",
       "            style='width: 100%'\n",
       "        >\n",
       "            96\n",
       "        </progress>\n",
       "    "
      ],
      "text/plain": [
       "<IPython.core.display.HTML object>"
      ]
     },
     "metadata": {
      "tags": []
     },
     "output_type": "display_data"
    },
    {
     "name": "stdout",
     "output_type": "stream",
     "text": [
      "Train epoch 17 loss: 0.104 correct: 96.55\n"
     ]
    },
    {
     "data": {
      "text/html": [
       "\n",
       "        <progress\n",
       "            value='26'\n",
       "            max='26',\n",
       "            style='width: 100%'\n",
       "        >\n",
       "            26\n",
       "        </progress>\n",
       "    "
      ],
      "text/plain": [
       "<IPython.core.display.HTML object>"
      ]
     },
     "metadata": {
      "tags": []
     },
     "output_type": "display_data"
    },
    {
     "name": "stdout",
     "output_type": "stream",
     "text": [
      "Test epoch 17 loss: 0.086 correct: 97.17\n"
     ]
    },
    {
     "data": {
      "text/html": [
       "\n",
       "        <progress\n",
       "            value='96'\n",
       "            max='96',\n",
       "            style='width: 100%'\n",
       "        >\n",
       "            96\n",
       "        </progress>\n",
       "    "
      ],
      "text/plain": [
       "<IPython.core.display.HTML object>"
      ]
     },
     "metadata": {
      "tags": []
     },
     "output_type": "display_data"
    },
    {
     "name": "stdout",
     "output_type": "stream",
     "text": [
      "Train epoch 18 loss: 0.109 correct: 96.35\n"
     ]
    },
    {
     "data": {
      "text/html": [
       "\n",
       "        <progress\n",
       "            value='26'\n",
       "            max='26',\n",
       "            style='width: 100%'\n",
       "        >\n",
       "            26\n",
       "        </progress>\n",
       "    "
      ],
      "text/plain": [
       "<IPython.core.display.HTML object>"
      ]
     },
     "metadata": {
      "tags": []
     },
     "output_type": "display_data"
    },
    {
     "name": "stdout",
     "output_type": "stream",
     "text": [
      "Test epoch 18 loss: 0.086 correct: 97.11\n"
     ]
    },
    {
     "data": {
      "text/html": [
       "\n",
       "        <progress\n",
       "            value='96'\n",
       "            max='96',\n",
       "            style='width: 100%'\n",
       "        >\n",
       "            96\n",
       "        </progress>\n",
       "    "
      ],
      "text/plain": [
       "<IPython.core.display.HTML object>"
      ]
     },
     "metadata": {
      "tags": []
     },
     "output_type": "display_data"
    },
    {
     "name": "stdout",
     "output_type": "stream",
     "text": [
      "Train epoch 19 loss: 0.105 correct: 96.55\n"
     ]
    },
    {
     "data": {
      "text/html": [
       "\n",
       "        <progress\n",
       "            value='26'\n",
       "            max='26',\n",
       "            style='width: 100%'\n",
       "        >\n",
       "            26\n",
       "        </progress>\n",
       "    "
      ],
      "text/plain": [
       "<IPython.core.display.HTML object>"
      ]
     },
     "metadata": {
      "tags": []
     },
     "output_type": "display_data"
    },
    {
     "name": "stdout",
     "output_type": "stream",
     "text": [
      "Test epoch 19 loss: 0.087 correct: 97.05\n"
     ]
    },
    {
     "data": {
      "text/html": [
       "\n",
       "        <progress\n",
       "            value='96'\n",
       "            max='96',\n",
       "            style='width: 100%'\n",
       "        >\n",
       "            96\n",
       "        </progress>\n",
       "    "
      ],
      "text/plain": [
       "<IPython.core.display.HTML object>"
      ]
     },
     "metadata": {
      "tags": []
     },
     "output_type": "display_data"
    },
    {
     "name": "stdout",
     "output_type": "stream",
     "text": [
      "Train epoch 20 loss: 0.106 correct: 96.39\n"
     ]
    },
    {
     "data": {
      "text/html": [
       "\n",
       "        <progress\n",
       "            value='26'\n",
       "            max='26',\n",
       "            style='width: 100%'\n",
       "        >\n",
       "            26\n",
       "        </progress>\n",
       "    "
      ],
      "text/plain": [
       "<IPython.core.display.HTML object>"
      ]
     },
     "metadata": {
      "tags": []
     },
     "output_type": "display_data"
    },
    {
     "name": "stdout",
     "output_type": "stream",
     "text": [
      "Test epoch 20 loss: 0.086 correct: 97.14\n",
      "Finished Training\n"
     ]
    },
    {
     "data": {
      "image/png": "[encoded data removed]",
      "text/plain": [
       "<Figure size 432x288 with 1 Axes>"
      ]
     },
     "metadata": {
      "tags": []
     },
     "output_type": "display_data"
    },
    {
     "data": {
      "image/png": "[encoded data removed]",
      "text/plain": [
       "<Figure size 432x288 with 1 Axes>"
      ]
     },
     "metadata": {
      "tags": []
     },
     "output_type": "display_data"
    }
   ],
   "source": [
    "import torch.optim as optim\n",
    "from torch.optim import lr_scheduler\n",
    "\n",
    "%matplotlib inline\n",
    "import matplotlib\n",
    "import matplotlib.pyplot as plt\n",
    "\n",
    "# Makes multiple runs comparable\n",
    "torch.manual_seed(42)\n",
    "if haveCuda:\n",
    "  torch.cuda.manual_seed(42)\n",
    "  torch.backends.cudnn.deterministic = True\n",
    "  torch.backends.cudnn.benchmark = False\n",
    "\n",
    "net = ConvNet(8)\n",
    "if haveCuda:\n",
    "  net = net.cuda()\n",
    "\n",
    "# Loss, and optimizer\n",
    "criterion = nn.CrossEntropyLoss()\n",
    "optimizer = optim.SGD(net.parameters(), lr=0.1, momentum=0.9,\n",
    "                      nesterov=True, weight_decay=1e-4)\n",
    "\n",
    "# Create LR cheduler\n",
    "scheduler = lr_scheduler.StepLR(optimizer,10)\n",
    "\n",
    "# Epoch counter\n",
    "numEpoch = 20\n",
    "\n",
    "trLosses = []\n",
    "trAccs = []\n",
    "valLosses = []\n",
    "valAccs = []\n",
    "\n",
    "for epoch in range(numEpoch):\n",
    "\n",
    "  # Call train and val\n",
    "  tr_loss,tr_corr = train(epoch)\n",
    "  val_loss,val_corr = val(epoch)\n",
    "  \n",
    "  trLosses.append(tr_loss)\n",
    "  trAccs.append(tr_corr)\n",
    "  valLosses.append(val_loss)\n",
    "  valAccs.append(val_corr)\n",
    "\n",
    "  # Step with the scheduler\n",
    "  scheduler.step()\n",
    "\n",
    "# Finished\n",
    "print('Finished Training')\n",
    "plt.plot(trLosses)\n",
    "plt.plot(valLosses)\n",
    "plt.show()\n",
    "plt.plot(trAccs)\n",
    "plt.plot(valAccs)\n",
    "plt.show()\n"
   ]
  },
  {
   "cell_type": "markdown",
   "metadata": {
    "colab_type": "text",
    "id": "QgEGZ8tuuWrl"
   },
   "source": [
    "## Confusion Matrix"
   ]
  },
  {
   "cell_type": "code",
   "execution_count": 13,
   "metadata": {
    "colab": {
     "base_uri": "https://localhost:8080/",
     "height": 119
    },
    "colab_type": "code",
    "executionInfo": {
     "elapsed": 2194,
     "status": "ok",
     "timestamp": 1580803860416,
     "user": {
      "displayName": "Márton Szemenyei",
      "photoUrl": "https://lh3.googleusercontent.com/a-/AAuE7mAc8dCePU7Sl-30CxlO-gznhT5oQGC-p4sH7g2b8_c=s64",
      "userId": "10031764366786993279"
     },
     "user_tz": -60
    },
    "id": "Ap7DnISJuZYV",
    "outputId": "8ea9ba55-48ee-42e3-fa33-f79e7dc8817f"
   },
   "outputs": [
    {
     "data": {
      "text/html": [
       "\n",
       "        <progress\n",
       "            value='26'\n",
       "            max='26',\n",
       "            style='width: 100%'\n",
       "        >\n",
       "            26\n",
       "        </progress>\n",
       "    "
      ],
      "text/plain": [
       "<IPython.core.display.HTML object>"
      ]
     },
     "metadata": {
      "tags": []
     },
     "output_type": "display_data"
    },
    {
     "name": "stdout",
     "output_type": "stream",
     "text": [
      "tensor([[645.,   0.,   0.,   0.,  13.],\n",
      "        [  0., 656.,   2.,   0.,   0.],\n",
      "        [  2.,   2., 651.,   3.,   0.],\n",
      "        [  0.,   0.,   0., 658.,   0.],\n",
      "        [ 70.,   0.,   2.,   0., 586.]])\n"
     ]
    }
   ],
   "source": [
    "net.eval()\n",
    "\n",
    "conf = torch.zeros(5,5)\n",
    "\n",
    "# Create progress bar\n",
    "bar = display(progress(0, len(testLoader)), display_id=True)\n",
    "\n",
    "# Epoch loop\n",
    "for i, data in enumerate(testLoader, 0):\n",
    "  # get the inputs\n",
    "  inputs, labels = data\n",
    "\n",
    "  # Convert to cuda conditionally\n",
    "  if haveCuda:\n",
    "      inputs, labels = inputs.cuda(), labels.cuda()\n",
    "\n",
    "  # forward\n",
    "  outputs = net(inputs)\n",
    "\n",
    "  # compute statistics\n",
    "  _, predicted = torch.max(outputs, 1)\n",
    "  for label,pred in zip (labels,predicted):\n",
    "    conf[label,pred] += 1\n",
    "\n",
    "  # Update progress bar\n",
    "  bar.update(progress(i+1, len(testLoader)))\n",
    "print(conf)"
   ]
  },
  {
   "cell_type": "markdown",
   "metadata": {
    "colab_type": "text",
    "id": "dO01559TmyKB"
   },
   "source": [
    "## Vizualizáció"
   ]
  },
  {
   "cell_type": "code",
   "execution_count": 16,
   "metadata": {
    "colab": {
     "base_uri": "https://localhost:8080/",
     "height": 320
    },
    "colab_type": "code",
    "executionInfo": {
     "elapsed": 1424,
     "status": "ok",
     "timestamp": 1580803889285,
     "user": {
      "displayName": "Márton Szemenyei",
      "photoUrl": "https://lh3.googleusercontent.com/a-/AAuE7mAc8dCePU7Sl-30CxlO-gznhT5oQGC-p4sH7g2b8_c=s64",
      "userId": "10031764366786993279"
     },
     "user_tz": -60
    },
    "id": "Yjd5yjzUm0jy",
    "outputId": "96f768af-17d1-4967-bc33-27400006a37e"
   },
   "outputs": [
    {
     "data": {
      "image/png": "[encoded data removed]",
      "text/plain": [
       "<Figure size 720x360 with 8 Axes>"
      ]
     },
     "metadata": {
      "tags": []
     },
     "output_type": "display_data"
    }
   ],
   "source": [
    "inputs, labels = next(iter(testLoader))\n",
    "if haveCuda:\n",
    "    inputs, labels = inputs.cuda(), labels.cuda()\n",
    "\n",
    "# forward\n",
    "outputs = net(inputs)\n",
    "\n",
    "_, predicted = torch.max(outputs, 1)\n",
    "\n",
    "mean = torch.Tensor((0.49139968, 0.48215827, 0.44653124)).unsqueeze(1).unsqueeze(1)\n",
    "std = torch.Tensor((0.24703233, 0.24348505, 0.26158768)).unsqueeze(1).unsqueeze(1)\n",
    "\n",
    "f, axarr = plt.subplots(2, 4,figsize=(10, 5))\n",
    "\n",
    "for i,(img,pred) in enumerate(zip(inputs,predicted)):\n",
    "    img_rescaled = img.cpu() * std + mean\n",
    "    pr = pred.cpu().item()\n",
    "    name = \"Field\" if pr == 0 else (\"Ball\" if pr == 1 else (\"Robot\" if pr == 2 else (\"Goalpost\" if pr == 3 else \"Line\")))\n",
    "    \n",
    "    axarr[i//4,i%4].imshow(img_rescaled.permute(1,2,0))\n",
    "    axarr[i//4,i%4].set_title(name)\n",
    "    # Hide grid lines\n",
    "    axarr[i//4,i%4].grid(False)\n",
    "    # Hide axes ticks\n",
    "    axarr[i//4,i%4].set_xticks([])\n",
    "    axarr[i//4,i%4].set_yticks([])\n",
    "    if i == 7:\n",
    "        break"
   ]
  },
  {
   "cell_type": "markdown",
   "metadata": {
    "colab_type": "text",
    "id": "FnXiiT_-wFn9"
   },
   "source": [
    "# Extra feladat\n",
    "\n",
    "## Cosine Annealing Ensemble"
   ]
  },
  {
   "cell_type": "code",
   "execution_count": 18,
   "metadata": {
    "colab": {
     "base_uri": "https://localhost:8080/",
     "height": 1000
    },
    "colab_type": "code",
    "executionInfo": {
     "elapsed": 707318,
     "status": "ok",
     "timestamp": 1580804642828,
     "user": {
      "displayName": "Márton Szemenyei",
      "photoUrl": "https://lh3.googleusercontent.com/a-/AAuE7mAc8dCePU7Sl-30CxlO-gznhT5oQGC-p4sH7g2b8_c=s64",
      "userId": "10031764366786993279"
     },
     "user_tz": -60
    },
    "id": "U1kyawsswLoX",
    "outputId": "ff8914bc-f3d1-40e6-b59e-3dbc8a35e89d"
   },
   "outputs": [
    {
     "data": {
      "text/html": [
       "\n",
       "        <progress\n",
       "            value='96'\n",
       "            max='96',\n",
       "            style='width: 100%'\n",
       "        >\n",
       "            96\n",
       "        </progress>\n",
       "    "
      ],
      "text/plain": [
       "<IPython.core.display.HTML object>"
      ]
     },
     "metadata": {
      "tags": []
     },
     "output_type": "display_data"
    },
    {
     "name": "stdout",
     "output_type": "stream",
     "text": [
      "Train epoch 1 loss: 0.525 correct: 78.07\n"
     ]
    },
    {
     "data": {
      "text/html": [
       "\n",
       "        <progress\n",
       "            value='26'\n",
       "            max='26',\n",
       "            style='width: 100%'\n",
       "        >\n",
       "            26\n",
       "        </progress>\n",
       "    "
      ],
      "text/plain": [
       "<IPython.core.display.HTML object>"
      ]
     },
     "metadata": {
      "tags": []
     },
     "output_type": "display_data"
    },
    {
     "name": "stdout",
     "output_type": "stream",
     "text": [
      "Test epoch 1 loss: 0.226 correct: 92.07\n",
      "Best model in restart 0, saving\n"
     ]
    },
    {
     "name": "stderr",
     "output_type": "stream",
     "text": [
      "/usr/local/lib/python3.6/dist-packages/torch/serialization.py:360: UserWarning: Couldn't retrieve source code for container of type ConvNet. It won't be checked for correctness upon loading.\n",
      "  \"type \" + obj.__name__ + \". It won't be checked \"\n",
      "/usr/local/lib/python3.6/dist-packages/torch/serialization.py:360: UserWarning: Couldn't retrieve source code for container of type Conv. It won't be checked for correctness upon loading.\n",
      "  \"type \" + obj.__name__ + \". It won't be checked \"\n"
     ]
    },
    {
     "data": {
      "text/html": [
       "\n",
       "        <progress\n",
       "            value='96'\n",
       "            max='96',\n",
       "            style='width: 100%'\n",
       "        >\n",
       "            96\n",
       "        </progress>\n",
       "    "
      ],
      "text/plain": [
       "<IPython.core.display.HTML object>"
      ]
     },
     "metadata": {
      "tags": []
     },
     "output_type": "display_data"
    },
    {
     "name": "stdout",
     "output_type": "stream",
     "text": [
      "Train epoch 2 loss: 0.269 correct: 89.95\n"
     ]
    },
    {
     "data": {
      "text/html": [
       "\n",
       "        <progress\n",
       "            value='26'\n",
       "            max='26',\n",
       "            style='width: 100%'\n",
       "        >\n",
       "            26\n",
       "        </progress>\n",
       "    "
      ],
      "text/plain": [
       "<IPython.core.display.HTML object>"
      ]
     },
     "metadata": {
      "tags": []
     },
     "output_type": "display_data"
    },
    {
     "name": "stdout",
     "output_type": "stream",
     "text": [
      "Test epoch 2 loss: 0.167 correct: 93.74\n",
      "Best model in restart 0, saving\n"
     ]
    },
    {
     "data": {
      "text/html": [
       "\n",
       "        <progress\n",
       "            value='96'\n",
       "            max='96',\n",
       "            style='width: 100%'\n",
       "        >\n",
       "            96\n",
       "        </progress>\n",
       "    "
      ],
      "text/plain": [
       "<IPython.core.display.HTML object>"
      ]
     },
     "metadata": {
      "tags": []
     },
     "output_type": "display_data"
    },
    {
     "name": "stdout",
     "output_type": "stream",
     "text": [
      "Train epoch 3 loss: 0.206 correct: 92.39\n"
     ]
    },
    {
     "data": {
      "text/html": [
       "\n",
       "        <progress\n",
       "            value='26'\n",
       "            max='26',\n",
       "            style='width: 100%'\n",
       "        >\n",
       "            26\n",
       "        </progress>\n",
       "    "
      ],
      "text/plain": [
       "<IPython.core.display.HTML object>"
      ]
     },
     "metadata": {
      "tags": []
     },
     "output_type": "display_data"
    },
    {
     "name": "stdout",
     "output_type": "stream",
     "text": [
      "Test epoch 3 loss: 0.171 correct: 93.71\n"
     ]
    },
    {
     "data": {
      "text/html": [
       "\n",
       "        <progress\n",
       "            value='96'\n",
       "            max='96',\n",
       "            style='width: 100%'\n",
       "        >\n",
       "            96\n",
       "        </progress>\n",
       "    "
      ],
      "text/plain": [
       "<IPython.core.display.HTML object>"
      ]
     },
     "metadata": {
      "tags": []
     },
     "output_type": "display_data"
    },
    {
     "name": "stdout",
     "output_type": "stream",
     "text": [
      "Train epoch 4 loss: 0.177 correct: 93.48\n"
     ]
    },
    {
     "data": {
      "text/html": [
       "\n",
       "        <progress\n",
       "            value='26'\n",
       "            max='26',\n",
       "            style='width: 100%'\n",
       "        >\n",
       "            26\n",
       "        </progress>\n",
       "    "
      ],
      "text/plain": [
       "<IPython.core.display.HTML object>"
      ]
     },
     "metadata": {
      "tags": []
     },
     "output_type": "display_data"
    },
    {
     "name": "stdout",
     "output_type": "stream",
     "text": [
      "Test epoch 4 loss: 0.179 correct: 93.31\n"
     ]
    },
    {
     "data": {
      "text/html": [
       "\n",
       "        <progress\n",
       "            value='96'\n",
       "            max='96',\n",
       "            style='width: 100%'\n",
       "        >\n",
       "            96\n",
       "        </progress>\n",
       "    "
      ],
      "text/plain": [
       "<IPython.core.display.HTML object>"
      ]
     },
     "metadata": {
      "tags": []
     },
     "output_type": "display_data"
    },
    {
     "name": "stdout",
     "output_type": "stream",
     "text": [
      "Train epoch 5 loss: 0.181 correct: 93.84\n"
     ]
    },
    {
     "data": {
      "text/html": [
       "\n",
       "        <progress\n",
       "            value='26'\n",
       "            max='26',\n",
       "            style='width: 100%'\n",
       "        >\n",
       "            26\n",
       "        </progress>\n",
       "    "
      ],
      "text/plain": [
       "<IPython.core.display.HTML object>"
      ]
     },
     "metadata": {
      "tags": []
     },
     "output_type": "display_data"
    },
    {
     "name": "stdout",
     "output_type": "stream",
     "text": [
      "Test epoch 5 loss: 0.758 correct: 76.87\n"
     ]
    },
    {
     "data": {
      "text/html": [
       "\n",
       "        <progress\n",
       "            value='96'\n",
       "            max='96',\n",
       "            style='width: 100%'\n",
       "        >\n",
       "            96\n",
       "        </progress>\n",
       "    "
      ],
      "text/plain": [
       "<IPython.core.display.HTML object>"
      ]
     },
     "metadata": {
      "tags": []
     },
     "output_type": "display_data"
    },
    {
     "name": "stdout",
     "output_type": "stream",
     "text": [
      "Train epoch 6 loss: 0.139 correct: 95.45\n"
     ]
    },
    {
     "data": {
      "text/html": [
       "\n",
       "        <progress\n",
       "            value='26'\n",
       "            max='26',\n",
       "            style='width: 100%'\n",
       "        >\n",
       "            26\n",
       "        </progress>\n",
       "    "
      ],
      "text/plain": [
       "<IPython.core.display.HTML object>"
      ]
     },
     "metadata": {
      "tags": []
     },
     "output_type": "display_data"
    },
    {
     "name": "stdout",
     "output_type": "stream",
     "text": [
      "Test epoch 6 loss: 0.109 correct: 96.53\n",
      "Best model in restart 0, saving\n"
     ]
    },
    {
     "data": {
      "text/html": [
       "\n",
       "        <progress\n",
       "            value='96'\n",
       "            max='96',\n",
       "            style='width: 100%'\n",
       "        >\n",
       "            96\n",
       "        </progress>\n",
       "    "
      ],
      "text/plain": [
       "<IPython.core.display.HTML object>"
      ]
     },
     "metadata": {
      "tags": []
     },
     "output_type": "display_data"
    },
    {
     "name": "stdout",
     "output_type": "stream",
     "text": [
      "Train epoch 7 loss: 0.133 correct: 95.56\n"
     ]
    },
    {
     "data": {
      "text/html": [
       "\n",
       "        <progress\n",
       "            value='26'\n",
       "            max='26',\n",
       "            style='width: 100%'\n",
       "        >\n",
       "            26\n",
       "        </progress>\n",
       "    "
      ],
      "text/plain": [
       "<IPython.core.display.HTML object>"
      ]
     },
     "metadata": {
      "tags": []
     },
     "output_type": "display_data"
    },
    {
     "name": "stdout",
     "output_type": "stream",
     "text": [
      "Test epoch 7 loss: 0.115 correct: 96.17\n"
     ]
    },
    {
     "data": {
      "text/html": [
       "\n",
       "        <progress\n",
       "            value='96'\n",
       "            max='96',\n",
       "            style='width: 100%'\n",
       "        >\n",
       "            96\n",
       "        </progress>\n",
       "    "
      ],
      "text/plain": [
       "<IPython.core.display.HTML object>"
      ]
     },
     "metadata": {
      "tags": []
     },
     "output_type": "display_data"
    },
    {
     "name": "stdout",
     "output_type": "stream",
     "text": [
      "Train epoch 8 loss: 0.123 correct: 96.03\n"
     ]
    },
    {
     "data": {
      "text/html": [
       "\n",
       "        <progress\n",
       "            value='26'\n",
       "            max='26',\n",
       "            style='width: 100%'\n",
       "        >\n",
       "            26\n",
       "        </progress>\n",
       "    "
      ],
      "text/plain": [
       "<IPython.core.display.HTML object>"
      ]
     },
     "metadata": {
      "tags": []
     },
     "output_type": "display_data"
    },
    {
     "name": "stdout",
     "output_type": "stream",
     "text": [
      "Test epoch 8 loss: 0.096 correct: 96.87\n",
      "Best model in restart 0, saving\n"
     ]
    },
    {
     "data": {
      "text/html": [
       "\n",
       "        <progress\n",
       "            value='96'\n",
       "            max='96',\n",
       "            style='width: 100%'\n",
       "        >\n",
       "            96\n",
       "        </progress>\n",
       "    "
      ],
      "text/plain": [
       "<IPython.core.display.HTML object>"
      ]
     },
     "metadata": {
      "tags": []
     },
     "output_type": "display_data"
    },
    {
     "name": "stdout",
     "output_type": "stream",
     "text": [
      "Train epoch 9 loss: 0.114 correct: 96.41\n"
     ]
    },
    {
     "data": {
      "text/html": [
       "\n",
       "        <progress\n",
       "            value='26'\n",
       "            max='26',\n",
       "            style='width: 100%'\n",
       "        >\n",
       "            26\n",
       "        </progress>\n",
       "    "
      ],
      "text/plain": [
       "<IPython.core.display.HTML object>"
      ]
     },
     "metadata": {
      "tags": []
     },
     "output_type": "display_data"
    },
    {
     "name": "stdout",
     "output_type": "stream",
     "text": [
      "Test epoch 9 loss: 0.090 correct: 97.14\n",
      "Best model in restart 0, saving\n"
     ]
    },
    {
     "data": {
      "text/html": [
       "\n",
       "        <progress\n",
       "            value='96'\n",
       "            max='96',\n",
       "            style='width: 100%'\n",
       "        >\n",
       "            96\n",
       "        </progress>\n",
       "    "
      ],
      "text/plain": [
       "<IPython.core.display.HTML object>"
      ]
     },
     "metadata": {
      "tags": []
     },
     "output_type": "display_data"
    },
    {
     "name": "stdout",
     "output_type": "stream",
     "text": [
      "Train epoch 10 loss: 0.116 correct: 96.24\n"
     ]
    },
    {
     "data": {
      "text/html": [
       "\n",
       "        <progress\n",
       "            value='26'\n",
       "            max='26',\n",
       "            style='width: 100%'\n",
       "        >\n",
       "            26\n",
       "        </progress>\n",
       "    "
      ],
      "text/plain": [
       "<IPython.core.display.HTML object>"
      ]
     },
     "metadata": {
      "tags": []
     },
     "output_type": "display_data"
    },
    {
     "name": "stdout",
     "output_type": "stream",
     "text": [
      "Test epoch 10 loss: 0.084 correct: 97.08\n"
     ]
    },
    {
     "data": {
      "text/html": [
       "\n",
       "        <progress\n",
       "            value='96'\n",
       "            max='96',\n",
       "            style='width: 100%'\n",
       "        >\n",
       "            96\n",
       "        </progress>\n",
       "    "
      ],
      "text/plain": [
       "<IPython.core.display.HTML object>"
      ]
     },
     "metadata": {
      "tags": []
     },
     "output_type": "display_data"
    },
    {
     "name": "stdout",
     "output_type": "stream",
     "text": [
      "Train epoch 11 loss: 0.108 correct: 96.61\n"
     ]
    },
    {
     "data": {
      "text/html": [
       "\n",
       "        <progress\n",
       "            value='26'\n",
       "            max='26',\n",
       "            style='width: 100%'\n",
       "        >\n",
       "            26\n",
       "        </progress>\n",
       "    "
      ],
      "text/plain": [
       "<IPython.core.display.HTML object>"
      ]
     },
     "metadata": {
      "tags": []
     },
     "output_type": "display_data"
    },
    {
     "name": "stdout",
     "output_type": "stream",
     "text": [
      "Test epoch 11 loss: 0.086 correct: 97.08\n"
     ]
    },
    {
     "data": {
      "text/html": [
       "\n",
       "        <progress\n",
       "            value='96'\n",
       "            max='96',\n",
       "            style='width: 100%'\n",
       "        >\n",
       "            96\n",
       "        </progress>\n",
       "    "
      ],
      "text/plain": [
       "<IPython.core.display.HTML object>"
      ]
     },
     "metadata": {
      "tags": []
     },
     "output_type": "display_data"
    },
    {
     "name": "stdout",
     "output_type": "stream",
     "text": [
      "Train epoch 12 loss: 0.104 correct: 96.67\n"
     ]
    },
    {
     "data": {
      "text/html": [
       "\n",
       "        <progress\n",
       "            value='26'\n",
       "            max='26',\n",
       "            style='width: 100%'\n",
       "        >\n",
       "            26\n",
       "        </progress>\n",
       "    "
      ],
      "text/plain": [
       "<IPython.core.display.HTML object>"
      ]
     },
     "metadata": {
      "tags": []
     },
     "output_type": "display_data"
    },
    {
     "name": "stdout",
     "output_type": "stream",
     "text": [
      "Test epoch 12 loss: 0.083 correct: 97.45\n",
      "Best model in restart 0, saving\n"
     ]
    },
    {
     "data": {
      "text/html": [
       "\n",
       "        <progress\n",
       "            value='96'\n",
       "            max='96',\n",
       "            style='width: 100%'\n",
       "        >\n",
       "            96\n",
       "        </progress>\n",
       "    "
      ],
      "text/plain": [
       "<IPython.core.display.HTML object>"
      ]
     },
     "metadata": {
      "tags": []
     },
     "output_type": "display_data"
    },
    {
     "name": "stdout",
     "output_type": "stream",
     "text": [
      "Train epoch 13 loss: 0.106 correct: 96.64\n"
     ]
    },
    {
     "data": {
      "text/html": [
       "\n",
       "        <progress\n",
       "            value='26'\n",
       "            max='26',\n",
       "            style='width: 100%'\n",
       "        >\n",
       "            26\n",
       "        </progress>\n",
       "    "
      ],
      "text/plain": [
       "<IPython.core.display.HTML object>"
      ]
     },
     "metadata": {
      "tags": []
     },
     "output_type": "display_data"
    },
    {
     "name": "stdout",
     "output_type": "stream",
     "text": [
      "Test epoch 13 loss: 0.090 correct: 97.11\n"
     ]
    },
    {
     "data": {
      "text/html": [
       "\n",
       "        <progress\n",
       "            value='96'\n",
       "            max='96',\n",
       "            style='width: 100%'\n",
       "        >\n",
       "            96\n",
       "        </progress>\n",
       "    "
      ],
      "text/plain": [
       "<IPython.core.display.HTML object>"
      ]
     },
     "metadata": {
      "tags": []
     },
     "output_type": "display_data"
    },
    {
     "name": "stdout",
     "output_type": "stream",
     "text": [
      "Train epoch 14 loss: 0.103 correct: 96.69\n"
     ]
    },
    {
     "data": {
      "text/html": [
       "\n",
       "        <progress\n",
       "            value='26'\n",
       "            max='26',\n",
       "            style='width: 100%'\n",
       "        >\n",
       "            26\n",
       "        </progress>\n",
       "    "
      ],
      "text/plain": [
       "<IPython.core.display.HTML object>"
      ]
     },
     "metadata": {
      "tags": []
     },
     "output_type": "display_data"
    },
    {
     "name": "stdout",
     "output_type": "stream",
     "text": [
      "Test epoch 14 loss: 0.086 correct: 97.33\n"
     ]
    },
    {
     "data": {
      "text/html": [
       "\n",
       "        <progress\n",
       "            value='96'\n",
       "            max='96',\n",
       "            style='width: 100%'\n",
       "        >\n",
       "            96\n",
       "        </progress>\n",
       "    "
      ],
      "text/plain": [
       "<IPython.core.display.HTML object>"
      ]
     },
     "metadata": {
      "tags": []
     },
     "output_type": "display_data"
    },
    {
     "name": "stdout",
     "output_type": "stream",
     "text": [
      "Train epoch 15 loss: 0.101 correct: 96.73\n"
     ]
    },
    {
     "data": {
      "text/html": [
       "\n",
       "        <progress\n",
       "            value='26'\n",
       "            max='26',\n",
       "            style='width: 100%'\n",
       "        >\n",
       "            26\n",
       "        </progress>\n",
       "    "
      ],
      "text/plain": [
       "<IPython.core.display.HTML object>"
      ]
     },
     "metadata": {
      "tags": []
     },
     "output_type": "display_data"
    },
    {
     "name": "stdout",
     "output_type": "stream",
     "text": [
      "Test epoch 15 loss: 0.082 correct: 97.26\n"
     ]
    },
    {
     "data": {
      "text/html": [
       "\n",
       "        <progress\n",
       "            value='96'\n",
       "            max='96',\n",
       "            style='width: 100%'\n",
       "        >\n",
       "            96\n",
       "        </progress>\n",
       "    "
      ],
      "text/plain": [
       "<IPython.core.display.HTML object>"
      ]
     },
     "metadata": {
      "tags": []
     },
     "output_type": "display_data"
    },
    {
     "name": "stdout",
     "output_type": "stream",
     "text": [
      "Train epoch 16 loss: 0.099 correct: 96.89\n"
     ]
    },
    {
     "data": {
      "text/html": [
       "\n",
       "        <progress\n",
       "            value='26'\n",
       "            max='26',\n",
       "            style='width: 100%'\n",
       "        >\n",
       "            26\n",
       "        </progress>\n",
       "    "
      ],
      "text/plain": [
       "<IPython.core.display.HTML object>"
      ]
     },
     "metadata": {
      "tags": []
     },
     "output_type": "display_data"
    },
    {
     "name": "stdout",
     "output_type": "stream",
     "text": [
      "Test epoch 16 loss: 0.079 correct: 97.42\n",
      "Best model in restart 1, saving\n"
     ]
    },
    {
     "data": {
      "text/html": [
       "\n",
       "        <progress\n",
       "            value='96'\n",
       "            max='96',\n",
       "            style='width: 100%'\n",
       "        >\n",
       "            96\n",
       "        </progress>\n",
       "    "
      ],
      "text/plain": [
       "<IPython.core.display.HTML object>"
      ]
     },
     "metadata": {
      "tags": []
     },
     "output_type": "display_data"
    },
    {
     "name": "stdout",
     "output_type": "stream",
     "text": [
      "Train epoch 17 loss: 0.116 correct: 96.21\n"
     ]
    },
    {
     "data": {
      "text/html": [
       "\n",
       "        <progress\n",
       "            value='26'\n",
       "            max='26',\n",
       "            style='width: 100%'\n",
       "        >\n",
       "            26\n",
       "        </progress>\n",
       "    "
      ],
      "text/plain": [
       "<IPython.core.display.HTML object>"
      ]
     },
     "metadata": {
      "tags": []
     },
     "output_type": "display_data"
    },
    {
     "name": "stdout",
     "output_type": "stream",
     "text": [
      "Test epoch 17 loss: 0.104 correct: 96.53\n"
     ]
    },
    {
     "data": {
      "text/html": [
       "\n",
       "        <progress\n",
       "            value='96'\n",
       "            max='96',\n",
       "            style='width: 100%'\n",
       "        >\n",
       "            96\n",
       "        </progress>\n",
       "    "
      ],
      "text/plain": [
       "<IPython.core.display.HTML object>"
      ]
     },
     "metadata": {
      "tags": []
     },
     "output_type": "display_data"
    },
    {
     "name": "stdout",
     "output_type": "stream",
     "text": [
      "Train epoch 18 loss: 0.127 correct: 95.92\n"
     ]
    },
    {
     "data": {
      "text/html": [
       "\n",
       "        <progress\n",
       "            value='26'\n",
       "            max='26',\n",
       "            style='width: 100%'\n",
       "        >\n",
       "            26\n",
       "        </progress>\n",
       "    "
      ],
      "text/plain": [
       "<IPython.core.display.HTML object>"
      ]
     },
     "metadata": {
      "tags": []
     },
     "output_type": "display_data"
    },
    {
     "name": "stdout",
     "output_type": "stream",
     "text": [
      "Test epoch 18 loss: 0.104 correct: 97.02\n"
     ]
    },
    {
     "data": {
      "text/html": [
       "\n",
       "        <progress\n",
       "            value='96'\n",
       "            max='96',\n",
       "            style='width: 100%'\n",
       "        >\n",
       "            96\n",
       "        </progress>\n",
       "    "
      ],
      "text/plain": [
       "<IPython.core.display.HTML object>"
      ]
     },
     "metadata": {
      "tags": []
     },
     "output_type": "display_data"
    },
    {
     "name": "stdout",
     "output_type": "stream",
     "text": [
      "Train epoch 19 loss: 0.120 correct: 96.28\n"
     ]
    },
    {
     "data": {
      "text/html": [
       "\n",
       "        <progress\n",
       "            value='26'\n",
       "            max='26',\n",
       "            style='width: 100%'\n",
       "        >\n",
       "            26\n",
       "        </progress>\n",
       "    "
      ],
      "text/plain": [
       "<IPython.core.display.HTML object>"
      ]
     },
     "metadata": {
      "tags": []
     },
     "output_type": "display_data"
    },
    {
     "name": "stdout",
     "output_type": "stream",
     "text": [
      "Test epoch 19 loss: 0.104 correct: 96.53\n"
     ]
    },
    {
     "data": {
      "text/html": [
       "\n",
       "        <progress\n",
       "            value='96'\n",
       "            max='96',\n",
       "            style='width: 100%'\n",
       "        >\n",
       "            96\n",
       "        </progress>\n",
       "    "
      ],
      "text/plain": [
       "<IPython.core.display.HTML object>"
      ]
     },
     "metadata": {
      "tags": []
     },
     "output_type": "display_data"
    },
    {
     "name": "stdout",
     "output_type": "stream",
     "text": [
      "Train epoch 20 loss: 0.113 correct: 96.52\n"
     ]
    },
    {
     "data": {
      "text/html": [
       "\n",
       "        <progress\n",
       "            value='26'\n",
       "            max='26',\n",
       "            style='width: 100%'\n",
       "        >\n",
       "            26\n",
       "        </progress>\n",
       "    "
      ],
      "text/plain": [
       "<IPython.core.display.HTML object>"
      ]
     },
     "metadata": {
      "tags": []
     },
     "output_type": "display_data"
    },
    {
     "name": "stdout",
     "output_type": "stream",
     "text": [
      "Test epoch 20 loss: 0.092 correct: 96.99\n"
     ]
    },
    {
     "data": {
      "text/html": [
       "\n",
       "        <progress\n",
       "            value='96'\n",
       "            max='96',\n",
       "            style='width: 100%'\n",
       "        >\n",
       "            96\n",
       "        </progress>\n",
       "    "
      ],
      "text/plain": [
       "<IPython.core.display.HTML object>"
      ]
     },
     "metadata": {
      "tags": []
     },
     "output_type": "display_data"
    },
    {
     "name": "stdout",
     "output_type": "stream",
     "text": [
      "Train epoch 21 loss: 0.114 correct: 96.42\n"
     ]
    },
    {
     "data": {
      "text/html": [
       "\n",
       "        <progress\n",
       "            value='26'\n",
       "            max='26',\n",
       "            style='width: 100%'\n",
       "        >\n",
       "            26\n",
       "        </progress>\n",
       "    "
      ],
      "text/plain": [
       "<IPython.core.display.HTML object>"
      ]
     },
     "metadata": {
      "tags": []
     },
     "output_type": "display_data"
    },
    {
     "name": "stdout",
     "output_type": "stream",
     "text": [
      "Test epoch 21 loss: 0.089 correct: 97.05\n"
     ]
    },
    {
     "data": {
      "text/html": [
       "\n",
       "        <progress\n",
       "            value='96'\n",
       "            max='96',\n",
       "            style='width: 100%'\n",
       "        >\n",
       "            96\n",
       "        </progress>\n",
       "    "
      ],
      "text/plain": [
       "<IPython.core.display.HTML object>"
      ]
     },
     "metadata": {
      "tags": []
     },
     "output_type": "display_data"
    },
    {
     "name": "stdout",
     "output_type": "stream",
     "text": [
      "Train epoch 22 loss: 0.104 correct: 96.62\n"
     ]
    },
    {
     "data": {
      "text/html": [
       "\n",
       "        <progress\n",
       "            value='26'\n",
       "            max='26',\n",
       "            style='width: 100%'\n",
       "        >\n",
       "            26\n",
       "        </progress>\n",
       "    "
      ],
      "text/plain": [
       "<IPython.core.display.HTML object>"
      ]
     },
     "metadata": {
      "tags": []
     },
     "output_type": "display_data"
    },
    {
     "name": "stdout",
     "output_type": "stream",
     "text": [
      "Test epoch 22 loss: 0.142 correct: 95.47\n"
     ]
    },
    {
     "data": {
      "text/html": [
       "\n",
       "        <progress\n",
       "            value='96'\n",
       "            max='96',\n",
       "            style='width: 100%'\n",
       "        >\n",
       "            96\n",
       "        </progress>\n",
       "    "
      ],
      "text/plain": [
       "<IPython.core.display.HTML object>"
      ]
     },
     "metadata": {
      "tags": []
     },
     "output_type": "display_data"
    },
    {
     "name": "stdout",
     "output_type": "stream",
     "text": [
      "Train epoch 23 loss: 0.099 correct: 96.86\n"
     ]
    },
    {
     "data": {
      "text/html": [
       "\n",
       "        <progress\n",
       "            value='26'\n",
       "            max='26',\n",
       "            style='width: 100%'\n",
       "        >\n",
       "            26\n",
       "        </progress>\n",
       "    "
      ],
      "text/plain": [
       "<IPython.core.display.HTML object>"
      ]
     },
     "metadata": {
      "tags": []
     },
     "output_type": "display_data"
    },
    {
     "name": "stdout",
     "output_type": "stream",
     "text": [
      "Test epoch 23 loss: 0.083 correct: 97.26\n"
     ]
    },
    {
     "data": {
      "text/html": [
       "\n",
       "        <progress\n",
       "            value='96'\n",
       "            max='96',\n",
       "            style='width: 100%'\n",
       "        >\n",
       "            96\n",
       "        </progress>\n",
       "    "
      ],
      "text/plain": [
       "<IPython.core.display.HTML object>"
      ]
     },
     "metadata": {
      "tags": []
     },
     "output_type": "display_data"
    },
    {
     "name": "stdout",
     "output_type": "stream",
     "text": [
      "Train epoch 24 loss: 0.097 correct: 96.93\n"
     ]
    },
    {
     "data": {
      "text/html": [
       "\n",
       "        <progress\n",
       "            value='26'\n",
       "            max='26',\n",
       "            style='width: 100%'\n",
       "        >\n",
       "            26\n",
       "        </progress>\n",
       "    "
      ],
      "text/plain": [
       "<IPython.core.display.HTML object>"
      ]
     },
     "metadata": {
      "tags": []
     },
     "output_type": "display_data"
    },
    {
     "name": "stdout",
     "output_type": "stream",
     "text": [
      "Test epoch 24 loss: 0.081 correct: 97.33\n"
     ]
    },
    {
     "data": {
      "text/html": [
       "\n",
       "        <progress\n",
       "            value='96'\n",
       "            max='96',\n",
       "            style='width: 100%'\n",
       "        >\n",
       "            96\n",
       "        </progress>\n",
       "    "
      ],
      "text/plain": [
       "<IPython.core.display.HTML object>"
      ]
     },
     "metadata": {
      "tags": []
     },
     "output_type": "display_data"
    },
    {
     "name": "stdout",
     "output_type": "stream",
     "text": [
      "Train epoch 25 loss: 0.096 correct: 96.92\n"
     ]
    },
    {
     "data": {
      "text/html": [
       "\n",
       "        <progress\n",
       "            value='26'\n",
       "            max='26',\n",
       "            style='width: 100%'\n",
       "        >\n",
       "            26\n",
       "        </progress>\n",
       "    "
      ],
      "text/plain": [
       "<IPython.core.display.HTML object>"
      ]
     },
     "metadata": {
      "tags": []
     },
     "output_type": "display_data"
    },
    {
     "name": "stdout",
     "output_type": "stream",
     "text": [
      "Test epoch 25 loss: 0.086 correct: 97.60\n",
      "Best model in restart 1, saving\n"
     ]
    },
    {
     "data": {
      "text/html": [
       "\n",
       "        <progress\n",
       "            value='96'\n",
       "            max='96',\n",
       "            style='width: 100%'\n",
       "        >\n",
       "            96\n",
       "        </progress>\n",
       "    "
      ],
      "text/plain": [
       "<IPython.core.display.HTML object>"
      ]
     },
     "metadata": {
      "tags": []
     },
     "output_type": "display_data"
    },
    {
     "name": "stdout",
     "output_type": "stream",
     "text": [
      "Train epoch 26 loss: 0.095 correct: 97.02\n"
     ]
    },
    {
     "data": {
      "text/html": [
       "\n",
       "        <progress\n",
       "            value='26'\n",
       "            max='26',\n",
       "            style='width: 100%'\n",
       "        >\n",
       "            26\n",
       "        </progress>\n",
       "    "
      ],
      "text/plain": [
       "<IPython.core.display.HTML object>"
      ]
     },
     "metadata": {
      "tags": []
     },
     "output_type": "display_data"
    },
    {
     "name": "stdout",
     "output_type": "stream",
     "text": [
      "Test epoch 26 loss: 0.081 correct: 97.51\n"
     ]
    },
    {
     "data": {
      "text/html": [
       "\n",
       "        <progress\n",
       "            value='96'\n",
       "            max='96',\n",
       "            style='width: 100%'\n",
       "        >\n",
       "            96\n",
       "        </progress>\n",
       "    "
      ],
      "text/plain": [
       "<IPython.core.display.HTML object>"
      ]
     },
     "metadata": {
      "tags": []
     },
     "output_type": "display_data"
    },
    {
     "name": "stdout",
     "output_type": "stream",
     "text": [
      "Train epoch 27 loss: 0.091 correct: 97.18\n"
     ]
    },
    {
     "data": {
      "text/html": [
       "\n",
       "        <progress\n",
       "            value='26'\n",
       "            max='26',\n",
       "            style='width: 100%'\n",
       "        >\n",
       "            26\n",
       "        </progress>\n",
       "    "
      ],
      "text/plain": [
       "<IPython.core.display.HTML object>"
      ]
     },
     "metadata": {
      "tags": []
     },
     "output_type": "display_data"
    },
    {
     "name": "stdout",
     "output_type": "stream",
     "text": [
      "Test epoch 27 loss: 0.080 correct: 97.39\n"
     ]
    },
    {
     "data": {
      "text/html": [
       "\n",
       "        <progress\n",
       "            value='96'\n",
       "            max='96',\n",
       "            style='width: 100%'\n",
       "        >\n",
       "            96\n",
       "        </progress>\n",
       "    "
      ],
      "text/plain": [
       "<IPython.core.display.HTML object>"
      ]
     },
     "metadata": {
      "tags": []
     },
     "output_type": "display_data"
    },
    {
     "name": "stdout",
     "output_type": "stream",
     "text": [
      "Train epoch 28 loss: 0.085 correct: 97.36\n"
     ]
    },
    {
     "data": {
      "text/html": [
       "\n",
       "        <progress\n",
       "            value='26'\n",
       "            max='26',\n",
       "            style='width: 100%'\n",
       "        >\n",
       "            26\n",
       "        </progress>\n",
       "    "
      ],
      "text/plain": [
       "<IPython.core.display.HTML object>"
      ]
     },
     "metadata": {
      "tags": []
     },
     "output_type": "display_data"
    },
    {
     "name": "stdout",
     "output_type": "stream",
     "text": [
      "Test epoch 28 loss: 0.080 correct: 97.45\n"
     ]
    },
    {
     "data": {
      "text/html": [
       "\n",
       "        <progress\n",
       "            value='96'\n",
       "            max='96',\n",
       "            style='width: 100%'\n",
       "        >\n",
       "            96\n",
       "        </progress>\n",
       "    "
      ],
      "text/plain": [
       "<IPython.core.display.HTML object>"
      ]
     },
     "metadata": {
      "tags": []
     },
     "output_type": "display_data"
    },
    {
     "name": "stdout",
     "output_type": "stream",
     "text": [
      "Train epoch 29 loss: 0.088 correct: 97.10\n"
     ]
    },
    {
     "data": {
      "text/html": [
       "\n",
       "        <progress\n",
       "            value='26'\n",
       "            max='26',\n",
       "            style='width: 100%'\n",
       "        >\n",
       "            26\n",
       "        </progress>\n",
       "    "
      ],
      "text/plain": [
       "<IPython.core.display.HTML object>"
      ]
     },
     "metadata": {
      "tags": []
     },
     "output_type": "display_data"
    },
    {
     "name": "stdout",
     "output_type": "stream",
     "text": [
      "Test epoch 29 loss: 0.080 correct: 97.29\n"
     ]
    },
    {
     "data": {
      "text/html": [
       "\n",
       "        <progress\n",
       "            value='96'\n",
       "            max='96',\n",
       "            style='width: 100%'\n",
       "        >\n",
       "            96\n",
       "        </progress>\n",
       "    "
      ],
      "text/plain": [
       "<IPython.core.display.HTML object>"
      ]
     },
     "metadata": {
      "tags": []
     },
     "output_type": "display_data"
    },
    {
     "name": "stdout",
     "output_type": "stream",
     "text": [
      "Train epoch 30 loss: 0.084 correct: 97.33\n"
     ]
    },
    {
     "data": {
      "text/html": [
       "\n",
       "        <progress\n",
       "            value='26'\n",
       "            max='26',\n",
       "            style='width: 100%'\n",
       "        >\n",
       "            26\n",
       "        </progress>\n",
       "    "
      ],
      "text/plain": [
       "<IPython.core.display.HTML object>"
      ]
     },
     "metadata": {
      "tags": []
     },
     "output_type": "display_data"
    },
    {
     "name": "stdout",
     "output_type": "stream",
     "text": [
      "Test epoch 30 loss: 0.078 correct: 97.42\n"
     ]
    },
    {
     "data": {
      "text/html": [
       "\n",
       "        <progress\n",
       "            value='96'\n",
       "            max='96',\n",
       "            style='width: 100%'\n",
       "        >\n",
       "            96\n",
       "        </progress>\n",
       "    "
      ],
      "text/plain": [
       "<IPython.core.display.HTML object>"
      ]
     },
     "metadata": {
      "tags": []
     },
     "output_type": "display_data"
    },
    {
     "name": "stdout",
     "output_type": "stream",
     "text": [
      "Train epoch 31 loss: 0.084 correct: 97.40\n"
     ]
    },
    {
     "data": {
      "text/html": [
       "\n",
       "        <progress\n",
       "            value='26'\n",
       "            max='26',\n",
       "            style='width: 100%'\n",
       "        >\n",
       "            26\n",
       "        </progress>\n",
       "    "
      ],
      "text/plain": [
       "<IPython.core.display.HTML object>"
      ]
     },
     "metadata": {
      "tags": []
     },
     "output_type": "display_data"
    },
    {
     "name": "stdout",
     "output_type": "stream",
     "text": [
      "Test epoch 31 loss: 0.076 correct: 97.33\n",
      "Best model in restart 2, saving\n"
     ]
    },
    {
     "data": {
      "text/html": [
       "\n",
       "        <progress\n",
       "            value='96'\n",
       "            max='96',\n",
       "            style='width: 100%'\n",
       "        >\n",
       "            96\n",
       "        </progress>\n",
       "    "
      ],
      "text/plain": [
       "<IPython.core.display.HTML object>"
      ]
     },
     "metadata": {
      "tags": []
     },
     "output_type": "display_data"
    },
    {
     "name": "stdout",
     "output_type": "stream",
     "text": [
      "Train epoch 32 loss: 0.113 correct: 96.41\n"
     ]
    },
    {
     "data": {
      "text/html": [
       "\n",
       "        <progress\n",
       "            value='26'\n",
       "            max='26',\n",
       "            style='width: 100%'\n",
       "        >\n",
       "            26\n",
       "        </progress>\n",
       "    "
      ],
      "text/plain": [
       "<IPython.core.display.HTML object>"
      ]
     },
     "metadata": {
      "tags": []
     },
     "output_type": "display_data"
    },
    {
     "name": "stdout",
     "output_type": "stream",
     "text": [
      "Test epoch 32 loss: 0.096 correct: 96.96\n"
     ]
    },
    {
     "data": {
      "text/html": [
       "\n",
       "        <progress\n",
       "            value='96'\n",
       "            max='96',\n",
       "            style='width: 100%'\n",
       "        >\n",
       "            96\n",
       "        </progress>\n",
       "    "
      ],
      "text/plain": [
       "<IPython.core.display.HTML object>"
      ]
     },
     "metadata": {
      "tags": []
     },
     "output_type": "display_data"
    },
    {
     "name": "stdout",
     "output_type": "stream",
     "text": [
      "Train epoch 33 loss: 0.102 correct: 96.74\n"
     ]
    },
    {
     "data": {
      "text/html": [
       "\n",
       "        <progress\n",
       "            value='26'\n",
       "            max='26',\n",
       "            style='width: 100%'\n",
       "        >\n",
       "            26\n",
       "        </progress>\n",
       "    "
      ],
      "text/plain": [
       "<IPython.core.display.HTML object>"
      ]
     },
     "metadata": {
      "tags": []
     },
     "output_type": "display_data"
    },
    {
     "name": "stdout",
     "output_type": "stream",
     "text": [
      "Test epoch 33 loss: 0.124 correct: 95.68\n"
     ]
    },
    {
     "data": {
      "text/html": [
       "\n",
       "        <progress\n",
       "            value='96'\n",
       "            max='96',\n",
       "            style='width: 100%'\n",
       "        >\n",
       "            96\n",
       "        </progress>\n",
       "    "
      ],
      "text/plain": [
       "<IPython.core.display.HTML object>"
      ]
     },
     "metadata": {
      "tags": []
     },
     "output_type": "display_data"
    },
    {
     "name": "stdout",
     "output_type": "stream",
     "text": [
      "Train epoch 34 loss: 0.100 correct: 96.82\n"
     ]
    },
    {
     "data": {
      "text/html": [
       "\n",
       "        <progress\n",
       "            value='26'\n",
       "            max='26',\n",
       "            style='width: 100%'\n",
       "        >\n",
       "            26\n",
       "        </progress>\n",
       "    "
      ],
      "text/plain": [
       "<IPython.core.display.HTML object>"
      ]
     },
     "metadata": {
      "tags": []
     },
     "output_type": "display_data"
    },
    {
     "name": "stdout",
     "output_type": "stream",
     "text": [
      "Test epoch 34 loss: 0.081 correct: 97.36\n",
      "Best model in restart 2, saving\n"
     ]
    },
    {
     "data": {
      "text/html": [
       "\n",
       "        <progress\n",
       "            value='96'\n",
       "            max='96',\n",
       "            style='width: 100%'\n",
       "        >\n",
       "            96\n",
       "        </progress>\n",
       "    "
      ],
      "text/plain": [
       "<IPython.core.display.HTML object>"
      ]
     },
     "metadata": {
      "tags": []
     },
     "output_type": "display_data"
    },
    {
     "name": "stdout",
     "output_type": "stream",
     "text": [
      "Train epoch 35 loss: 0.098 correct: 96.86\n"
     ]
    },
    {
     "data": {
      "text/html": [
       "\n",
       "        <progress\n",
       "            value='26'\n",
       "            max='26',\n",
       "            style='width: 100%'\n",
       "        >\n",
       "            26\n",
       "        </progress>\n",
       "    "
      ],
      "text/plain": [
       "<IPython.core.display.HTML object>"
      ]
     },
     "metadata": {
      "tags": []
     },
     "output_type": "display_data"
    },
    {
     "name": "stdout",
     "output_type": "stream",
     "text": [
      "Test epoch 35 loss: 0.089 correct: 97.02\n"
     ]
    },
    {
     "data": {
      "text/html": [
       "\n",
       "        <progress\n",
       "            value='96'\n",
       "            max='96',\n",
       "            style='width: 100%'\n",
       "        >\n",
       "            96\n",
       "        </progress>\n",
       "    "
      ],
      "text/plain": [
       "<IPython.core.display.HTML object>"
      ]
     },
     "metadata": {
      "tags": []
     },
     "output_type": "display_data"
    },
    {
     "name": "stdout",
     "output_type": "stream",
     "text": [
      "Train epoch 36 loss: 0.095 correct: 96.96\n"
     ]
    },
    {
     "data": {
      "text/html": [
       "\n",
       "        <progress\n",
       "            value='26'\n",
       "            max='26',\n",
       "            style='width: 100%'\n",
       "        >\n",
       "            26\n",
       "        </progress>\n",
       "    "
      ],
      "text/plain": [
       "<IPython.core.display.HTML object>"
      ]
     },
     "metadata": {
      "tags": []
     },
     "output_type": "display_data"
    },
    {
     "name": "stdout",
     "output_type": "stream",
     "text": [
      "Test epoch 36 loss: 0.090 correct: 97.23\n"
     ]
    },
    {
     "data": {
      "text/html": [
       "\n",
       "        <progress\n",
       "            value='96'\n",
       "            max='96',\n",
       "            style='width: 100%'\n",
       "        >\n",
       "            96\n",
       "        </progress>\n",
       "    "
      ],
      "text/plain": [
       "<IPython.core.display.HTML object>"
      ]
     },
     "metadata": {
      "tags": []
     },
     "output_type": "display_data"
    },
    {
     "name": "stdout",
     "output_type": "stream",
     "text": [
      "Train epoch 37 loss: 0.091 correct: 97.01\n"
     ]
    },
    {
     "data": {
      "text/html": [
       "\n",
       "        <progress\n",
       "            value='26'\n",
       "            max='26',\n",
       "            style='width: 100%'\n",
       "        >\n",
       "            26\n",
       "        </progress>\n",
       "    "
      ],
      "text/plain": [
       "<IPython.core.display.HTML object>"
      ]
     },
     "metadata": {
      "tags": []
     },
     "output_type": "display_data"
    },
    {
     "name": "stdout",
     "output_type": "stream",
     "text": [
      "Test epoch 37 loss: 0.089 correct: 97.36\n"
     ]
    },
    {
     "data": {
      "text/html": [
       "\n",
       "        <progress\n",
       "            value='96'\n",
       "            max='96',\n",
       "            style='width: 100%'\n",
       "        >\n",
       "            96\n",
       "        </progress>\n",
       "    "
      ],
      "text/plain": [
       "<IPython.core.display.HTML object>"
      ]
     },
     "metadata": {
      "tags": []
     },
     "output_type": "display_data"
    },
    {
     "name": "stdout",
     "output_type": "stream",
     "text": [
      "Train epoch 38 loss: 0.089 correct: 97.18\n"
     ]
    },
    {
     "data": {
      "text/html": [
       "\n",
       "        <progress\n",
       "            value='26'\n",
       "            max='26',\n",
       "            style='width: 100%'\n",
       "        >\n",
       "            26\n",
       "        </progress>\n",
       "    "
      ],
      "text/plain": [
       "<IPython.core.display.HTML object>"
      ]
     },
     "metadata": {
      "tags": []
     },
     "output_type": "display_data"
    },
    {
     "name": "stdout",
     "output_type": "stream",
     "text": [
      "Test epoch 38 loss: 0.081 correct: 97.33\n"
     ]
    },
    {
     "data": {
      "text/html": [
       "\n",
       "        <progress\n",
       "            value='96'\n",
       "            max='96',\n",
       "            style='width: 100%'\n",
       "        >\n",
       "            96\n",
       "        </progress>\n",
       "    "
      ],
      "text/plain": [
       "<IPython.core.display.HTML object>"
      ]
     },
     "metadata": {
      "tags": []
     },
     "output_type": "display_data"
    },
    {
     "name": "stdout",
     "output_type": "stream",
     "text": [
      "Train epoch 39 loss: 0.094 correct: 97.06\n"
     ]
    },
    {
     "data": {
      "text/html": [
       "\n",
       "        <progress\n",
       "            value='26'\n",
       "            max='26',\n",
       "            style='width: 100%'\n",
       "        >\n",
       "            26\n",
       "        </progress>\n",
       "    "
      ],
      "text/plain": [
       "<IPython.core.display.HTML object>"
      ]
     },
     "metadata": {
      "tags": []
     },
     "output_type": "display_data"
    },
    {
     "name": "stdout",
     "output_type": "stream",
     "text": [
      "Test epoch 39 loss: 0.080 correct: 97.39\n",
      "Best model in restart 2, saving\n"
     ]
    },
    {
     "data": {
      "text/html": [
       "\n",
       "        <progress\n",
       "            value='96'\n",
       "            max='96',\n",
       "            style='width: 100%'\n",
       "        >\n",
       "            96\n",
       "        </progress>\n",
       "    "
      ],
      "text/plain": [
       "<IPython.core.display.HTML object>"
      ]
     },
     "metadata": {
      "tags": []
     },
     "output_type": "display_data"
    },
    {
     "name": "stdout",
     "output_type": "stream",
     "text": [
      "Train epoch 40 loss: 0.088 correct: 97.31\n"
     ]
    },
    {
     "data": {
      "text/html": [
       "\n",
       "        <progress\n",
       "            value='26'\n",
       "            max='26',\n",
       "            style='width: 100%'\n",
       "        >\n",
       "            26\n",
       "        </progress>\n",
       "    "
      ],
      "text/plain": [
       "<IPython.core.display.HTML object>"
      ]
     },
     "metadata": {
      "tags": []
     },
     "output_type": "display_data"
    },
    {
     "name": "stdout",
     "output_type": "stream",
     "text": [
      "Test epoch 40 loss: 0.080 correct: 97.39\n"
     ]
    },
    {
     "data": {
      "text/html": [
       "\n",
       "        <progress\n",
       "            value='96'\n",
       "            max='96',\n",
       "            style='width: 100%'\n",
       "        >\n",
       "            96\n",
       "        </progress>\n",
       "    "
      ],
      "text/plain": [
       "<IPython.core.display.HTML object>"
      ]
     },
     "metadata": {
      "tags": []
     },
     "output_type": "display_data"
    },
    {
     "name": "stdout",
     "output_type": "stream",
     "text": [
      "Train epoch 41 loss: 0.082 correct: 97.27\n"
     ]
    },
    {
     "data": {
      "text/html": [
       "\n",
       "        <progress\n",
       "            value='26'\n",
       "            max='26',\n",
       "            style='width: 100%'\n",
       "        >\n",
       "            26\n",
       "        </progress>\n",
       "    "
      ],
      "text/plain": [
       "<IPython.core.display.HTML object>"
      ]
     },
     "metadata": {
      "tags": []
     },
     "output_type": "display_data"
    },
    {
     "name": "stdout",
     "output_type": "stream",
     "text": [
      "Test epoch 41 loss: 0.078 correct: 97.45\n",
      "Best model in restart 2, saving\n"
     ]
    },
    {
     "data": {
      "text/html": [
       "\n",
       "        <progress\n",
       "            value='96'\n",
       "            max='96',\n",
       "            style='width: 100%'\n",
       "        >\n",
       "            96\n",
       "        </progress>\n",
       "    "
      ],
      "text/plain": [
       "<IPython.core.display.HTML object>"
      ]
     },
     "metadata": {
      "tags": []
     },
     "output_type": "display_data"
    },
    {
     "name": "stdout",
     "output_type": "stream",
     "text": [
      "Train epoch 42 loss: 0.081 correct: 97.45\n"
     ]
    },
    {
     "data": {
      "text/html": [
       "\n",
       "        <progress\n",
       "            value='26'\n",
       "            max='26',\n",
       "            style='width: 100%'\n",
       "        >\n",
       "            26\n",
       "        </progress>\n",
       "    "
      ],
      "text/plain": [
       "<IPython.core.display.HTML object>"
      ]
     },
     "metadata": {
      "tags": []
     },
     "output_type": "display_data"
    },
    {
     "name": "stdout",
     "output_type": "stream",
     "text": [
      "Test epoch 42 loss: 0.082 correct: 97.39\n"
     ]
    },
    {
     "data": {
      "text/html": [
       "\n",
       "        <progress\n",
       "            value='96'\n",
       "            max='96',\n",
       "            style='width: 100%'\n",
       "        >\n",
       "            96\n",
       "        </progress>\n",
       "    "
      ],
      "text/plain": [
       "<IPython.core.display.HTML object>"
      ]
     },
     "metadata": {
      "tags": []
     },
     "output_type": "display_data"
    },
    {
     "name": "stdout",
     "output_type": "stream",
     "text": [
      "Train epoch 43 loss: 0.080 correct: 97.39\n"
     ]
    },
    {
     "data": {
      "text/html": [
       "\n",
       "        <progress\n",
       "            value='26'\n",
       "            max='26',\n",
       "            style='width: 100%'\n",
       "        >\n",
       "            26\n",
       "        </progress>\n",
       "    "
      ],
      "text/plain": [
       "<IPython.core.display.HTML object>"
      ]
     },
     "metadata": {
      "tags": []
     },
     "output_type": "display_data"
    },
    {
     "name": "stdout",
     "output_type": "stream",
     "text": [
      "Test epoch 43 loss: 0.078 correct: 97.51\n",
      "Best model in restart 2, saving\n"
     ]
    },
    {
     "data": {
      "text/html": [
       "\n",
       "        <progress\n",
       "            value='96'\n",
       "            max='96',\n",
       "            style='width: 100%'\n",
       "        >\n",
       "            96\n",
       "        </progress>\n",
       "    "
      ],
      "text/plain": [
       "<IPython.core.display.HTML object>"
      ]
     },
     "metadata": {
      "tags": []
     },
     "output_type": "display_data"
    },
    {
     "name": "stdout",
     "output_type": "stream",
     "text": [
      "Train epoch 44 loss: 0.081 correct: 97.46\n"
     ]
    },
    {
     "data": {
      "text/html": [
       "\n",
       "        <progress\n",
       "            value='26'\n",
       "            max='26',\n",
       "            style='width: 100%'\n",
       "        >\n",
       "            26\n",
       "        </progress>\n",
       "    "
      ],
      "text/plain": [
       "<IPython.core.display.HTML object>"
      ]
     },
     "metadata": {
      "tags": []
     },
     "output_type": "display_data"
    },
    {
     "name": "stdout",
     "output_type": "stream",
     "text": [
      "Test epoch 44 loss: 0.079 correct: 97.33\n"
     ]
    },
    {
     "data": {
      "text/html": [
       "\n",
       "        <progress\n",
       "            value='96'\n",
       "            max='96',\n",
       "            style='width: 100%'\n",
       "        >\n",
       "            96\n",
       "        </progress>\n",
       "    "
      ],
      "text/plain": [
       "<IPython.core.display.HTML object>"
      ]
     },
     "metadata": {
      "tags": []
     },
     "output_type": "display_data"
    },
    {
     "name": "stdout",
     "output_type": "stream",
     "text": [
      "Train epoch 45 loss: 0.078 correct: 97.55\n"
     ]
    },
    {
     "data": {
      "text/html": [
       "\n",
       "        <progress\n",
       "            value='26'\n",
       "            max='26',\n",
       "            style='width: 100%'\n",
       "        >\n",
       "            26\n",
       "        </progress>\n",
       "    "
      ],
      "text/plain": [
       "<IPython.core.display.HTML object>"
      ]
     },
     "metadata": {
      "tags": []
     },
     "output_type": "display_data"
    },
    {
     "name": "stdout",
     "output_type": "stream",
     "text": [
      "Test epoch 45 loss: 0.077 correct: 97.45\n"
     ]
    },
    {
     "data": {
      "text/html": [
       "\n",
       "        <progress\n",
       "            value='96'\n",
       "            max='96',\n",
       "            style='width: 100%'\n",
       "        >\n",
       "            96\n",
       "        </progress>\n",
       "    "
      ],
      "text/plain": [
       "<IPython.core.display.HTML object>"
      ]
     },
     "metadata": {
      "tags": []
     },
     "output_type": "display_data"
    },
    {
     "name": "stdout",
     "output_type": "stream",
     "text": [
      "Train epoch 46 loss: 0.078 correct: 97.58\n"
     ]
    },
    {
     "data": {
      "text/html": [
       "\n",
       "        <progress\n",
       "            value='26'\n",
       "            max='26',\n",
       "            style='width: 100%'\n",
       "        >\n",
       "            26\n",
       "        </progress>\n",
       "    "
      ],
      "text/plain": [
       "<IPython.core.display.HTML object>"
      ]
     },
     "metadata": {
      "tags": []
     },
     "output_type": "display_data"
    },
    {
     "name": "stdout",
     "output_type": "stream",
     "text": [
      "Test epoch 46 loss: 0.077 correct: 97.51\n",
      "Best model in restart 3, saving\n"
     ]
    },
    {
     "data": {
      "text/html": [
       "\n",
       "        <progress\n",
       "            value='96'\n",
       "            max='96',\n",
       "            style='width: 100%'\n",
       "        >\n",
       "            96\n",
       "        </progress>\n",
       "    "
      ],
      "text/plain": [
       "<IPython.core.display.HTML object>"
      ]
     },
     "metadata": {
      "tags": []
     },
     "output_type": "display_data"
    },
    {
     "name": "stdout",
     "output_type": "stream",
     "text": [
      "Train epoch 47 loss: 0.107 correct: 96.52\n"
     ]
    },
    {
     "data": {
      "text/html": [
       "\n",
       "        <progress\n",
       "            value='26'\n",
       "            max='26',\n",
       "            style='width: 100%'\n",
       "        >\n",
       "            26\n",
       "        </progress>\n",
       "    "
      ],
      "text/plain": [
       "<IPython.core.display.HTML object>"
      ]
     },
     "metadata": {
      "tags": []
     },
     "output_type": "display_data"
    },
    {
     "name": "stdout",
     "output_type": "stream",
     "text": [
      "Test epoch 47 loss: 0.100 correct: 97.02\n"
     ]
    },
    {
     "data": {
      "text/html": [
       "\n",
       "        <progress\n",
       "            value='96'\n",
       "            max='96',\n",
       "            style='width: 100%'\n",
       "        >\n",
       "            96\n",
       "        </progress>\n",
       "    "
      ],
      "text/plain": [
       "<IPython.core.display.HTML object>"
      ]
     },
     "metadata": {
      "tags": []
     },
     "output_type": "display_data"
    },
    {
     "name": "stdout",
     "output_type": "stream",
     "text": [
      "Train epoch 48 loss: 0.099 correct: 96.83\n"
     ]
    },
    {
     "data": {
      "text/html": [
       "\n",
       "        <progress\n",
       "            value='26'\n",
       "            max='26',\n",
       "            style='width: 100%'\n",
       "        >\n",
       "            26\n",
       "        </progress>\n",
       "    "
      ],
      "text/plain": [
       "<IPython.core.display.HTML object>"
      ]
     },
     "metadata": {
      "tags": []
     },
     "output_type": "display_data"
    },
    {
     "name": "stdout",
     "output_type": "stream",
     "text": [
      "Test epoch 48 loss: 0.105 correct: 96.66\n"
     ]
    },
    {
     "data": {
      "text/html": [
       "\n",
       "        <progress\n",
       "            value='96'\n",
       "            max='96',\n",
       "            style='width: 100%'\n",
       "        >\n",
       "            96\n",
       "        </progress>\n",
       "    "
      ],
      "text/plain": [
       "<IPython.core.display.HTML object>"
      ]
     },
     "metadata": {
      "tags": []
     },
     "output_type": "display_data"
    },
    {
     "name": "stdout",
     "output_type": "stream",
     "text": [
      "Train epoch 49 loss: 0.093 correct: 97.05\n"
     ]
    },
    {
     "data": {
      "text/html": [
       "\n",
       "        <progress\n",
       "            value='26'\n",
       "            max='26',\n",
       "            style='width: 100%'\n",
       "        >\n",
       "            26\n",
       "        </progress>\n",
       "    "
      ],
      "text/plain": [
       "<IPython.core.display.HTML object>"
      ]
     },
     "metadata": {
      "tags": []
     },
     "output_type": "display_data"
    },
    {
     "name": "stdout",
     "output_type": "stream",
     "text": [
      "Test epoch 49 loss: 0.080 correct: 97.36\n"
     ]
    },
    {
     "data": {
      "text/html": [
       "\n",
       "        <progress\n",
       "            value='96'\n",
       "            max='96',\n",
       "            style='width: 100%'\n",
       "        >\n",
       "            96\n",
       "        </progress>\n",
       "    "
      ],
      "text/plain": [
       "<IPython.core.display.HTML object>"
      ]
     },
     "metadata": {
      "tags": []
     },
     "output_type": "display_data"
    },
    {
     "name": "stdout",
     "output_type": "stream",
     "text": [
      "Train epoch 50 loss: 0.091 correct: 97.12\n"
     ]
    },
    {
     "data": {
      "text/html": [
       "\n",
       "        <progress\n",
       "            value='26'\n",
       "            max='26',\n",
       "            style='width: 100%'\n",
       "        >\n",
       "            26\n",
       "        </progress>\n",
       "    "
      ],
      "text/plain": [
       "<IPython.core.display.HTML object>"
      ]
     },
     "metadata": {
      "tags": []
     },
     "output_type": "display_data"
    },
    {
     "name": "stdout",
     "output_type": "stream",
     "text": [
      "Test epoch 50 loss: 0.092 correct: 97.08\n"
     ]
    },
    {
     "data": {
      "text/html": [
       "\n",
       "        <progress\n",
       "            value='96'\n",
       "            max='96',\n",
       "            style='width: 100%'\n",
       "        >\n",
       "            96\n",
       "        </progress>\n",
       "    "
      ],
      "text/plain": [
       "<IPython.core.display.HTML object>"
      ]
     },
     "metadata": {
      "tags": []
     },
     "output_type": "display_data"
    },
    {
     "name": "stdout",
     "output_type": "stream",
     "text": [
      "Train epoch 51 loss: 0.095 correct: 96.97\n"
     ]
    },
    {
     "data": {
      "text/html": [
       "\n",
       "        <progress\n",
       "            value='26'\n",
       "            max='26',\n",
       "            style='width: 100%'\n",
       "        >\n",
       "            26\n",
       "        </progress>\n",
       "    "
      ],
      "text/plain": [
       "<IPython.core.display.HTML object>"
      ]
     },
     "metadata": {
      "tags": []
     },
     "output_type": "display_data"
    },
    {
     "name": "stdout",
     "output_type": "stream",
     "text": [
      "Test epoch 51 loss: 0.097 correct: 97.05\n"
     ]
    },
    {
     "data": {
      "text/html": [
       "\n",
       "        <progress\n",
       "            value='96'\n",
       "            max='96',\n",
       "            style='width: 100%'\n",
       "        >\n",
       "            96\n",
       "        </progress>\n",
       "    "
      ],
      "text/plain": [
       "<IPython.core.display.HTML object>"
      ]
     },
     "metadata": {
      "tags": []
     },
     "output_type": "display_data"
    },
    {
     "name": "stdout",
     "output_type": "stream",
     "text": [
      "Train epoch 52 loss: 0.092 correct: 97.04\n"
     ]
    },
    {
     "data": {
      "text/html": [
       "\n",
       "        <progress\n",
       "            value='26'\n",
       "            max='26',\n",
       "            style='width: 100%'\n",
       "        >\n",
       "            26\n",
       "        </progress>\n",
       "    "
      ],
      "text/plain": [
       "<IPython.core.display.HTML object>"
      ]
     },
     "metadata": {
      "tags": []
     },
     "output_type": "display_data"
    },
    {
     "name": "stdout",
     "output_type": "stream",
     "text": [
      "Test epoch 52 loss: 0.080 correct: 97.36\n"
     ]
    },
    {
     "data": {
      "text/html": [
       "\n",
       "        <progress\n",
       "            value='96'\n",
       "            max='96',\n",
       "            style='width: 100%'\n",
       "        >\n",
       "            96\n",
       "        </progress>\n",
       "    "
      ],
      "text/plain": [
       "<IPython.core.display.HTML object>"
      ]
     },
     "metadata": {
      "tags": []
     },
     "output_type": "display_data"
    },
    {
     "name": "stdout",
     "output_type": "stream",
     "text": [
      "Train epoch 53 loss: 0.089 correct: 97.17\n"
     ]
    },
    {
     "data": {
      "text/html": [
       "\n",
       "        <progress\n",
       "            value='26'\n",
       "            max='26',\n",
       "            style='width: 100%'\n",
       "        >\n",
       "            26\n",
       "        </progress>\n",
       "    "
      ],
      "text/plain": [
       "<IPython.core.display.HTML object>"
      ]
     },
     "metadata": {
      "tags": []
     },
     "output_type": "display_data"
    },
    {
     "name": "stdout",
     "output_type": "stream",
     "text": [
      "Test epoch 53 loss: 0.077 correct: 97.36\n"
     ]
    },
    {
     "data": {
      "text/html": [
       "\n",
       "        <progress\n",
       "            value='96'\n",
       "            max='96',\n",
       "            style='width: 100%'\n",
       "        >\n",
       "            96\n",
       "        </progress>\n",
       "    "
      ],
      "text/plain": [
       "<IPython.core.display.HTML object>"
      ]
     },
     "metadata": {
      "tags": []
     },
     "output_type": "display_data"
    },
    {
     "name": "stdout",
     "output_type": "stream",
     "text": [
      "Train epoch 54 loss: 0.088 correct: 97.23\n"
     ]
    },
    {
     "data": {
      "text/html": [
       "\n",
       "        <progress\n",
       "            value='26'\n",
       "            max='26',\n",
       "            style='width: 100%'\n",
       "        >\n",
       "            26\n",
       "        </progress>\n",
       "    "
      ],
      "text/plain": [
       "<IPython.core.display.HTML object>"
      ]
     },
     "metadata": {
      "tags": []
     },
     "output_type": "display_data"
    },
    {
     "name": "stdout",
     "output_type": "stream",
     "text": [
      "Test epoch 54 loss: 0.076 correct: 97.66\n",
      "Best model in restart 3, saving\n"
     ]
    },
    {
     "data": {
      "text/html": [
       "\n",
       "        <progress\n",
       "            value='96'\n",
       "            max='96',\n",
       "            style='width: 100%'\n",
       "        >\n",
       "            96\n",
       "        </progress>\n",
       "    "
      ],
      "text/plain": [
       "<IPython.core.display.HTML object>"
      ]
     },
     "metadata": {
      "tags": []
     },
     "output_type": "display_data"
    },
    {
     "name": "stdout",
     "output_type": "stream",
     "text": [
      "Train epoch 55 loss: 0.080 correct: 97.32\n"
     ]
    },
    {
     "data": {
      "text/html": [
       "\n",
       "        <progress\n",
       "            value='26'\n",
       "            max='26',\n",
       "            style='width: 100%'\n",
       "        >\n",
       "            26\n",
       "        </progress>\n",
       "    "
      ],
      "text/plain": [
       "<IPython.core.display.HTML object>"
      ]
     },
     "metadata": {
      "tags": []
     },
     "output_type": "display_data"
    },
    {
     "name": "stdout",
     "output_type": "stream",
     "text": [
      "Test epoch 55 loss: 0.078 correct: 97.05\n"
     ]
    },
    {
     "data": {
      "text/html": [
       "\n",
       "        <progress\n",
       "            value='96'\n",
       "            max='96',\n",
       "            style='width: 100%'\n",
       "        >\n",
       "            96\n",
       "        </progress>\n",
       "    "
      ],
      "text/plain": [
       "<IPython.core.display.HTML object>"
      ]
     },
     "metadata": {
      "tags": []
     },
     "output_type": "display_data"
    },
    {
     "name": "stdout",
     "output_type": "stream",
     "text": [
      "Train epoch 56 loss: 0.082 correct: 97.34\n"
     ]
    },
    {
     "data": {
      "text/html": [
       "\n",
       "        <progress\n",
       "            value='26'\n",
       "            max='26',\n",
       "            style='width: 100%'\n",
       "        >\n",
       "            26\n",
       "        </progress>\n",
       "    "
      ],
      "text/plain": [
       "<IPython.core.display.HTML object>"
      ]
     },
     "metadata": {
      "tags": []
     },
     "output_type": "display_data"
    },
    {
     "name": "stdout",
     "output_type": "stream",
     "text": [
      "Test epoch 56 loss: 0.085 correct: 97.29\n"
     ]
    },
    {
     "data": {
      "text/html": [
       "\n",
       "        <progress\n",
       "            value='96'\n",
       "            max='96',\n",
       "            style='width: 100%'\n",
       "        >\n",
       "            96\n",
       "        </progress>\n",
       "    "
      ],
      "text/plain": [
       "<IPython.core.display.HTML object>"
      ]
     },
     "metadata": {
      "tags": []
     },
     "output_type": "display_data"
    },
    {
     "name": "stdout",
     "output_type": "stream",
     "text": [
      "Train epoch 57 loss: 0.079 correct: 97.43\n"
     ]
    },
    {
     "data": {
      "text/html": [
       "\n",
       "        <progress\n",
       "            value='26'\n",
       "            max='26',\n",
       "            style='width: 100%'\n",
       "        >\n",
       "            26\n",
       "        </progress>\n",
       "    "
      ],
      "text/plain": [
       "<IPython.core.display.HTML object>"
      ]
     },
     "metadata": {
      "tags": []
     },
     "output_type": "display_data"
    },
    {
     "name": "stdout",
     "output_type": "stream",
     "text": [
      "Test epoch 57 loss: 0.080 correct: 97.11\n"
     ]
    },
    {
     "data": {
      "text/html": [
       "\n",
       "        <progress\n",
       "            value='96'\n",
       "            max='96',\n",
       "            style='width: 100%'\n",
       "        >\n",
       "            96\n",
       "        </progress>\n",
       "    "
      ],
      "text/plain": [
       "<IPython.core.display.HTML object>"
      ]
     },
     "metadata": {
      "tags": []
     },
     "output_type": "display_data"
    },
    {
     "name": "stdout",
     "output_type": "stream",
     "text": [
      "Train epoch 58 loss: 0.075 correct: 97.60\n"
     ]
    },
    {
     "data": {
      "text/html": [
       "\n",
       "        <progress\n",
       "            value='26'\n",
       "            max='26',\n",
       "            style='width: 100%'\n",
       "        >\n",
       "            26\n",
       "        </progress>\n",
       "    "
      ],
      "text/plain": [
       "<IPython.core.display.HTML object>"
      ]
     },
     "metadata": {
      "tags": []
     },
     "output_type": "display_data"
    },
    {
     "name": "stdout",
     "output_type": "stream",
     "text": [
      "Test epoch 58 loss: 0.078 correct: 97.33\n"
     ]
    },
    {
     "data": {
      "text/html": [
       "\n",
       "        <progress\n",
       "            value='96'\n",
       "            max='96',\n",
       "            style='width: 100%'\n",
       "        >\n",
       "            96\n",
       "        </progress>\n",
       "    "
      ],
      "text/plain": [
       "<IPython.core.display.HTML object>"
      ]
     },
     "metadata": {
      "tags": []
     },
     "output_type": "display_data"
    },
    {
     "name": "stdout",
     "output_type": "stream",
     "text": [
      "Train epoch 59 loss: 0.077 correct: 97.50\n"
     ]
    },
    {
     "data": {
      "text/html": [
       "\n",
       "        <progress\n",
       "            value='26'\n",
       "            max='26',\n",
       "            style='width: 100%'\n",
       "        >\n",
       "            26\n",
       "        </progress>\n",
       "    "
      ],
      "text/plain": [
       "<IPython.core.display.HTML object>"
      ]
     },
     "metadata": {
      "tags": []
     },
     "output_type": "display_data"
    },
    {
     "name": "stdout",
     "output_type": "stream",
     "text": [
      "Test epoch 59 loss: 0.073 correct: 97.48\n"
     ]
    },
    {
     "data": {
      "text/html": [
       "\n",
       "        <progress\n",
       "            value='96'\n",
       "            max='96',\n",
       "            style='width: 100%'\n",
       "        >\n",
       "            96\n",
       "        </progress>\n",
       "    "
      ],
      "text/plain": [
       "<IPython.core.display.HTML object>"
      ]
     },
     "metadata": {
      "tags": []
     },
     "output_type": "display_data"
    },
    {
     "name": "stdout",
     "output_type": "stream",
     "text": [
      "Train epoch 60 loss: 0.075 correct: 97.60\n"
     ]
    },
    {
     "data": {
      "text/html": [
       "\n",
       "        <progress\n",
       "            value='26'\n",
       "            max='26',\n",
       "            style='width: 100%'\n",
       "        >\n",
       "            26\n",
       "        </progress>\n",
       "    "
      ],
      "text/plain": [
       "<IPython.core.display.HTML object>"
      ]
     },
     "metadata": {
      "tags": []
     },
     "output_type": "display_data"
    },
    {
     "name": "stdout",
     "output_type": "stream",
     "text": [
      "Test epoch 60 loss: 0.075 correct: 97.51\n",
      "Finished Training\n"
     ]
    },
    {
     "data": {
      "image/png": "[encoded data removed]",
      "text/plain": [
       "<Figure size 432x288 with 1 Axes>"
      ]
     },
     "metadata": {
      "tags": []
     },
     "output_type": "display_data"
    },
    {
     "data": {
      "image/png": "[encoded data removed]",
      "text/plain": [
       "<Figure size 432x288 with 1 Axes>"
      ]
     },
     "metadata": {
      "tags": []
     },
     "output_type": "display_data"
    }
   ],
   "source": [
    "import torch.optim as optim\n",
    "from torch.optim import lr_scheduler\n",
    "\n",
    "%matplotlib inline\n",
    "import matplotlib\n",
    "import matplotlib.pyplot as plt\n",
    "\n",
    "# Makes multiple runs comparable\n",
    "torch.manual_seed(42)\n",
    "if haveCuda:\n",
    "  torch.cuda.manual_seed(42)\n",
    "  torch.backends.cudnn.deterministic = True\n",
    "  torch.backends.cudnn.benchmark = False\n",
    "\n",
    "net = ConvNet(8)\n",
    "if haveCuda:\n",
    "  net = net.cuda()\n",
    "\n",
    "# Loss, and optimizer\n",
    "criterion = nn.CrossEntropyLoss()\n",
    "optimizer = optim.SGD(net.parameters(), lr=0.1, momentum=0.9,\n",
    "                      nesterov=True, weight_decay=1e-4)\n",
    "\n",
    "# Create LR cheduler\n",
    "scheduler = lr_scheduler.CosineAnnealingLR(optimizer,15,eta_min=1e-2)\n",
    "\n",
    "# Epoch counter\n",
    "numRest = 4\n",
    "numEpoch = 15\n",
    "\n",
    "trLosses = []\n",
    "trAccs = []\n",
    "valLosses = []\n",
    "valAccs = []\n",
    "\n",
    "restarts = -1\n",
    "bestAccs = torch.zeros(numRest)\n",
    "\n",
    "for epoch in range(numEpoch*numRest):\n",
    "  \n",
    "  # Every numEpoch epochs reset the sceduler\n",
    "  currEp = None\n",
    "  if (epoch % numEpoch) == 0:\n",
    "    currEp = 0\n",
    "    restarts += 1\n",
    "\n",
    "  # Call train and val\n",
    "  tr_loss,tr_corr = train(epoch)\n",
    "  val_loss,val_corr = val(epoch)\n",
    "\n",
    "  # Step with the scheduler\n",
    "  scheduler.step(epoch=currEp)\n",
    "  \n",
    "  trLosses.append(tr_loss)\n",
    "  trAccs.append(tr_corr)\n",
    "  valLosses.append(val_loss)\n",
    "  valAccs.append(val_corr)\n",
    "  \n",
    "  if bestAccs[restarts] < val_corr:\n",
    "    bestAccs[restarts] = val_corr\n",
    "    print(\"Best model in restart %d, saving\" % restarts)\n",
    "    torch.save(net,('/model%d.pth' % restarts))\n",
    "\n",
    "# Finished\n",
    "print('Finished Training')\n",
    "plt.plot(trLosses)\n",
    "plt.plot(valLosses)\n",
    "plt.show()\n",
    "plt.plot(trAccs)\n",
    "plt.plot(valAccs)\n",
    "plt.show()"
   ]
  },
  {
   "cell_type": "markdown",
   "metadata": {
    "colab_type": "text",
    "id": "iBKfUyW8y-mD"
   },
   "source": [
    "## Validáció ensemble segítségével"
   ]
  },
  {
   "cell_type": "code",
   "execution_count": 19,
   "metadata": {
    "colab": {
     "base_uri": "https://localhost:8080/",
     "height": 136
    },
    "colab_type": "code",
    "executionInfo": {
     "elapsed": 2627,
     "status": "ok",
     "timestamp": 1580804694555,
     "user": {
      "displayName": "Márton Szemenyei",
      "photoUrl": "https://lh3.googleusercontent.com/a-/AAuE7mAc8dCePU7Sl-30CxlO-gznhT5oQGC-p4sH7g2b8_c=s64",
      "userId": "10031764366786993279"
     },
     "user_tz": -60
    },
    "id": "enWAbQQbzB43",
    "outputId": "20236d43-b871-4f49-9041-cd6b08e3f33a"
   },
   "outputs": [
    {
     "data": {
      "text/html": [
       "\n",
       "        <progress\n",
       "            value='26'\n",
       "            max='26',\n",
       "            style='width: 100%'\n",
       "        >\n",
       "            26\n",
       "        </progress>\n",
       "    "
      ],
      "text/plain": [
       "<IPython.core.display.HTML object>"
      ]
     },
     "metadata": {
      "tags": []
     },
     "output_type": "display_data"
    },
    {
     "name": "stdout",
     "output_type": "stream",
     "text": [
      "Test finished loss: 22.245 correct: 97.78\n",
      "tensor([[653.,   0.,   0.,   0.,   5.],\n",
      "        [  0., 657.,   1.,   0.,   0.],\n",
      "        [  0.,   0., 656.,   1.,   1.],\n",
      "        [  0.,   0.,   0., 658.,   0.],\n",
      "        [ 63.,   0.,   2.,   0., 593.]])\n"
     ]
    }
   ],
   "source": [
    "accs = bestAccs\n",
    "modelNum = 4\n",
    "net = []\n",
    "for i in range(modelNum):\n",
    "  net.append( ConvNet(8).cuda() )\n",
    "  state_dict = torch.load((\"/model%d.pth\" % i)).state_dict()\n",
    "  net[i].load_state_dict(state_dict)\n",
    "  net[i].eval()\n",
    "  \n",
    "conf = torch.zeros(5,5)\n",
    "running_loss = 0.0\n",
    "correct = 0.0\n",
    "total = 0\n",
    "\n",
    "# Create progress bar\n",
    "bar = display(progress(0, len(testLoader)), display_id=True)\n",
    "\n",
    "# Epoch loop\n",
    "for i, data in enumerate(testLoader, 0):\n",
    "  # get the inputs\n",
    "  inputs, labels = data\n",
    "\n",
    "  # Convert to cuda conditionally\n",
    "  if haveCuda:\n",
    "      inputs, labels = inputs.cuda(), labels.cuda()\n",
    "\n",
    "  # forward\n",
    "  outputs = accs[0]*net[0](inputs)\n",
    "  for j in range(modelNum-1):\n",
    "    outputs += accs[j+1]*net[j+1](inputs)\n",
    "  loss = criterion(outputs, labels)\n",
    "\n",
    "  # compute statistics\n",
    "  running_loss += loss.item()\n",
    "  _, predicted = torch.max(outputs, 1)\n",
    "  total += labels.size(0)\n",
    "  correct += predicted.eq(labels).sum().item()\n",
    "  for label,pred in zip (labels,predicted):\n",
    "    conf[label,pred] += 1\n",
    "\n",
    "  # Update progress bar\n",
    "  bar.update(progress(i+1, len(testLoader)))\n",
    "\n",
    "val_loss = running_loss / len(testLoader)\n",
    "val_corr = correct / total * 100\n",
    "print(\"Test finished loss: %.3f correct: %.2f\" % (val_loss, val_corr))\n",
    "print(conf)"
   ]
  }
 ],
 "metadata": {
  "accelerator": "GPU",
  "colab": {
   "collapsed_sections": [],
   "name": "Labor3.ipynb",
   "provenance": []
  },
  "kernelspec": {
   "display_name": "Python 3",
   "language": "python",
   "name": "python3"
  },
  "language_info": {
   "codemirror_mode": {
    "name": "ipython",
    "version": 3
   },
   "file_extension": ".py",
   "mimetype": "text/x-python",
   "name": "python",
   "nbconvert_exporter": "python",
   "pygments_lexer": "ipython3",
   "version": "3.7.3"
  }
 },
 "nbformat": 4,
 "nbformat_minor": 1
}
